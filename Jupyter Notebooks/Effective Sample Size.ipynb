{
 "cells": [
  {
   "cell_type": "markdown",
   "id": "2c228533",
   "metadata": {},
   "source": [
    "# Effective Sample Size\n",
    "Meghan Rowan Childs\n",
    " \n",
    " \n",
    "This jupyter notebook is used to calculate the effective sample size for each of the calibrations we have run. These include\n",
    "\n",
    "- orginal calibration\n",
    "- initial infected and adjusted testing term calibration\n",
    "- delay of exogenous shock calibration\n",
    "- non_compliance calibration\n",
    "- reparameterized test specificity\n",
    "\n",
    "Effective sample size is calculated because the samples from a Markov Chain are autocorrelated. Since this autocorrelation occurs we need to figure out how many samples we need in order to keep a similar accuracy to if the samples were independent.\n",
    "## Import Needed Packages"
   ]
  },
  {
   "cell_type": "code",
   "execution_count": 1,
   "id": "1392e2f3",
   "metadata": {},
   "outputs": [],
   "source": [
    "import tensorflow as tf\n",
    "import numpy as np\n",
    "import pandas as pd\n",
    "from chainconsumer import ChainConsumer\n",
    "import tensorflow_probability as tfp\n"
   ]
  },
  {
   "cell_type": "code",
   "execution_count": 2,
   "id": "28e7f5d8",
   "metadata": {},
   "outputs": [
    {
     "data": {
      "text/plain": [
       "<tf.Tensor: shape=(), dtype=int32, numpy=4>"
      ]
     },
     "execution_count": 2,
     "metadata": {},
     "output_type": "execute_result"
    }
   ],
   "source": [
    "tf.constant(4)\n"
   ]
  },
  {
   "cell_type": "markdown",
   "id": "45e93c69",
   "metadata": {},
   "source": [
    "## Read in Chains for Each Calibration\n",
    "Now we want to read in chains for each of the calibrations we want to know the effective sample size for."
   ]
  },
  {
   "cell_type": "code",
   "execution_count": 5,
   "id": "53940b69",
   "metadata": {},
   "outputs": [],
   "source": [
    "og_calibration_chain_1 = pd.read_csv(r'/Users/meghanchilds/Desktop/Dissertation_Research/COVID-19-Model-Formal-Calibration/MCMC CSV Files/og calibration rerun march 2024/MCMC_Chain_Fall_Data_All_Params_100_iters_og_rerun_mar_24_[952].csv', names = ['Iter', 'Frequency of ES', 'Time to Recovery', 'Percent Advancing', ' Rt', 'Symptom Case Fatality','Days to Incubation', 'Test Sensitivity', 'Test Specificity', 'New Infections per Shock'])\n",
    "og_calibration_chain_2 = pd.read_csv(r'/Users/meghanchilds/Desktop/Dissertation_Research/COVID-19-Model-Formal-Calibration/MCMC CSV Files/og calibration rerun march 2024/MCMC_Chain_Fall_Data_All_Params_100_iters_og_rerun_mar_24_[749].csv', names = ['Iter', 'Frequency of ES', 'Time to Recovery', 'Percent Advancing', ' Rt', 'Symptom Case Fatality','Days to Incubation', 'Test Sensitivity', 'Test Specificity', 'New Infections per Shock'])\n",
    "og_calibration_chain_3 = pd.read_csv(r'/Users/meghanchilds/Desktop/Dissertation_Research/COVID-19-Model-Formal-Calibration/MCMC CSV Files/og calibration rerun march 2024/MCMC_Chain_Fall_Data_All_Params_100_iters_og_rerun_mar_24_[704].csv', names = ['Iter', 'Frequency of ES', 'Time to Recovery', 'Percent Advancing', ' Rt', 'Symptom Case Fatality','Days to Incubation', 'Test Sensitivity', 'Test Specificity', 'New Infections per Shock'])\n",
    "og_calibration_chain_4 = pd.read_csv(r'/Users/meghanchilds/Desktop/Dissertation_Research/COVID-19-Model-Formal-Calibration/MCMC CSV Files/og calibration rerun march 2024/MCMC_Chain_Fall_Data_All_Params_100_iters_og_rerun_mar_24_[378].csv', names = ['Iter', 'Frequency of ES', 'Time to Recovery', 'Percent Advancing', ' Rt', 'Symptom Case Fatality','Days to Incubation', 'Test Sensitivity', 'Test Specificity', 'New Infections per Shock'])\n",
    "    \n",
    "initi_infect_adjust_test_terms_chain_1 = pd.read_csv(r'/Users/meghanchilds/Desktop/Dissertation_Research/COVID-19-Model-Formal-Calibration/MCMC CSV Files/initial infect rerun march 2024/MCMC_Chain_Fall_Data_All_Params_100_iters_init_infect_rerun_mar_24_[10].csv', names = ['Iter', 'Frequency of ES', 'Time to Recovery', 'Percent Advancing', ' Rt', 'Symptom Case Fatality','Days to Incubation', 'Test Sensitivity', 'Test Specificity', 'New Infections per Shock', 'Initial Infect'])\n",
    "initi_infect_adjust_test_terms_chain_2 = pd.read_csv(r'/Users/meghanchilds/Desktop/Dissertation_Research/COVID-19-Model-Formal-Calibration/MCMC CSV Files/initial infect rerun march 2024/MCMC_Chain_Fall_Data_All_Params_100_iters_init_infect_rerun_mar_24_[495].csv', names = ['Iter', 'Frequency of ES', 'Time to Recovery', 'Percent Advancing', ' Rt', 'Symptom Case Fatality','Days to Incubation', 'Test Sensitivity', 'Test Specificity', 'New Infections per Shock', 'Initial Infect'])\n",
    "initi_infect_adjust_test_terms_chain_3 = pd.read_csv(r'/Users/meghanchilds/Desktop/Dissertation_Research/COVID-19-Model-Formal-Calibration/MCMC CSV Files/initial infect rerun march 2024/MCMC_Chain_Fall_Data_All_Params_100_iters_init_infect_rerun_mar_24_[523].csv', names = ['Iter', 'Frequency of ES', 'Time to Recovery', 'Percent Advancing', ' Rt', 'Symptom Case Fatality','Days to Incubation', 'Test Sensitivity', 'Test Specificity', 'New Infections per Shock', 'Initial Infect'])\n",
    "initi_infect_adjust_test_terms_chain_4 = pd.read_csv(r'/Users/meghanchilds/Desktop/Dissertation_Research/COVID-19-Model-Formal-Calibration/MCMC CSV Files/initial infect rerun march 2024/MCMC_Chain_Fall_Data_All_Params_100_iters_init_infect_rerun_mar_24_[653].csv', names = ['Iter', 'Frequency of ES', 'Time to Recovery', 'Percent Advancing', ' Rt', 'Symptom Case Fatality','Days to Incubation', 'Test Sensitivity', 'Test Specificity', 'New Infections per Shock', 'Initial Infect'])\n",
    "\n",
    "# delay_chain_1 = pd.read_csv(r'/Users/meghanchilds/Desktop/Dissertation_Research/MCMC Files/MCMC CSV Files/Rerun Delay as Timesteps 4 chains/MCMC_Chain_Fall_Data_All_Params_300_iters_nostochastic_uncertain_delayed_es_new_prior_timstep_fix_4_chains_[152].csv', names = ['Iter', 'Frequency of ES', 'Time to Recovery', 'Percent Advancing', ' Rt', 'Symptom Case Fatality','Days to Incubation', 'Test Sensitivity', 'Test Specificity', 'New Infections per Shock', 'Initial Infect', 'Delay'])\n",
    "# delay_chain_2 = pd.read_csv(r'/Users/meghanchilds/Desktop/Dissertation_Research/MCMC Files/MCMC CSV Files/Rerun Delay as Timesteps 4 chains/MCMC_Chain_Fall_Data_All_Params_300_iters_nostochastic_uncertain_delayed_es_new_prior_timstep_fix_4_chains_[813].csv', names = ['Iter', 'Frequency of ES', 'Time to Recovery', 'Percent Advancing', ' Rt', 'Symptom Case Fatality','Days to Incubation', 'Test Sensitivity', 'Test Specificity', 'New Infections per Shock', 'Initial Infect', 'Delay'])\n",
    "# delay_chain_3 = pd.read_csv(r'/Users/meghanchilds/Desktop/Dissertation_Research/MCMC Files/MCMC CSV Files/Rerun Delay as Timesteps 4 chains/MCMC_Chain_Fall_Data_All_Params_300_iters_nostochastic_uncertain_delayed_es_new_prior_timstep_fix_4_chains_[72].csv', names = ['Iter', 'Frequency of ES', 'Time to Recovery', 'Percent Advancing', ' Rt', 'Symptom Case Fatality','Days to Incubation', 'Test Sensitivity', 'Test Specificity', 'New Infections per Shock', 'Initial Infect', 'Delay'])\n",
    "# delay_chain_4 = pd.read_csv(r'/Users/meghanchilds/Desktop/Dissertation_Research/MCMC Files/MCMC CSV Files/Rerun Delay as Timesteps 4 chains/MCMC_Chain_Fall_Data_All_Params_300_iters_nostochastic_uncertain_delayed_es_new_prior_timstep_fix_4_chains_[388].csv', names = ['Iter', 'Frequency of ES', 'Time to Recovery', 'Percent Advancing', ' Rt', 'Symptom Case Fatality','Days to Incubation', 'Test Sensitivity', 'Test Specificity', 'New Infections per Shock', 'Initial Infect', 'Delay'])\n",
    "\n",
    "# non_compliance_chain_1 = pd.read_csv(r'/Users/meghanchilds/Desktop/Dissertation_Research/MCMC Files/MCMC CSV Files/1st run non_compliance param/MCMC_Chain_Fall_Data_All_Params_400_iters_nostochastic_non_compliance_4_chains_rerun_tight_prior_rerun3_[609].csv', names = ['Iter', 'Frequency of ES', 'Time to Recovery', 'Percent Advancing', ' Rt', 'Symptom Case Fatality','Days to Incubation', 'Test Sensitivity', 'Test Specificity', 'New Infections per Shock', 'Initial Infect', 'Delay', 'Non_compliance'])\n",
    "# non_compliance_chain_2 = pd.read_csv(r'/Users/meghanchilds/Desktop/Dissertation_Research/MCMC Files/MCMC CSV Files/1st run non_compliance param/MCMC_Chain_Fall_Data_All_Params_400_iters_nostochastic_non_compliance_4_chains_rerun_tight_prior_rerun3_[181].csv', names = ['Iter', 'Frequency of ES', 'Time to Recovery', 'Percent Advancing', ' Rt', 'Symptom Case Fatality','Days to Incubation', 'Test Sensitivity', 'Test Specificity', 'New Infections per Shock', 'Initial Infect', 'Delay', 'Non_compliance'])\n",
    "# non_compliance_chain_3 = pd.read_csv(r'/Users/meghanchilds/Desktop/Dissertation_Research/MCMC Files/MCMC CSV Files/1st run non_compliance param/MCMC_Chain_Fall_Data_All_Params_400_iters_nostochastic_non_compliance_4_chains_rerun_tight_prior_rerun3_[65].csv', names = ['Iter', 'Frequency of ES', 'Time to Recovery', 'Percent Advancing', ' Rt', 'Symptom Case Fatality','Days to Incubation', 'Test Sensitivity', 'Test Specificity', 'New Infections per Shock', 'Initial Infect', 'Delay', 'Non_compliance'])\n",
    "# non_compliance_chain_4 = pd.read_csv(r'/Users/meghanchilds/Desktop/Dissertation_Research/MCMC Files/MCMC CSV Files/1st run non_compliance param/MCMC_Chain_Fall_Data_All_Params_400_iters_nostochastic_non_compliance_4_chains_rerun_tight_prior_rerun3_[604].csv', names = ['Iter', 'Frequency of ES', 'Time to Recovery', 'Percent Advancing', ' Rt', 'Symptom Case Fatality','Days to Incubation', 'Test Sensitivity', 'Test Specificity', 'New Infections per Shock', 'Initial Infect', 'Delay', 'Non_compliance'])\n",
    "stochastic_chain_1 = pd.read_csv(r'/Users/meghanchilds/Desktop/Dissertation_Research/COVID-19-Model-Formal-Calibration/MCMC CSV Files/stochastic rerun march 24/MCMC_Chain_Fall_Data_All_Params_100_iters_stochastic_rerun_mar_24_[97].csv', names = ['Iter', 'Frequency of ES', 'Time to Recovery', 'Percent Advancing', ' Rt', 'Symptom Case Fatality','Days to Incubation', 'Test Sensitivity', 'Test Specificity', 'New Infections per Shock'])\n",
    "stochastic_chain_2 = pd.read_csv(r'/Users/meghanchilds/Desktop/Dissertation_Research/COVID-19-Model-Formal-Calibration/MCMC CSV Files/stochastic rerun march 24/MCMC_Chain_Fall_Data_All_Params_100_iters_stochastic_rerun_mar_24_[359].csv', names = ['Iter', 'Frequency of ES', 'Time to Recovery', 'Percent Advancing', ' Rt', 'Symptom Case Fatality','Days to Incubation', 'Test Sensitivity', 'Test Specificity', 'New Infections per Shock'])\n",
    "stochastic_chain_3 = pd.read_csv(r'/Users/meghanchilds/Desktop/Dissertation_Research/COVID-19-Model-Formal-Calibration/MCMC CSV Files/stochastic rerun march 24/MCMC_Chain_Fall_Data_All_Params_100_iters_stochastic_rerun_mar_24_[881].csv', names = ['Iter', 'Frequency of ES', 'Time to Recovery', 'Percent Advancing', ' Rt', 'Symptom Case Fatality','Days to Incubation', 'Test Sensitivity', 'Test Specificity', 'New Infections per Shock'])\n",
    "stochastic_chain_4 = pd.read_csv(r'/Users/meghanchilds/Desktop/Dissertation_Research/COVID-19-Model-Formal-Calibration/MCMC CSV Files/stochastic rerun march 24/MCMC_Chain_Fall_Data_All_Params_100_iters_stochastic_rerun_mar_24_[964].csv', names = ['Iter', 'Frequency of ES', 'Time to Recovery', 'Percent Advancing', ' Rt', 'Symptom Case Fatality','Days to Incubation', 'Test Sensitivity', 'Test Specificity', 'New Infections per Shock'])\n",
    "\n",
    "stochastic_sp_reparam_chain_1 = pd.read_csv(r'/Users/meghanchilds/Desktop/Dissertation_Research/COVID-19-Model-Formal-Calibration/MCMC CSV Files/stochastic AND sp reparam rerun march 24/MCMC_Chain_Fall_Data_All_Params_100_iters_stochastic_with_sp_reparam_rerun_mar_24_[20].csv', names = ['Iter', 'Frequency of ES', 'Time to Recovery', 'Percent Advancing', ' Rt', 'Symptom Case Fatality','Days to Incubation', 'Test Sensitivity', 'Test Specificity', 'New Infections per Shock'])\n",
    "stochastic_sp_reparam_chain_2 = pd.read_csv(r'/Users/meghanchilds/Desktop/Dissertation_Research/COVID-19-Model-Formal-Calibration/MCMC CSV Files/stochastic AND sp reparam rerun march 24/MCMC_Chain_Fall_Data_All_Params_100_iters_stochastic_with_sp_reparam_rerun_mar_24_[28].csv', names = ['Iter', 'Frequency of ES', 'Time to Recovery', 'Percent Advancing', ' Rt', 'Symptom Case Fatality','Days to Incubation', 'Test Sensitivity', 'Test Specificity', 'New Infections per Shock'])\n",
    "stochastic_sp_reparam_chain_3 = pd.read_csv(r'/Users/meghanchilds/Desktop/Dissertation_Research/COVID-19-Model-Formal-Calibration/MCMC CSV Files/stochastic AND sp reparam rerun march 24/MCMC_Chain_Fall_Data_All_Params_100_iters_stochastic_with_sp_reparam_rerun_mar_24_[240].csv', names = ['Iter', 'Frequency of ES', 'Time to Recovery', 'Percent Advancing', ' Rt', 'Symptom Case Fatality','Days to Incubation', 'Test Sensitivity', 'Test Specificity', 'New Infections per Shock'])\n",
    "stochastic_sp_reparam_chain_4 = pd.read_csv(r'/Users/meghanchilds/Desktop/Dissertation_Research/COVID-19-Model-Formal-Calibration/MCMC CSV Files/stochastic AND sp reparam rerun march 24/MCMC_Chain_Fall_Data_All_Params_100_iters_stochastic_with_sp_reparam_rerun_mar_24_[643].csv', names = ['Iter', 'Frequency of ES', 'Time to Recovery', 'Percent Advancing', ' Rt', 'Symptom Case Fatality','Days to Incubation', 'Test Sensitivity', 'Test Specificity', 'New Infections per Shock'])\n",
    "\n",
    "sp_reparam_chain_1 = pd.read_csv(r'/Users/meghanchilds/Desktop/Dissertation_Research/COVID-19-Model-Formal-Calibration/MCMC CSV Files/SP reparam re run march 24/MCMC_Chain_Fall_Data_All_Params_100_iters_sp_reparam_rerun_mar_24_[390].csv', names = ['Iter', 'Frequency of ES', 'Time to Recovery', 'Percent Advancing', ' Rt', 'Symptom Case Fatality','Days to Incubation', 'Test Sensitivity', 'Test Specificity', 'New Infections per Shock'])\n",
    "sp_reparam_chain_2 = pd.read_csv(r'/Users/meghanchilds/Desktop/Dissertation_Research/COVID-19-Model-Formal-Calibration/MCMC CSV Files/SP reparam re run march 24/MCMC_Chain_Fall_Data_All_Params_100_iters_sp_reparam_rerun_mar_24_[423].csv', names = ['Iter', 'Frequency of ES', 'Time to Recovery', 'Percent Advancing', ' Rt', 'Symptom Case Fatality','Days to Incubation', 'Test Sensitivity', 'Test Specificity', 'New Infections per Shock'])\n",
    "sp_reparam_chain_3 = pd.read_csv(r'/Users/meghanchilds/Desktop/Dissertation_Research/COVID-19-Model-Formal-Calibration/MCMC CSV Files/SP reparam re run march 24/MCMC_Chain_Fall_Data_All_Params_100_iters_sp_reparam_rerun_mar_24_[425].csv', names = ['Iter', 'Frequency of ES', 'Time to Recovery', 'Percent Advancing', ' Rt', 'Symptom Case Fatality','Days to Incubation', 'Test Sensitivity', 'Test Specificity', 'New Infections per Shock'])\n",
    "sp_reparam_chain_4 = pd.read_csv(r'/Users/meghanchilds/Desktop/Dissertation_Research/COVID-19-Model-Formal-Calibration/MCMC CSV Files/SP reparam re run march 24/MCMC_Chain_Fall_Data_All_Params_100_iters_sp_reparam_rerun_mar_24_[437].csv', names = ['Iter', 'Frequency of ES', 'Time to Recovery', 'Percent Advancing', ' Rt', 'Symptom Case Fatality','Days to Incubation', 'Test Sensitivity', 'Test Specificity', 'New Infections per Shock'])\n",
    "\n",
    "model_exper_no_uncertain_chain_1 = pd.read_csv(r'/Users/meghanchilds/Desktop/Dissertation_Research/COVID-19-Model-Formal-Calibration/MCMC CSV Files/model exper no uncertainty rerun march 24/MCMC_Chain_Fall_Data_All_Params_100_iters_model_exper_no_uncertainty_rerun_mar_24_[277].csv', names = ['Iter', 'Frequency of ES', 'Time to Recovery', 'Percent Advancing', ' Rt', 'Symptom Case Fatality','Days to Incubation', 'Test Sensitivity', 'Test Specificity', 'New Infections per Shock'])\n",
    "model_exper_no_uncertain_chain_2 = pd.read_csv(r'/Users/meghanchilds/Desktop/Dissertation_Research/COVID-19-Model-Formal-Calibration/MCMC CSV Files/model exper no uncertainty rerun march 24/MCMC_Chain_Fall_Data_All_Params_100_iters_model_exper_no_uncertainty_rerun_mar_24_[702].csv', names = ['Iter', 'Frequency of ES', 'Time to Recovery', 'Percent Advancing', ' Rt', 'Symptom Case Fatality','Days to Incubation', 'Test Sensitivity', 'Test Specificity', 'New Infections per Shock'])\n",
    "model_exper_no_uncertain_chain_3 = pd.read_csv(r'/Users/meghanchilds/Desktop/Dissertation_Research/COVID-19-Model-Formal-Calibration/MCMC CSV Files/model exper no uncertainty rerun march 24/MCMC_Chain_Fall_Data_All_Params_100_iters_model_exper_no_uncertainty_rerun_mar_24_[837].csv', names = ['Iter', 'Frequency of ES', 'Time to Recovery', 'Percent Advancing', ' Rt', 'Symptom Case Fatality','Days to Incubation', 'Test Sensitivity', 'Test Specificity', 'New Infections per Shock'])\n",
    "model_exper_no_uncertain_chain_4 = pd.read_csv(r'/Users/meghanchilds/Desktop/Dissertation_Research/COVID-19-Model-Formal-Calibration/MCMC CSV Files/model exper no uncertainty rerun march 24/MCMC_Chain_Fall_Data_All_Params_100_iters_model_exper_no_uncertainty_rerun_mar_24_[916].csv', names = ['Iter', 'Frequency of ES', 'Time to Recovery', 'Percent Advancing', ' Rt', 'Symptom Case Fatality','Days to Incubation', 'Test Sensitivity', 'Test Specificity', 'New Infections per Shock'])\n",
    "\n",
    "model_exper_uncertain_chain_1 = pd.read_csv(r'/Users/meghanchilds/Desktop/Dissertation_Research/COVID-19-Model-Formal-Calibration/MCMC CSV Files/model exper with uncertainity rerun march 24/MCMC_Chain_Fall_Data_All_Params_100_iters_model_exper_uncertainty_rerun_mar_24_[31].csv', names = ['Iter', 'Frequency of ES', 'Time to Recovery', 'Percent Advancing', ' Rt', 'Symptom Case Fatality','Days to Incubation', 'Test Sensitivity', 'Test Specificity', 'New Infections per Shock'])\n",
    "model_exper_uncertain_chain_2 = pd.read_csv(r'/Users/meghanchilds/Desktop/Dissertation_Research/COVID-19-Model-Formal-Calibration/MCMC CSV Files/model exper with uncertainity rerun march 24/MCMC_Chain_Fall_Data_All_Params_100_iters_model_exper_uncertainty_rerun_mar_24_[70].csv', names = ['Iter', 'Frequency of ES', 'Time to Recovery', 'Percent Advancing', ' Rt', 'Symptom Case Fatality','Days to Incubation', 'Test Sensitivity', 'Test Specificity', 'New Infections per Shock'])\n",
    "model_exper_uncertain_chain_3 = pd.read_csv(r'/Users/meghanchilds/Desktop/Dissertation_Research/COVID-19-Model-Formal-Calibration/MCMC CSV Files/model exper with uncertainity rerun march 24/MCMC_Chain_Fall_Data_All_Params_100_iters_model_exper_uncertainty_rerun_mar_24_[618].csv', names = ['Iter', 'Frequency of ES', 'Time to Recovery', 'Percent Advancing', ' Rt', 'Symptom Case Fatality','Days to Incubation', 'Test Sensitivity', 'Test Specificity', 'New Infections per Shock'])\n",
    "model_exper_uncertain_chain_4 = pd.read_csv(r'/Users/meghanchilds/Desktop/Dissertation_Research/COVID-19-Model-Formal-Calibration/MCMC CSV Files/model exper with uncertainity rerun march 24/MCMC_Chain_Fall_Data_All_Params_100_iters_model_exper_uncertainty_rerun_mar_24_[787].csv', names = ['Iter', 'Frequency of ES', 'Time to Recovery', 'Percent Advancing', ' Rt', 'Symptom Case Fatality','Days to Incubation', 'Test Sensitivity', 'Test Specificity', 'New Infections per Shock'])\n",
    "\n",
    "model_exper_rt_fixed_chain_1 = pd.read_csv(r'/Users/meghanchilds/Desktop/Dissertation_Research/COVID-19-Model-Formal-Calibration/MCMC CSV Files/model exper fixed rt ar 24/MCMC_Chain_Fall_Data_All_Params_100_iters_model_exper_fixed_rt_mar_24_[419].csv', names = ['Iter', 'Frequency of ES', 'Time to Recovery', 'Percent Advancing',  'Symptom Case Fatality','Days to Incubation', 'Test Sensitivity', 'Test Specificity', 'New Infections per Shock'])\n",
    "model_exper_rt_fixed_chain_2 = pd.read_csv(r'/Users/meghanchilds/Desktop/Dissertation_Research/COVID-19-Model-Formal-Calibration/MCMC CSV Files/model exper fixed rt ar 24/MCMC_Chain_Fall_Data_All_Params_100_iters_model_exper_fixed_rt_mar_24_[580].csv', names = ['Iter', 'Frequency of ES', 'Time to Recovery', 'Percent Advancing',  'Symptom Case Fatality','Days to Incubation', 'Test Sensitivity', 'Test Specificity', 'New Infections per Shock'])\n",
    "model_exper_rt_fixed_chain_3 = pd.read_csv(r'/Users/meghanchilds/Desktop/Dissertation_Research/COVID-19-Model-Formal-Calibration/MCMC CSV Files/model exper fixed rt ar 24/MCMC_Chain_Fall_Data_All_Params_100_iters_model_exper_fixed_rt_mar_24_[608].csv', names = ['Iter', 'Frequency of ES', 'Time to Recovery', 'Percent Advancing', 'Symptom Case Fatality','Days to Incubation', 'Test Sensitivity', 'Test Specificity', 'New Infections per Shock'])\n",
    "model_exper_rt_fixed_chain_4 = pd.read_csv(r'/Users/meghanchilds/Desktop/Dissertation_Research/COVID-19-Model-Formal-Calibration/MCMC CSV Files/model exper fixed rt ar 24/MCMC_Chain_Fall_Data_All_Params_100_iters_model_exper_fixed_rt_mar_24_[638].csv', names = ['Iter', 'Frequency of ES', 'Time to Recovery', 'Percent Advancing', 'Symptom Case Fatality','Days to Incubation', 'Test Sensitivity', 'Test Specificity', 'New Infections per Shock'])\n",
    "\n",
    "model_exper_rt_fixed_community_params_fixed_chain_1 = pd.read_csv(r'/Users/meghanchilds/Desktop/Dissertation_Research/COVID-19-Model-Formal-Calibration/MCMC CSV Files/model exper fixed rt and fixed all es mar 24/MCMC_Chain_Fall_Data_All_Params_100_iters_model_exper_fixed_new_infect_fixed_freq_es_RT_fixed_mar_24_[719].csv', names = ['Iter', 'Time to Recovery', 'Percent Advancing',  'Symptom Case Fatality','Days to Incubation', 'Test Sensitivity', 'Test Specificity'])\n",
    "model_exper_rt_fixed_community_params_fixed_chain_2 = pd.read_csv(r'/Users/meghanchilds/Desktop/Dissertation_Research/COVID-19-Model-Formal-Calibration/MCMC CSV Files/model exper fixed rt and fixed all es mar 24/MCMC_Chain_Fall_Data_All_Params_100_iters_model_exper_fixed_new_infect_fixed_freq_es_RT_fixed_mar_24_[790].csv', names = ['Iter',  'Time to Recovery', 'Percent Advancing',  'Symptom Case Fatality','Days to Incubation', 'Test Sensitivity', 'Test Specificity'])\n",
    "model_exper_rt_fixed_community_params_fixed_chain_3 = pd.read_csv(r'/Users/meghanchilds/Desktop/Dissertation_Research/COVID-19-Model-Formal-Calibration/MCMC CSV Files/model exper fixed rt and fixed all es mar 24/MCMC_Chain_Fall_Data_All_Params_100_iters_model_exper_fixed_new_infect_fixed_freq_es_RT_fixed_mar_24_[832].csv', names = ['Iter',  'Time to Recovery', 'Percent Advancing',  'Symptom Case Fatality','Days to Incubation', 'Test Sensitivity', 'Test Specificity'])\n",
    "model_exper_rt_fixed_community_params_fixed_chain_4 = pd.read_csv(r'/Users/meghanchilds/Desktop/Dissertation_Research/COVID-19-Model-Formal-Calibration/MCMC CSV Files/model exper fixed rt and fixed all es mar 24/MCMC_Chain_Fall_Data_All_Params_100_iters_model_exper_fixed_new_infect_fixed_freq_es_RT_fixed_mar_24_[864].csv', names = ['Iter',  'Time to Recovery', 'Percent Advancing', 'Symptom Case Fatality','Days to Incubation', 'Test Sensitivity', 'Test Specificity'])\n",
    "\n",
    "model_exper_adapted_LL_chain_1 = pd.read_csv(r'/Users/meghanchilds/Desktop/Dissertation_Research/COVID-19-Model-Formal-Calibration/MCMC CSV Files/model exper adapted LL Mar 24/MCMC_Chain_Fall_Data_All_Params_100_iters_model_exper_adapted_LL_first_run_mar_24_[227].csv', names = ['Iter', 'Frequency of ES', 'Time to Recovery', 'Percent Advancing', ' Rt', 'Symptom Case Fatality','Days to Incubation', 'Test Sensitivity', 'Test Specificity', 'New Infections per Shock'])\n",
    "model_exper_adapted_LL_chain_2 = pd.read_csv(r'/Users/meghanchilds/Desktop/Dissertation_Research/COVID-19-Model-Formal-Calibration/MCMC CSV Files/model exper adapted LL Mar 24/MCMC_Chain_Fall_Data_All_Params_100_iters_model_exper_adapted_LL_first_run_mar_24_[231].csv', names = ['Iter', 'Frequency of ES', 'Time to Recovery', 'Percent Advancing', ' Rt', 'Symptom Case Fatality','Days to Incubation', 'Test Sensitivity', 'Test Specificity', 'New Infections per Shock'])\n",
    "model_exper_adapted_LL_chain_3 = pd.read_csv(r'/Users/meghanchilds/Desktop/Dissertation_Research/COVID-19-Model-Formal-Calibration/MCMC CSV Files/model exper adapted LL Mar 24/MCMC_Chain_Fall_Data_All_Params_100_iters_model_exper_adapted_LL_first_run_mar_24_[471].csv', names = ['Iter', 'Frequency of ES', 'Time to Recovery', 'Percent Advancing', ' Rt', 'Symptom Case Fatality','Days to Incubation', 'Test Sensitivity', 'Test Specificity', 'New Infections per Shock'])\n",
    "model_exper_adapted_LL_chain_4 = pd.read_csv(r'/Users/meghanchilds/Desktop/Dissertation_Research/COVID-19-Model-Formal-Calibration/MCMC CSV Files/model exper adapted LL Mar 24/MCMC_Chain_Fall_Data_All_Params_100_iters_model_exper_adapted_LL_first_run_mar_24_[509].csv', names = ['Iter', 'Frequency of ES', 'Time to Recovery', 'Percent Advancing', ' Rt', 'Symptom Case Fatality','Days to Incubation', 'Test Sensitivity', 'Test Specificity', 'New Infections per Shock'])\n",
    "\n",
    "\n",
    "rit_data_adapted_LL_chain_1 = pd.read_csv(r'/Users/meghanchilds/Desktop/Dissertation_Research/COVID-19-Model-Formal-Calibration/MCMC CSV Files/rit data adapted LL 0 case change apr 24/MCMC_Chain_Fall_Data_All_Params_100_iters_rit_daya_adapted_LL_new_std_change_apr_24_[54].csv', names = ['Iter', 'Frequency of ES', 'Time to Recovery', 'Percent Advancing', ' Rt', 'Symptom Case Fatality','Days to Incubation', 'Test Sensitivity', 'Test Specificity', 'New Infections per Shock'])\n",
    "# rit_data_adapted_LL_chain_2 = pd.read_csv(r'', names = ['Iter', 'Frequency of ES', 'Time to Recovery', 'Percent Advancing', ' Rt', 'Symptom Case Fatality','Days to Incubation', 'Test Sensitivity', 'Test Specificity', 'New Infections per Shock'])\n",
    "rit_data_adapted_LL_chain_3 = pd.read_csv(r'/Users/meghanchilds/Desktop/Dissertation_Research/COVID-19-Model-Formal-Calibration/MCMC CSV Files/rit data adapted LL 0 case change apr 24/MCMC_Chain_Fall_Data_All_Params_100_iters_rit_daya_adapted_LL_new_std_change_apr_24_[284].csv', names = ['Iter', 'Frequency of ES', 'Time to Recovery', 'Percent Advancing', ' Rt', 'Symptom Case Fatality','Days to Incubation', 'Test Sensitivity', 'Test Specificity', 'New Infections per Shock'])\n",
    "rit_data_adapted_LL_chain_4 = pd.read_csv(r'/Users/meghanchilds/Desktop/Dissertation_Research/COVID-19-Model-Formal-Calibration/MCMC CSV Files/rit data adapted LL 0 case change apr 24/MCMC_Chain_Fall_Data_All_Params_100_iters_rit_daya_adapted_LL_new_std_change_apr_24_[580].csv', names = ['Iter', 'Frequency of ES', 'Time to Recovery', 'Percent Advancing', ' Rt', 'Symptom Case Fatality','Days to Incubation', 'Test Sensitivity', 'Test Specificity', 'New Infections per Shock'])\n",
    "\n",
    "rit_data_adapted_LL_init_infect_chain_1 = pd.read_csv(r'/Users/meghanchilds/Desktop/Dissertation_Research/COVID-19-Model-Formal-Calibration/MCMC CSV Files/rit data adapted ll new std and init infect apr 24/MCMC_Chain_Fall_Data_All_Params_100_iters_rit_daya_adapted_LL_new_std_random_sample_initial_params_apr_24_[536].csv', names = ['Iter', 'Frequency of ES', 'Time to Recovery', 'Percent Advancing', ' Rt', 'Symptom Case Fatality','Days to Incubation', 'Test Sensitivity', 'Test Specificity', 'New Infections per Shock', 'Initial Infected'])\n",
    "rit_data_adapted_LL_init_infect_chain_2 = pd.read_csv(r'/Users/meghanchilds/Desktop/Dissertation_Research/COVID-19-Model-Formal-Calibration/MCMC CSV Files/rit data adapted ll new std and init infect apr 24/MCMC_Chain_Fall_Data_All_Params_100_iters_rit_daya_adapted_LL_new_std_random_sample_initial_params_apr_24_[656].csv', names = ['Iter', 'Frequency of ES', 'Time to Recovery', 'Percent Advancing', ' Rt', 'Symptom Case Fatality','Days to Incubation', 'Test Sensitivity', 'Test Specificity', 'New Infections per Shock', 'Initial Infected'])\n",
    "rit_data_adapted_LL_init_infect_chain_3 = pd.read_csv(r'/Users/meghanchilds/Desktop/Dissertation_Research/COVID-19-Model-Formal-Calibration/MCMC CSV Files/rit data adapted ll new std and init infect apr 24/MCMC_Chain_Fall_Data_All_Params_100_iters_rit_daya_adapted_LL_new_std_random_sample_initial_params_apr_24_[725].csv', names = ['Iter', 'Frequency of ES', 'Time to Recovery', 'Percent Advancing', ' Rt', 'Symptom Case Fatality','Days to Incubation', 'Test Sensitivity', 'Test Specificity', 'New Infections per Shock', 'Initial Infected'])\n",
    "rit_data_adapted_LL_init_infect_chain_4 = pd.read_csv(r'/Users/meghanchilds/Desktop/Dissertation_Research/COVID-19-Model-Formal-Calibration/MCMC CSV Files/rit data adapted ll new std and init infect apr 24/MCMC_Chain_Fall_Data_All_Params_100_iters_rit_daya_adapted_LL_new_std_random_sample_initial_params_apr_24_[985].csv', names = ['Iter', 'Frequency of ES', 'Time to Recovery', 'Percent Advancing', ' Rt', 'Symptom Case Fatality','Days to Incubation', 'Test Sensitivity', 'Test Specificity', 'New Infections per Shock', 'Initial Infected'])\n",
    "\n",
    "\n",
    "rit_data_adapted_LL_init_infect_stochastic_weight_chain_1 = pd.read_csv(r'/Users/meghanchilds/Desktop/Dissertation_Research/COVID-19-Model-Formal-Calibration/MCMC CSV Files/std version of LL weighting (mutlipled std by 2) sept 24/MCMC_Chain_Fall_Data_All_Params_100_iters_rit_data_stochastic_new_ll_adapted_binom_initial_iso_fixed_new_weighting_[203].csv', names = ['Iter', 'Frequency of ES', 'Time to Recovery', 'Percent Advancing', ' Rt', 'Symptom Case Fatality','Days to Incubation', 'Test Sensitivity', 'Test Specificity', 'New Infections per Shock', 'Initial Infected', 'Initial Iso'])\n",
    "rit_data_adapted_LL_init_infect_stochastic_weight_chain_2 = pd.read_csv(r'/Users/meghanchilds/Desktop/Dissertation_Research/COVID-19-Model-Formal-Calibration/MCMC CSV Files/std version of LL weighting (mutlipled std by 2) sept 24/MCMC_Chain_Fall_Data_All_Params_100_iters_rit_data_stochastic_new_ll_adapted_binom_initial_iso_fixed_new_weighting_[379].csv', names = ['Iter', 'Frequency of ES', 'Time to Recovery', 'Percent Advancing', ' Rt', 'Symptom Case Fatality','Days to Incubation', 'Test Sensitivity', 'Test Specificity', 'New Infections per Shock', 'Initial Infected', 'Initial Iso'])\n",
    "rit_data_adapted_LL_init_infect_stochastic_weight_chain_3 = pd.read_csv(r'/Users/meghanchilds/Desktop/Dissertation_Research/COVID-19-Model-Formal-Calibration/MCMC CSV Files/std version of LL weighting (mutlipled std by 2) sept 24/MCMC_Chain_Fall_Data_All_Params_100_iters_rit_data_stochastic_new_ll_adapted_binom_initial_iso_fixed_new_weighting_[443].csv', names = ['Iter', 'Frequency of ES', 'Time to Recovery', 'Percent Advancing', ' Rt', 'Symptom Case Fatality','Days to Incubation', 'Test Sensitivity', 'Test Specificity', 'New Infections per Shock', 'Initial Infected', 'Initial Iso'])\n",
    "rit_data_adapted_LL_init_infect_stochastic_weight_chain_4 = pd.read_csv(r'/Users/meghanchilds/Desktop/Dissertation_Research/COVID-19-Model-Formal-Calibration/MCMC CSV Files/std version of LL weighting (mutlipled std by 2) sept 24/MCMC_Chain_Fall_Data_All_Params_100_iters_rit_data_stochastic_new_ll_adapted_binom_initial_iso_fixed_new_weighting_[725].csv', names = ['Iter', 'Frequency of ES', 'Time to Recovery', 'Percent Advancing', ' Rt', 'Symptom Case Fatality','Days to Incubation', 'Test Sensitivity', 'Test Specificity', 'New Infections per Shock', 'Initial Infected', 'Initial Iso'])\n"
   ]
  },
  {
   "cell_type": "code",
   "execution_count": 7,
   "id": "cc283b4c",
   "metadata": {},
   "outputs": [
    {
     "data": {
      "text/html": [
       "<div>\n",
       "<style scoped>\n",
       "    .dataframe tbody tr th:only-of-type {\n",
       "        vertical-align: middle;\n",
       "    }\n",
       "\n",
       "    .dataframe tbody tr th {\n",
       "        vertical-align: top;\n",
       "    }\n",
       "\n",
       "    .dataframe thead th {\n",
       "        text-align: right;\n",
       "    }\n",
       "</style>\n",
       "<table border=\"1\" class=\"dataframe\">\n",
       "  <thead>\n",
       "    <tr style=\"text-align: right;\">\n",
       "      <th></th>\n",
       "      <th>Iter</th>\n",
       "      <th>Frequency of ES</th>\n",
       "      <th>Time to Recovery</th>\n",
       "      <th>Percent Advancing</th>\n",
       "      <th>Rt</th>\n",
       "      <th>Symptom Case Fatality</th>\n",
       "      <th>Days to Incubation</th>\n",
       "      <th>Test Sensitivity</th>\n",
       "      <th>Test Specificity</th>\n",
       "      <th>New Infections per Shock</th>\n",
       "      <th>Initial Infected</th>\n",
       "      <th>Initial Iso</th>\n",
       "    </tr>\n",
       "  </thead>\n",
       "  <tbody>\n",
       "    <tr>\n",
       "      <th>0</th>\n",
       "      <td>0</td>\n",
       "      <td>8.0</td>\n",
       "      <td>13.969285</td>\n",
       "      <td>18.540193</td>\n",
       "      <td>1.747763</td>\n",
       "      <td>0.001308</td>\n",
       "      <td>8.638653</td>\n",
       "      <td>0.789656</td>\n",
       "      <td>1.243258</td>\n",
       "      <td>10.0</td>\n",
       "      <td>20.0</td>\n",
       "      <td>6.000135</td>\n",
       "    </tr>\n",
       "    <tr>\n",
       "      <th>1</th>\n",
       "      <td>1</td>\n",
       "      <td>8.0</td>\n",
       "      <td>13.969285</td>\n",
       "      <td>18.540193</td>\n",
       "      <td>1.747763</td>\n",
       "      <td>0.001308</td>\n",
       "      <td>8.638653</td>\n",
       "      <td>0.789656</td>\n",
       "      <td>1.243258</td>\n",
       "      <td>10.0</td>\n",
       "      <td>20.0</td>\n",
       "      <td>6.000135</td>\n",
       "    </tr>\n",
       "    <tr>\n",
       "      <th>2</th>\n",
       "      <td>2</td>\n",
       "      <td>8.0</td>\n",
       "      <td>13.969285</td>\n",
       "      <td>18.540193</td>\n",
       "      <td>1.747763</td>\n",
       "      <td>0.001308</td>\n",
       "      <td>8.638653</td>\n",
       "      <td>0.789656</td>\n",
       "      <td>1.243258</td>\n",
       "      <td>10.0</td>\n",
       "      <td>20.0</td>\n",
       "      <td>6.000135</td>\n",
       "    </tr>\n",
       "    <tr>\n",
       "      <th>3</th>\n",
       "      <td>3</td>\n",
       "      <td>8.0</td>\n",
       "      <td>14.016459</td>\n",
       "      <td>18.657945</td>\n",
       "      <td>1.751244</td>\n",
       "      <td>0.001364</td>\n",
       "      <td>8.636378</td>\n",
       "      <td>0.788761</td>\n",
       "      <td>1.243772</td>\n",
       "      <td>11.0</td>\n",
       "      <td>20.0</td>\n",
       "      <td>6.058808</td>\n",
       "    </tr>\n",
       "    <tr>\n",
       "      <th>4</th>\n",
       "      <td>4</td>\n",
       "      <td>9.0</td>\n",
       "      <td>13.898688</td>\n",
       "      <td>18.670030</td>\n",
       "      <td>1.723085</td>\n",
       "      <td>0.001400</td>\n",
       "      <td>8.646717</td>\n",
       "      <td>0.790807</td>\n",
       "      <td>1.244652</td>\n",
       "      <td>12.0</td>\n",
       "      <td>21.0</td>\n",
       "      <td>6.072732</td>\n",
       "    </tr>\n",
       "    <tr>\n",
       "      <th>...</th>\n",
       "      <td>...</td>\n",
       "      <td>...</td>\n",
       "      <td>...</td>\n",
       "      <td>...</td>\n",
       "      <td>...</td>\n",
       "      <td>...</td>\n",
       "      <td>...</td>\n",
       "      <td>...</td>\n",
       "      <td>...</td>\n",
       "      <td>...</td>\n",
       "      <td>...</td>\n",
       "      <td>...</td>\n",
       "    </tr>\n",
       "    <tr>\n",
       "      <th>399995</th>\n",
       "      <td>39995</td>\n",
       "      <td>7.0</td>\n",
       "      <td>13.745396</td>\n",
       "      <td>13.982198</td>\n",
       "      <td>1.027439</td>\n",
       "      <td>0.003503</td>\n",
       "      <td>7.515141</td>\n",
       "      <td>0.765479</td>\n",
       "      <td>1.237050</td>\n",
       "      <td>15.0</td>\n",
       "      <td>4.0</td>\n",
       "      <td>1.881346</td>\n",
       "    </tr>\n",
       "    <tr>\n",
       "      <th>399996</th>\n",
       "      <td>39996</td>\n",
       "      <td>8.0</td>\n",
       "      <td>14.116982</td>\n",
       "      <td>14.700256</td>\n",
       "      <td>1.056405</td>\n",
       "      <td>0.002680</td>\n",
       "      <td>8.342877</td>\n",
       "      <td>0.750841</td>\n",
       "      <td>1.241829</td>\n",
       "      <td>16.0</td>\n",
       "      <td>7.0</td>\n",
       "      <td>1.664659</td>\n",
       "    </tr>\n",
       "    <tr>\n",
       "      <th>399997</th>\n",
       "      <td>39997</td>\n",
       "      <td>8.0</td>\n",
       "      <td>14.116982</td>\n",
       "      <td>14.700256</td>\n",
       "      <td>1.056405</td>\n",
       "      <td>0.002680</td>\n",
       "      <td>8.342877</td>\n",
       "      <td>0.750841</td>\n",
       "      <td>1.241829</td>\n",
       "      <td>16.0</td>\n",
       "      <td>7.0</td>\n",
       "      <td>1.664659</td>\n",
       "    </tr>\n",
       "    <tr>\n",
       "      <th>399998</th>\n",
       "      <td>39998</td>\n",
       "      <td>8.0</td>\n",
       "      <td>14.116982</td>\n",
       "      <td>14.700256</td>\n",
       "      <td>1.056405</td>\n",
       "      <td>0.002680</td>\n",
       "      <td>8.342877</td>\n",
       "      <td>0.750841</td>\n",
       "      <td>1.241829</td>\n",
       "      <td>16.0</td>\n",
       "      <td>7.0</td>\n",
       "      <td>1.664659</td>\n",
       "    </tr>\n",
       "    <tr>\n",
       "      <th>399999</th>\n",
       "      <td>39999</td>\n",
       "      <td>8.0</td>\n",
       "      <td>14.116982</td>\n",
       "      <td>14.700256</td>\n",
       "      <td>1.056405</td>\n",
       "      <td>0.002680</td>\n",
       "      <td>8.342877</td>\n",
       "      <td>0.750841</td>\n",
       "      <td>1.241829</td>\n",
       "      <td>16.0</td>\n",
       "      <td>7.0</td>\n",
       "      <td>1.664659</td>\n",
       "    </tr>\n",
       "  </tbody>\n",
       "</table>\n",
       "<p>400000 rows × 12 columns</p>\n",
       "</div>"
      ],
      "text/plain": [
       "         Iter  Frequency of ES  Time to Recovery  Percent Advancing        Rt  \\\n",
       "0           0              8.0         13.969285          18.540193  1.747763   \n",
       "1           1              8.0         13.969285          18.540193  1.747763   \n",
       "2           2              8.0         13.969285          18.540193  1.747763   \n",
       "3           3              8.0         14.016459          18.657945  1.751244   \n",
       "4           4              9.0         13.898688          18.670030  1.723085   \n",
       "...       ...              ...               ...                ...       ...   \n",
       "399995  39995              7.0         13.745396          13.982198  1.027439   \n",
       "399996  39996              8.0         14.116982          14.700256  1.056405   \n",
       "399997  39997              8.0         14.116982          14.700256  1.056405   \n",
       "399998  39998              8.0         14.116982          14.700256  1.056405   \n",
       "399999  39999              8.0         14.116982          14.700256  1.056405   \n",
       "\n",
       "        Symptom Case Fatality  Days to Incubation  Test Sensitivity  \\\n",
       "0                    0.001308            8.638653          0.789656   \n",
       "1                    0.001308            8.638653          0.789656   \n",
       "2                    0.001308            8.638653          0.789656   \n",
       "3                    0.001364            8.636378          0.788761   \n",
       "4                    0.001400            8.646717          0.790807   \n",
       "...                       ...                 ...               ...   \n",
       "399995               0.003503            7.515141          0.765479   \n",
       "399996               0.002680            8.342877          0.750841   \n",
       "399997               0.002680            8.342877          0.750841   \n",
       "399998               0.002680            8.342877          0.750841   \n",
       "399999               0.002680            8.342877          0.750841   \n",
       "\n",
       "        Test Specificity  New Infections per Shock  Initial Infected  \\\n",
       "0               1.243258                      10.0              20.0   \n",
       "1               1.243258                      10.0              20.0   \n",
       "2               1.243258                      10.0              20.0   \n",
       "3               1.243772                      11.0              20.0   \n",
       "4               1.244652                      12.0              21.0   \n",
       "...                  ...                       ...               ...   \n",
       "399995          1.237050                      15.0               4.0   \n",
       "399996          1.241829                      16.0               7.0   \n",
       "399997          1.241829                      16.0               7.0   \n",
       "399998          1.241829                      16.0               7.0   \n",
       "399999          1.241829                      16.0               7.0   \n",
       "\n",
       "        Initial Iso  \n",
       "0          6.000135  \n",
       "1          6.000135  \n",
       "2          6.000135  \n",
       "3          6.058808  \n",
       "4          6.072732  \n",
       "...             ...  \n",
       "399995     1.881346  \n",
       "399996     1.664659  \n",
       "399997     1.664659  \n",
       "399998     1.664659  \n",
       "399999     1.664659  \n",
       "\n",
       "[400000 rows x 12 columns]"
      ]
     },
     "execution_count": 7,
     "metadata": {},
     "output_type": "execute_result"
    }
   ],
   "source": [
    "rit_data_adapted_LL_init_infect_stochastic_weight_chain_4"
   ]
  },
  {
   "cell_type": "code",
   "execution_count": 8,
   "id": "70d2932b",
   "metadata": {},
   "outputs": [],
   "source": [
    "del og_calibration_chain_1['Iter']\n",
    "del og_calibration_chain_2['Iter']\n",
    "del og_calibration_chain_3['Iter']\n",
    "del og_calibration_chain_4['Iter']\n",
    "\n",
    "\n",
    "del initi_infect_adjust_test_terms_chain_1['Iter']\n",
    "del initi_infect_adjust_test_terms_chain_2['Iter']\n",
    "del initi_infect_adjust_test_terms_chain_3['Iter']\n",
    "del initi_infect_adjust_test_terms_chain_4['Iter']\n",
    "\n",
    "del stochastic_chain_1['Iter']\n",
    "del stochastic_chain_2['Iter']\n",
    "del stochastic_chain_3['Iter']\n",
    "del stochastic_chain_4['Iter']\n",
    "\n",
    "del stochastic_sp_reparam_chain_1['Iter']\n",
    "del stochastic_sp_reparam_chain_2['Iter']\n",
    "del stochastic_sp_reparam_chain_3['Iter']\n",
    "del stochastic_sp_reparam_chain_4['Iter']\n",
    "\n",
    "# del delay_chain_1['Iter']\n",
    "# del delay_chain_2['Iter']\n",
    "# del delay_chain_3['Iter']\n",
    "# del delay_chain_4['Iter']\n",
    "\n",
    "# del non_compliance_chain_1['Iter']\n",
    "# del non_compliance_chain_2['Iter']\n",
    "# del non_compliance_chain_3['Iter']\n",
    "# del non_compliance_chain_4['Iter']\n",
    "\n",
    "del sp_reparam_chain_1['Iter']\n",
    "del sp_reparam_chain_2['Iter']\n",
    "del sp_reparam_chain_3['Iter']\n",
    "del sp_reparam_chain_4['Iter']\n",
    "\n",
    "del model_exper_no_uncertain_chain_1['Iter']\n",
    "del model_exper_no_uncertain_chain_2['Iter']\n",
    "del model_exper_no_uncertain_chain_3['Iter']\n",
    "del model_exper_no_uncertain_chain_4['Iter']\n",
    "\n",
    "del model_exper_uncertain_chain_1['Iter']\n",
    "del model_exper_uncertain_chain_2['Iter']\n",
    "del model_exper_uncertain_chain_3['Iter']\n",
    "del model_exper_uncertain_chain_4['Iter']\n",
    "\n",
    "del model_exper_rt_fixed_chain_1['Iter'] \n",
    "del model_exper_rt_fixed_chain_2['Iter'] \n",
    "del model_exper_rt_fixed_chain_3['Iter'] \n",
    "del model_exper_rt_fixed_chain_4['Iter'] \n",
    "\n",
    "del model_exper_rt_fixed_community_params_fixed_chain_1['Iter'] \n",
    "del model_exper_rt_fixed_community_params_fixed_chain_2['Iter'] \n",
    "del model_exper_rt_fixed_community_params_fixed_chain_3['Iter'] \n",
    "del model_exper_rt_fixed_community_params_fixed_chain_4['Iter'] \n",
    "\n",
    "del model_exper_adapted_LL_chain_1['Iter'] \n",
    "del model_exper_adapted_LL_chain_2['Iter'] \n",
    "del model_exper_adapted_LL_chain_3['Iter'] \n",
    "del model_exper_adapted_LL_chain_4['Iter']\n",
    "\n",
    "\n",
    "del rit_data_adapted_LL_chain_1['Iter'] \n",
    "# rit_data_adapted_LL_chain_2 \n",
    "del rit_data_adapted_LL_chain_3['Iter'] \n",
    "del rit_data_adapted_LL_chain_4['Iter'] \n",
    "\n",
    "del rit_data_adapted_LL_init_infect_chain_1['Iter'] \n",
    "del rit_data_adapted_LL_init_infect_chain_2['Iter']\n",
    "del rit_data_adapted_LL_init_infect_chain_3['Iter']\n",
    "del rit_data_adapted_LL_init_infect_chain_4['Iter'] \n",
    "\n",
    "del rit_data_adapted_LL_init_infect_stochastic_weight_chain_1['Iter'] \n",
    "del rit_data_adapted_LL_init_infect_stochastic_weight_chain_2['Iter']\n",
    "del rit_data_adapted_LL_init_infect_stochastic_weight_chain_3['Iter']\n",
    "del rit_data_adapted_LL_init_infect_stochastic_weight_chain_4['Iter'] \n"
   ]
  },
  {
   "cell_type": "markdown",
   "id": "1442c4e3",
   "metadata": {},
   "source": [
    "### Save Param Names for Each Calibration"
   ]
  },
  {
   "cell_type": "code",
   "execution_count": 9,
   "id": "938b5f91",
   "metadata": {},
   "outputs": [],
   "source": [
    "og_names = og_calibration_chain_1.columns\n",
    "init_infect_adjust_tt_names = initi_infect_adjust_test_terms_chain_1.columns\n",
    "# delay_names = delay_chain_1.columns\n",
    "# non_comp_names = non_compliance_chain_1.columns\n",
    "stochastic_names = stochastic_chain_1.columns\n",
    "stochastic_sp_repara_names  = stochastic_sp_reparam_chain_1.columns\n",
    "sp_reparam_names = sp_reparam_chain_1.columns\n",
    "model_exper_no_uncertain_names = model_exper_no_uncertain_chain_1.columns\n",
    "model_exper_uncertain_names = model_exper_uncertain_chain_1.columns\n",
    "model_exper_rt_fixed_chain_names = model_exper_rt_fixed_chain_1.columns\n",
    "model_exper_rt_fixed_community_params_fixed_names = model_exper_rt_fixed_community_params_fixed_chain_1.columns\n",
    "model_exper_adapted_LL_names = model_exper_adapted_LL_chain_1.columns\n",
    "rit_data_adapted_LL_names = rit_data_adapted_LL_chain_1.columns\n",
    "rit_data_adapted_LL_init_infect_names = rit_data_adapted_LL_init_infect_chain_1.columns\n",
    "rit_data_adapted_LL_init_infect_stochastic_weight = rit_data_adapted_LL_init_infect_stochastic_weight_chain_1.columns"
   ]
  },
  {
   "cell_type": "code",
   "execution_count": 11,
   "id": "d1943eba",
   "metadata": {},
   "outputs": [
    {
     "data": {
      "text/plain": [
       "Index(['Frequency of ES', 'Time to Recovery', 'Percent Advancing', ' Rt',\n",
       "       'Symptom Case Fatality', 'Days to Incubation', 'Test Sensitivity',\n",
       "       'Test Specificity', 'New Infections per Shock', 'Initial Infected',\n",
       "       'Initial Iso'],\n",
       "      dtype='object')"
      ]
     },
     "execution_count": 11,
     "metadata": {},
     "output_type": "execute_result"
    }
   ],
   "source": [
    "rit_data_adapted_LL_init_infect_stochastic_weight"
   ]
  },
  {
   "cell_type": "markdown",
   "id": "909f4bd0",
   "metadata": {},
   "source": [
    "## Data Formatting"
   ]
  },
  {
   "cell_type": "code",
   "execution_count": 12,
   "id": "19578dae",
   "metadata": {},
   "outputs": [],
   "source": [
    "# setting as numpy arrays for easier use\n",
    "og_calibration_chain_1 = np.array(og_calibration_chain_1)\n",
    "og_calibration_chain_2 = np.array(og_calibration_chain_2)\n",
    "og_calibration_chain_3 = np.array(og_calibration_chain_3)\n",
    "og_calibration_chain_4 = np.array(og_calibration_chain_4)\n",
    "\n",
    "initi_infect_adjust_test_terms_chain_1 = np.array(initi_infect_adjust_test_terms_chain_1)\n",
    "initi_infect_adjust_test_terms_chain_2 = np.array(initi_infect_adjust_test_terms_chain_2)\n",
    "initi_infect_adjust_test_terms_chain_3 = np.array(initi_infect_adjust_test_terms_chain_3)\n",
    "initi_infect_adjust_test_terms_chain_4 = np.array(initi_infect_adjust_test_terms_chain_4)\n",
    "\n",
    "# delay_chain_1 = np.array(delay_chain_1)\n",
    "# delay_chain_2 = np.array(delay_chain_2)\n",
    "# delay_chain_3 = np.array(delay_chain_3)\n",
    "# delay_chain_4 = np.array(delay_chain_4)\n",
    "\n",
    "# non_compliance_chain_1 = np.array(non_compliance_chain_1)\n",
    "# non_compliance_chain_2 = np.array(non_compliance_chain_2)\n",
    "# non_compliance_chain_3 = np.array(non_compliance_chain_3)\n",
    "# non_compliance_chain_4 = np.array(non_compliance_chain_4)\n",
    "\n",
    "stochastic_chain_1 = np.array(stochastic_chain_1)\n",
    "stochastic_chain_2 = np.array(stochastic_chain_2)\n",
    "stochastic_chain_3 = np.array(stochastic_chain_3)\n",
    "stochastic_chain_4 = np.array(stochastic_chain_4)\n",
    "\n",
    "stochastic_sp_reparam_chain_1 = np.array(stochastic_sp_reparam_chain_1)\n",
    "stochastic_sp_reparam_chain_2 = np.array(stochastic_sp_reparam_chain_2)\n",
    "stochastic_sp_reparam_chain_3 = np.array(stochastic_sp_reparam_chain_3)\n",
    "stochastic_sp_reparam_chain_4 = np.array(stochastic_sp_reparam_chain_4)\n",
    "\n",
    "sp_reparam_chain_1 = np.array(sp_reparam_chain_1)\n",
    "sp_reparam_chain_2 = np.array(sp_reparam_chain_2)\n",
    "sp_reparam_chain_3 = np.array(sp_reparam_chain_3)\n",
    "sp_reparam_chain_4 = np.array(sp_reparam_chain_4)\n",
    "\n",
    "model_exper_no_uncertain_chain_1 = np.array(model_exper_no_uncertain_chain_1)\n",
    "model_exper_no_uncertain_chain_2 = np.array(model_exper_no_uncertain_chain_2)\n",
    "model_exper_no_uncertain_chain_3 = np.array(model_exper_no_uncertain_chain_3)\n",
    "model_exper_no_uncertain_chain_4 = np.array(model_exper_no_uncertain_chain_4)\n",
    "\n",
    "model_exper_uncertain_chain_1 = np.array(model_exper_uncertain_chain_1)\n",
    "model_exper_uncertain_chain_2 = np.array(model_exper_uncertain_chain_2)\n",
    "model_exper_uncertain_chain_3 = np.array(model_exper_uncertain_chain_3)\n",
    "model_exper_uncertain_chain_4 = np.array(model_exper_uncertain_chain_4)\n",
    "\n",
    "model_exper_rt_fixed_chain_1 = np.array(model_exper_rt_fixed_chain_1)\n",
    "model_exper_rt_fixed_chain_2 = np.array(model_exper_rt_fixed_chain_2)\n",
    "model_exper_rt_fixed_chain_3 = np.array(model_exper_rt_fixed_chain_3)\n",
    "model_exper_rt_fixed_chain_4 = np.array(model_exper_rt_fixed_chain_4)\n",
    "\n",
    "model_exper_rt_fixed_community_params_fixed_chain_1 = np.array(model_exper_rt_fixed_community_params_fixed_chain_1)\n",
    "model_exper_rt_fixed_community_params_fixed_chain_2 = np.array(model_exper_rt_fixed_community_params_fixed_chain_2)\n",
    "model_exper_rt_fixed_community_params_fixed_chain_3 = np.array(model_exper_rt_fixed_community_params_fixed_chain_3)\n",
    "model_exper_rt_fixed_community_params_fixed_chain_4 = np.array(model_exper_rt_fixed_community_params_fixed_chain_4)\n",
    "\n",
    "model_exper_adapted_LL_chain_1 = np.array(model_exper_adapted_LL_chain_1)\n",
    "model_exper_adapted_LL_chain_2 = np.array(model_exper_adapted_LL_chain_2)\n",
    "model_exper_adapted_LL_chain_3 = np.array(model_exper_adapted_LL_chain_3)\n",
    "model_exper_adapted_LL_chain_4 = np.array(model_exper_adapted_LL_chain_4)\n",
    "\n",
    "\n",
    "rit_data_adapted_LL_chain_1 = np.array(rit_data_adapted_LL_chain_1)\n",
    "# rit_data_adapted_LL_chain_2 = pd.read_csv(r'', names = ['Iter', 'Frequency of ES', 'Time to Recovery', 'Percent Advancing', ' Rt', 'Symptom Case Fatality','Days to Incubation', 'Test Sensitivity', 'Test Specificity', 'New Infections per Shock'])\n",
    "rit_data_adapted_LL_chain_3 = np.array(rit_data_adapted_LL_chain_3)\n",
    "rit_data_adapted_LL_chain_4 = np.array(rit_data_adapted_LL_chain_4)\n",
    "\n",
    "rit_data_adapted_LL_init_infect_chain_1 = np.array(rit_data_adapted_LL_init_infect_chain_1)\n",
    "rit_data_adapted_LL_init_infect_chain_2 = np.array(rit_data_adapted_LL_init_infect_chain_2)\n",
    "rit_data_adapted_LL_init_infect_chain_3 = np.array(rit_data_adapted_LL_init_infect_chain_3)\n",
    "rit_data_adapted_LL_init_infect_chain_4 = np.array(rit_data_adapted_LL_init_infect_chain_4)\n",
    "\n",
    "rit_data_adapted_LL_init_infect_stochastic_weight_chain_1 = np.array(rit_data_adapted_LL_init_infect_stochastic_weight_chain_1)\n",
    "rit_data_adapted_LL_init_infect_stochastic_weight_chain_2 = np.array(rit_data_adapted_LL_init_infect_stochastic_weight_chain_2)\n",
    "rit_data_adapted_LL_init_infect_stochastic_weight_chain_3 = np.array(rit_data_adapted_LL_init_infect_stochastic_weight_chain_3)\n",
    "rit_data_adapted_LL_init_infect_stochastic_weight_chain_4 = np.array(rit_data_adapted_LL_init_infect_stochastic_weight_chain_4)\n",
    "\n"
   ]
  },
  {
   "cell_type": "code",
   "execution_count": 13,
   "id": "52f750e2",
   "metadata": {},
   "outputs": [],
   "source": [
    "# setting interger values to be integer\n",
    "og_calibration_chain_1[:,0] = np.array(og_calibration_chain_1[:,0], dtype = int)\n",
    "og_calibration_chain_1[:,8] = np.array(og_calibration_chain_1[:,8], dtype = int)\n",
    "\n",
    "og_calibration_chain_2[:,0] = np.array(og_calibration_chain_2[:,0], dtype = int)\n",
    "og_calibration_chain_2[:,8] = np.array(og_calibration_chain_2[:,8], dtype = int)\n",
    "\n",
    "og_calibration_chain_3[:,0] = np.array(og_calibration_chain_3[:,0], dtype = int)\n",
    "og_calibration_chain_3[:,8] = np.array(og_calibration_chain_3[:,8], dtype = int)\n",
    "\n",
    "og_calibration_chain_4[:,0] = np.array(og_calibration_chain_4[:,0], dtype = int)\n",
    "og_calibration_chain_4[:,8] = np.array(og_calibration_chain_4[:,8], dtype = int)\n",
    "\n",
    "initi_infect_adjust_test_terms_chain_1[:,0] = np.array(initi_infect_adjust_test_terms_chain_1[:,0], dtype = int)\n",
    "initi_infect_adjust_test_terms_chain_1[:,8] = np.array(initi_infect_adjust_test_terms_chain_1[:,8], dtype = int)\n",
    "initi_infect_adjust_test_terms_chain_1[:,9] = np.array(initi_infect_adjust_test_terms_chain_1[:,9], dtype = int)\n",
    "\n",
    "initi_infect_adjust_test_terms_chain_2[:,0] = np.array(initi_infect_adjust_test_terms_chain_2[:,0], dtype = int)\n",
    "initi_infect_adjust_test_terms_chain_2[:,8] = np.array(initi_infect_adjust_test_terms_chain_2[:,8], dtype = int)\n",
    "initi_infect_adjust_test_terms_chain_2[:,9] = np.array(initi_infect_adjust_test_terms_chain_2[:,9], dtype = int)\n",
    "\n",
    "initi_infect_adjust_test_terms_chain_3[:,0] = np.array(initi_infect_adjust_test_terms_chain_3[:,0], dtype = int)\n",
    "initi_infect_adjust_test_terms_chain_3[:,8] = np.array(initi_infect_adjust_test_terms_chain_3[:,8], dtype = int)\n",
    "initi_infect_adjust_test_terms_chain_3[:,9] = np.array(initi_infect_adjust_test_terms_chain_3[:,9], dtype = int)\n",
    "\n",
    "initi_infect_adjust_test_terms_chain_4[:,0] = np.array(initi_infect_adjust_test_terms_chain_4[:,0], dtype = int)\n",
    "initi_infect_adjust_test_terms_chain_4[:,8] = np.array(initi_infect_adjust_test_terms_chain_4[:,8], dtype = int)\n",
    "initi_infect_adjust_test_terms_chain_4[:,9] = np.array(initi_infect_adjust_test_terms_chain_4[:,9], dtype = int)\n",
    "\n",
    "# delay_chain_1[:,0] = np.array(delay_chain_1[:,0], dtype = int)\n",
    "# delay_chain_1[:,8] = np.array(delay_chain_1[:,8], dtype = int)\n",
    "# delay_chain_1[:,9] = np.array(delay_chain_1[:,9], dtype = int)\n",
    "# delay_chain_1[:,10] = np.array(delay_chain_1[:,10], dtype = int)\n",
    "\n",
    "# delay_chain_2[:,0] = np.array(delay_chain_2[:,0], dtype = int)\n",
    "# delay_chain_2[:,8] = np.array(delay_chain_2[:,8], dtype = int)\n",
    "# delay_chain_2[:,9] = np.array(delay_chain_2[:,9], dtype = int)\n",
    "# delay_chain_2[:,10] = np.array(delay_chain_2[:,10], dtype = int)\n",
    "\n",
    "# delay_chain_3[:,0] = np.array(delay_chain_3[:,0], dtype = int)\n",
    "# delay_chain_3[:,8] = np.array(delay_chain_3[:,8], dtype = int)\n",
    "# delay_chain_3[:,9] = np.array(delay_chain_3[:,9], dtype = int)\n",
    "# delay_chain_3[:,10] = np.array(delay_chain_3[:,10], dtype = int)\n",
    "\n",
    "# delay_chain_4[:,0] = np.array(delay_chain_4[:,0], dtype = int)\n",
    "# delay_chain_4[:,8] = np.array(delay_chain_4[:,8], dtype = int)\n",
    "# delay_chain_4[:,9] = np.array(delay_chain_4[:,9], dtype = int)\n",
    "# delay_chain_4[:,10] = np.array(delay_chain_4[:,10], dtype = int)\n",
    "\n",
    "# non_compliance_chain_1[:,0] = np.array(non_compliance_chain_1[:,0], dtype = int)\n",
    "# non_compliance_chain_1[:,8] = np.array(non_compliance_chain_1[:,8], dtype = int)\n",
    "# non_compliance_chain_1[:,9] = np.array(non_compliance_chain_1[:,9], dtype = int)\n",
    "# non_compliance_chain_1[:,10] = np.array(non_compliance_chain_1[:,10], dtype = int)\n",
    "\n",
    "# non_compliance_chain_2[:,0] = np.array(non_compliance_chain_2[:,0], dtype = int)\n",
    "# non_compliance_chain_2[:,8] = np.array(non_compliance_chain_2[:,8], dtype = int)\n",
    "# non_compliance_chain_2[:,9] = np.array(non_compliance_chain_2[:,9], dtype = int)\n",
    "# non_compliance_chain_2[:,10] = np.array(non_compliance_chain_2[:,10], dtype = int)\n",
    "\n",
    "# non_compliance_chain_3[:,0] = np.array(non_compliance_chain_3[:,0], dtype = int)\n",
    "# non_compliance_chain_3[:,8] = np.array(non_compliance_chain_3[:,8], dtype = int)\n",
    "# non_compliance_chain_3[:,9] = np.array(non_compliance_chain_3[:,9], dtype = int)\n",
    "# non_compliance_chain_3[:,10] = np.array(non_compliance_chain_3[:,10], dtype = int)\n",
    "\n",
    "# non_compliance_chain_4[:,0] = np.array(non_compliance_chain_4[:,0], dtype = int)\n",
    "# non_compliance_chain_4[:,8] = np.array(non_compliance_chain_4[:,8], dtype = int)\n",
    "# non_compliance_chain_4[:,9] = np.array(non_compliance_chain_4[:,9], dtype = int)\n",
    "# non_compliance_chain_4[:,10] = np.array(non_compliance_chain_4[:,10], dtype = int)\n",
    "stochastic_chain_1[:,0]= np.array(stochastic_chain_1[:,0], dtype = int)\n",
    "stochastic_chain_1[:,8]= np.array(stochastic_chain_1[:,8], dtype = int)\n",
    "\n",
    "stochastic_chain_2[:,0]= np.array(stochastic_chain_2[:,0], dtype = int)\n",
    "stochastic_chain_2[:,8]= np.array(stochastic_chain_2[:,8], dtype = int)\n",
    "\n",
    "stochastic_chain_3[:,0]= np.array(stochastic_chain_3[:,0], dtype = int)\n",
    "stochastic_chain_3[:,8]= np.array(stochastic_chain_3[:,8], dtype = int)\n",
    "\n",
    "stochastic_chain_4[:,0]= np.array(stochastic_chain_4[:,0], dtype = int)\n",
    "stochastic_chain_4[:,8]= np.array(stochastic_chain_4[:,8], dtype = int)\n",
    "\n",
    "stochastic_sp_reparam_chain_1[:,0] = np.array(stochastic_sp_reparam_chain_1[:,0], dtype = int)\n",
    "stochastic_sp_reparam_chain_1[:,8] = np.array(stochastic_sp_reparam_chain_1[:,8], dtype = int)\n",
    "\n",
    "stochastic_sp_reparam_chain_2[:,0] = np.array(stochastic_sp_reparam_chain_2[:,0], dtype = int)\n",
    "stochastic_sp_reparam_chain_2[:,8] = np.array(stochastic_sp_reparam_chain_2[:,8], dtype = int)\n",
    "\n",
    "stochastic_sp_reparam_chain_3[:,0] = np.array(stochastic_sp_reparam_chain_3[:,0], dtype = int)\n",
    "stochastic_sp_reparam_chain_3[:,8] = np.array(stochastic_sp_reparam_chain_3[:,8], dtype = int)\n",
    "\n",
    "stochastic_sp_reparam_chain_1[:,0] = np.array(stochastic_sp_reparam_chain_4[:,0], dtype = int)\n",
    "stochastic_sp_reparam_chain_1[:,8] = np.array(stochastic_sp_reparam_chain_4[:,8], dtype = int)\n",
    "\n",
    "sp_reparam_chain_1[:,0] = np.array(sp_reparam_chain_1[:,0], dtype = int)\n",
    "sp_reparam_chain_1[:,8] = np.array(sp_reparam_chain_1[:,8], dtype = int)\n",
    "\n",
    "sp_reparam_chain_2[:,0] = np.array(sp_reparam_chain_2[:,0], dtype = int)\n",
    "sp_reparam_chain_2[:,8] = np.array(sp_reparam_chain_2[:,8], dtype = int)\n",
    "\n",
    "sp_reparam_chain_3[:,0] = np.array(sp_reparam_chain_3[:,0], dtype = int)\n",
    "sp_reparam_chain_3[:,8] = np.array(sp_reparam_chain_3[:,8], dtype = int)\n",
    "\n",
    "\n",
    "sp_reparam_chain_4[:,0] = np.array(sp_reparam_chain_4[:,0], dtype = int)\n",
    "sp_reparam_chain_4[:,8] = np.array(sp_reparam_chain_4[:,8], dtype = int)\n",
    "\n",
    "model_exper_no_uncertain_chain_1[:,0] = np.array(model_exper_no_uncertain_chain_1[:,0], dtype = int)\n",
    "model_exper_no_uncertain_chain_1[:,8] = np.array(model_exper_no_uncertain_chain_1[:,8], dtype = int)\n",
    "\n",
    "model_exper_no_uncertain_chain_2[:,0] = np.array(model_exper_no_uncertain_chain_2[:,0], dtype = int)\n",
    "model_exper_no_uncertain_chain_2[:,8] = np.array(model_exper_no_uncertain_chain_2[:,8], dtype = int)\n",
    "\n",
    "model_exper_no_uncertain_chain_3[:,0] = np.array(model_exper_no_uncertain_chain_3[:,0], dtype = int)\n",
    "model_exper_no_uncertain_chain_3[:,8] = np.array(model_exper_no_uncertain_chain_3[:,8], dtype = int)\n",
    "\n",
    "model_exper_no_uncertain_chain_4[:,0] = np.array(model_exper_no_uncertain_chain_4[:,0], dtype = int)\n",
    "model_exper_no_uncertain_chain_4[:,8] = np.array(model_exper_no_uncertain_chain_4[:,8], dtype = int)\n",
    "\n",
    "model_exper_uncertain_chain_1[:,0] = np.array(model_exper_uncertain_chain_1[:,0], dtype = int)\n",
    "model_exper_uncertain_chain_1[:,8] = np.array(model_exper_uncertain_chain_1[:,8], dtype = int)\n",
    "\n",
    "model_exper_uncertain_chain_2[:,0] = np.array(model_exper_uncertain_chain_2[:,0], dtype = int)\n",
    "model_exper_uncertain_chain_2[:,8] = np.array(model_exper_uncertain_chain_2[:,8], dtype = int)\n",
    "\n",
    "model_exper_uncertain_chain_3[:,0] = np.array(model_exper_uncertain_chain_3[:,0], dtype = int)\n",
    "model_exper_uncertain_chain_3[:,8] = np.array(model_exper_uncertain_chain_3[:,8], dtype = int)\n",
    "\n",
    "model_exper_uncertain_chain_4[:,0] = np.array(model_exper_uncertain_chain_4[:,0], dtype = int)\n",
    "model_exper_uncertain_chain_4[:,8] = np.array(model_exper_uncertain_chain_4[:,8], dtype = int)\n",
    "\n",
    "model_exper_rt_fixed_chain_1[:,0] = np.array(model_exper_rt_fixed_chain_1[:,0], dtype = int)\n",
    "model_exper_rt_fixed_chain_1[:,7] = np.array(model_exper_rt_fixed_chain_1[:,7], dtype = int)\n",
    "\n",
    "model_exper_rt_fixed_chain_2[:,0] = np.array(model_exper_rt_fixed_chain_2[:,0], dtype = int)\n",
    "model_exper_rt_fixed_chain_2[:,7] = np.array(model_exper_rt_fixed_chain_2[:,7], dtype = int)\n",
    "\n",
    "model_exper_rt_fixed_chain_3[:,0] = np.array(model_exper_rt_fixed_chain_3[:,0], dtype = int)\n",
    "model_exper_rt_fixed_chain_3[:,7] = np.array(model_exper_rt_fixed_chain_3[:,7], dtype = int)\n",
    "\n",
    "model_exper_rt_fixed_chain_4[:,0] = np.array(model_exper_rt_fixed_chain_4[:,0], dtype = int)\n",
    "model_exper_rt_fixed_chain_4[:,7] = np.array(model_exper_rt_fixed_chain_4[:,7], dtype = int)\n",
    "\n",
    "\n",
    "# model_exper_rt_fixed_community_params_fixed_chain_1[:,0] = np.array(model_exper_rt_fixed_community_params_fixed_chain_1[:,0], dtype = int)\n",
    "# model_exper_rt_fixed_community_params_fixed_chain_1[:,7] = np.array(model_exper_rt_fixed_community_params_fixed_chain_1[:,7], dtype = int)\n",
    "\n",
    "# model_exper_rt_fixed_community_params_fixed_chain_2[:,0] = np.array(model_exper_rt_fixed_community_params_fixed_chain_2[:,0], dtype = int)\n",
    "# model_exper_rt_fixed_community_params_fixed_chain_2[:,8] = np.array(model_exper_rt_fixed_community_params_fixed_chain_2[:,8], dtype = int)\n",
    "\n",
    "# model_exper_rt_fixed_community_params_fixed_chain_3[:,0] = np.array(model_exper_rt_fixed_community_params_fixed_chain_3[:,0], dtype = int)\n",
    "# model_exper_rt_fixed_community_params_fixed_chain_3[:,8] = np.array(model_exper_rt_fixed_community_params_fixed_chain_3[:,8], dtype = int)\n",
    "\n",
    "# model_exper_rt_fixed_community_params_fixed_chain_4[:,0] = np.array(model_exper_rt_fixed_community_params_fixed_chain_4[:,0], dtype = int)\n",
    "# model_exper_rt_fixed_community_params_fixed_chain_4[:,8] = np.array(model_exper_rt_fixed_community_params_fixed_chain_4[:,8], dtype = int)\n",
    "\n",
    "model_exper_adapted_LL_chain_1[:,0] = np.array(model_exper_adapted_LL_chain_1[:,0], dtype = int)\n",
    "model_exper_adapted_LL_chain_1[:,8] = np.array(model_exper_adapted_LL_chain_1[:,8], dtype = int)\n",
    "\n",
    "model_exper_adapted_LL_chain_2[:,0] = np.array(model_exper_adapted_LL_chain_2[:,0], dtype = int)\n",
    "model_exper_adapted_LL_chain_2[:,8] = np.array(model_exper_adapted_LL_chain_2[:,8], dtype = int)\n",
    "\n",
    "model_exper_adapted_LL_chain_3[:,0] = np.array(model_exper_adapted_LL_chain_3[:,0], dtype = int)\n",
    "model_exper_adapted_LL_chain_3[:,8] = np.array(model_exper_adapted_LL_chain_3[:,8], dtype = int)\n",
    "\n",
    "model_exper_adapted_LL_chain_4[:,0] = np.array(model_exper_adapted_LL_chain_4[:,0], dtype = int)\n",
    "model_exper_adapted_LL_chain_4[:,8] = np.array(model_exper_adapted_LL_chain_4[:,8], dtype = int)\n",
    "\n",
    "\n",
    "\n",
    "rit_data_adapted_LL_chain_1[:,0] = np.array(rit_data_adapted_LL_chain_1[:,0], dtype = int)\n",
    "rit_data_adapted_LL_chain_1[:,8] = np.array(rit_data_adapted_LL_chain_1[:,8], dtype = int)\n",
    "\n",
    "# rit_data_adapted_LL_chain_2 = pd.read_csv(r'', names = ['Iter', 'Frequency of ES', 'Time to Recovery', 'Percent Advancing', ' Rt', 'Symptom Case Fatality','Days to Incubation', 'Test Sensitivity', 'Test Specificity', 'New Infections per Shock'])\n",
    "rit_data_adapted_LL_chain_3[:,0] = np.array(rit_data_adapted_LL_chain_3[:,0], dtype = int)\n",
    "rit_data_adapted_LL_chain_3[:,8] = np.array(rit_data_adapted_LL_chain_3[:,8], dtype = int)\n",
    "\n",
    "rit_data_adapted_LL_chain_4[:,0] = np.array(rit_data_adapted_LL_chain_4[:,0], dtype = int)\n",
    "rit_data_adapted_LL_chain_4[:,8] = np.array(rit_data_adapted_LL_chain_4[:,8], dtype = int)\n",
    "\n",
    "\n",
    "rit_data_adapted_LL_init_infect_chain_1[:,0] = np.array(rit_data_adapted_LL_init_infect_chain_1[:,0], dtype = int)\n",
    "rit_data_adapted_LL_init_infect_chain_1[:,8] = np.array(rit_data_adapted_LL_init_infect_chain_1[:,8], dtype = int)\n",
    "\n",
    "rit_data_adapted_LL_init_infect_chain_2[:,0] = np.array(rit_data_adapted_LL_init_infect_chain_2[:,0], dtype = int)\n",
    "rit_data_adapted_LL_init_infect_chain_2[:,8] = np.array(rit_data_adapted_LL_init_infect_chain_2[:,8], dtype = int)\n",
    "\n",
    "rit_data_adapted_LL_init_infect_chain_3[:,0] = np.array(rit_data_adapted_LL_init_infect_chain_3[:,0], dtype = int)\n",
    "rit_data_adapted_LL_init_infect_chain_3[:,8] = np.array(rit_data_adapted_LL_init_infect_chain_3[:,8], dtype = int)\n",
    "\n",
    "rit_data_adapted_LL_init_infect_chain_4[:,0] = np.array(rit_data_adapted_LL_init_infect_chain_4[:,0], dtype = int)\n",
    "rit_data_adapted_LL_init_infect_chain_4[:,8] = np.array(rit_data_adapted_LL_init_infect_chain_4[:,8], dtype = int)\n",
    "\n",
    "rit_data_adapted_LL_init_infect_stochastic_weight_chain_1[:,0] = np.array(rit_data_adapted_LL_init_infect_stochastic_weight_chain_1[:,0], dtype = int)\n",
    "rit_data_adapted_LL_init_infect_stochastic_weight_chain_1[:,8] = np.array(rit_data_adapted_LL_init_infect_stochastic_weight_chain_1[:,8], dtype = int)\n",
    "\n",
    "rit_data_adapted_LL_init_infect_stochastic_weight_chain_2[:,0] = np.array(rit_data_adapted_LL_init_infect_stochastic_weight_chain_2[:,0], dtype = int)\n",
    "rit_data_adapted_LL_init_infect_stochastic_weight_chain_2[:,8] = np.array(rit_data_adapted_LL_init_infect_stochastic_weight_chain_2[:,8], dtype = int)\n",
    "\n",
    "rit_data_adapted_LL_init_infect_stochastic_weight_chain_3[:,0] = np.array(rit_data_adapted_LL_init_infect_stochastic_weight_chain_3[:,0], dtype = int)\n",
    "rit_data_adapted_LL_init_infect_stochastic_weight_chain_3[:,8] = np.array(rit_data_adapted_LL_init_infect_stochastic_weight_chain_3[:,8], dtype = int)\n",
    "\n",
    "rit_data_adapted_LL_init_infect_stochastic_weight_chain_4[:,0] = np.array(rit_data_adapted_LL_init_infect_stochastic_weight_chain_4[:,0], dtype = int)\n",
    "rit_data_adapted_LL_init_infect_stochastic_weight_chain_4[:,8] = np.array(rit_data_adapted_LL_init_infect_stochastic_weight_chain_4[:,8], dtype = int)\n"
   ]
  },
  {
   "cell_type": "code",
   "execution_count": 14,
   "id": "543ce4a2",
   "metadata": {},
   "outputs": [],
   "source": [
    "convergence_threshold_og_cal = 70000\n",
    "convergence_threshold_init_cal = 90000\n",
    "convergence_threshold_sp_reparam = 60000\n",
    "convergence_threshold_stochastic_sp_reparam = 50000\n",
    "convergence_threshold_stochastic = 90000\n",
    "\n",
    "convergence_threshold_model_exper_uncertain = 50000\n",
    "convergence_threshold_model_exper_no_uncertain = 50000\n",
    "\n",
    "convergence_threshold_model_exper_rt_fixed_chain = 60000\n",
    "convergence_threshold_model_exper_rt_community_transmission_fixed = 8000\n",
    "\n",
    "convergence_threshold_model_exper_adapted_LL = 170000\n",
    "convergence_threshold_adapted_LL = 160000\n",
    "\n",
    "convergence_threshold_adapted_LL_init_infect = 160000\n",
    "\n",
    "convergence_threshold_adapted_LL_stochastic_weight = 20000"
   ]
  },
  {
   "cell_type": "markdown",
   "id": "23df46f1",
   "metadata": {},
   "source": [
    "## Burned in Samples\n",
    "### OG Calibration"
   ]
  },
  {
   "cell_type": "code",
   "execution_count": 15,
   "id": "772acdfe",
   "metadata": {},
   "outputs": [
    {
     "data": {
      "text/plain": [
       "(30000, 9)"
      ]
     },
     "execution_count": 15,
     "metadata": {},
     "output_type": "execute_result"
    }
   ],
   "source": [
    "og_calibration_burn_in_1 = og_calibration_chain_1[convergence_threshold_og_cal:, :]\n",
    "og_calibration_burn_in_2 = og_calibration_chain_2[convergence_threshold_og_cal:, :]\n",
    "og_calibration_burn_in_3 = og_calibration_chain_3[convergence_threshold_og_cal:, :]\n",
    "og_calibration_burn_in_4 = og_calibration_chain_4[convergence_threshold_og_cal:, :]\n",
    "\n",
    "np.shape(og_calibration_burn_in_1)"
   ]
  },
  {
   "cell_type": "markdown",
   "id": "73383753",
   "metadata": {},
   "source": [
    "### Initial Infected and Adjusted Testing Term"
   ]
  },
  {
   "cell_type": "code",
   "execution_count": 16,
   "id": "ff323442",
   "metadata": {},
   "outputs": [
    {
     "data": {
      "text/plain": [
       "(10000, 10)"
      ]
     },
     "execution_count": 16,
     "metadata": {},
     "output_type": "execute_result"
    }
   ],
   "source": [
    "initi_infect_adjust_test_terms_chain_1_burn_in = initi_infect_adjust_test_terms_chain_1 [convergence_threshold_init_cal:, :]\n",
    "initi_infect_adjust_test_terms_chain_2_burn_in = initi_infect_adjust_test_terms_chain_2[convergence_threshold_init_cal:, :]\n",
    "initi_infect_adjust_test_terms_chain_3_burn_in = initi_infect_adjust_test_terms_chain_3[convergence_threshold_init_cal:, :]\n",
    "initi_infect_adjust_test_terms_chain_4_burn_in = initi_infect_adjust_test_terms_chain_4[convergence_threshold_init_cal:, :]\n",
    "\n",
    "np.shape(initi_infect_adjust_test_terms_chain_2_burn_in)"
   ]
  },
  {
   "cell_type": "markdown",
   "id": "0b558add",
   "metadata": {},
   "source": [
    "### Reparam Sp"
   ]
  },
  {
   "cell_type": "code",
   "execution_count": 17,
   "id": "59738b04",
   "metadata": {},
   "outputs": [
    {
     "data": {
      "text/plain": [
       "(40000, 9)"
      ]
     },
     "execution_count": 17,
     "metadata": {},
     "output_type": "execute_result"
    }
   ],
   "source": [
    "sp_reparam_chain_1_burn_in = sp_reparam_chain_1 [convergence_threshold_sp_reparam:, :]\n",
    "sp_reparam_chain_2_burn_in = sp_reparam_chain_2[convergence_threshold_sp_reparam:, :]\n",
    "sp_reparam_chain_3_burn_in = sp_reparam_chain_3 [convergence_threshold_sp_reparam:, :]\n",
    "sp_reparam_chain_4_burn_in = sp_reparam_chain_4[convergence_threshold_sp_reparam:, :]\n",
    "\n",
    "np.shape(sp_reparam_chain_1_burn_in)"
   ]
  },
  {
   "cell_type": "markdown",
   "id": "a107c711",
   "metadata": {},
   "source": [
    "### Stochasticity"
   ]
  },
  {
   "cell_type": "code",
   "execution_count": 18,
   "id": "2f182476",
   "metadata": {},
   "outputs": [
    {
     "data": {
      "text/plain": [
       "(10000, 9)"
      ]
     },
     "execution_count": 18,
     "metadata": {},
     "output_type": "execute_result"
    }
   ],
   "source": [
    "stochastic_chain_1_burn_in = stochastic_chain_1[convergence_threshold_stochastic:,:]\n",
    "stochastic_chain_2_burn_in = stochastic_chain_2[convergence_threshold_stochastic:,:]\n",
    "stochastic_chain_3_burn_in = stochastic_chain_3[convergence_threshold_stochastic:,:]\n",
    "stochastic_chain_4_burn_in = stochastic_chain_4[convergence_threshold_stochastic:,:]\n",
    "\n",
    "np.shape(stochastic_chain_1_burn_in)"
   ]
  },
  {
   "cell_type": "markdown",
   "id": "bd352a72",
   "metadata": {},
   "source": [
    "### Stochastic and Sp reparam"
   ]
  },
  {
   "cell_type": "code",
   "execution_count": 19,
   "id": "f8ebd7b0",
   "metadata": {},
   "outputs": [
    {
     "data": {
      "text/plain": [
       "(50000, 9)"
      ]
     },
     "execution_count": 19,
     "metadata": {},
     "output_type": "execute_result"
    }
   ],
   "source": [
    "stochastic_sp_reparam_chain_1_burn_in = stochastic_sp_reparam_chain_1[convergence_threshold_stochastic_sp_reparam:,:]\n",
    "stochastic_sp_reparam_chain_2_burn_in = stochastic_sp_reparam_chain_2[convergence_threshold_stochastic_sp_reparam:,:]\n",
    "stochastic_sp_reparam_chain_3_burn_in = stochastic_sp_reparam_chain_3[convergence_threshold_stochastic_sp_reparam:,:]\n",
    "stochastic_sp_reparam_chain_4_burn_in = stochastic_sp_reparam_chain_4[convergence_threshold_stochastic_sp_reparam:,:]\n",
    "\n",
    "\n",
    "np.shape(stochastic_sp_reparam_chain_1_burn_in)"
   ]
  },
  {
   "cell_type": "markdown",
   "id": "5abff9df",
   "metadata": {},
   "source": [
    "### Model Experiment NO Uncertainty"
   ]
  },
  {
   "cell_type": "code",
   "execution_count": 20,
   "id": "d27e9fbd",
   "metadata": {},
   "outputs": [
    {
     "data": {
      "text/plain": [
       "(50000, 9)"
      ]
     },
     "execution_count": 20,
     "metadata": {},
     "output_type": "execute_result"
    }
   ],
   "source": [
    "model_exper_no_uncertain_chain_1_burn_in = model_exper_no_uncertain_chain_1[convergence_threshold_model_exper_no_uncertain:,:]\n",
    "model_exper_no_uncertain_chain_2_burn_in = model_exper_no_uncertain_chain_2[convergence_threshold_model_exper_no_uncertain:,:]\n",
    "model_exper_no_uncertain_chain_3_burn_in = model_exper_no_uncertain_chain_3[convergence_threshold_model_exper_no_uncertain:,:]\n",
    "model_exper_no_uncertain_chain_4_burn_in = model_exper_no_uncertain_chain_4[convergence_threshold_model_exper_no_uncertain:,:]\n",
    "\n",
    "np.shape(model_exper_no_uncertain_chain_1_burn_in)"
   ]
  },
  {
   "cell_type": "markdown",
   "id": "0f22857f",
   "metadata": {},
   "source": [
    "### Model Experiment w/ Uncertainty"
   ]
  },
  {
   "cell_type": "code",
   "execution_count": 21,
   "id": "e5f8b0b5",
   "metadata": {},
   "outputs": [
    {
     "data": {
      "text/plain": [
       "(50000, 9)"
      ]
     },
     "execution_count": 21,
     "metadata": {},
     "output_type": "execute_result"
    }
   ],
   "source": [
    "model_exper_uncertain_chain_1_burn_in = model_exper_uncertain_chain_1[convergence_threshold_model_exper_uncertain:,:]\n",
    "model_exper_uncertain_chain_2_burn_in = model_exper_uncertain_chain_2[convergence_threshold_model_exper_uncertain:,:]\n",
    "model_exper_uncertain_chain_3_burn_in = model_exper_uncertain_chain_3[convergence_threshold_model_exper_uncertain:,:]\n",
    "model_exper_uncertain_chain_4_burn_in = model_exper_uncertain_chain_4[convergence_threshold_model_exper_uncertain:,:]\n",
    "\n",
    "np.shape(model_exper_uncertain_chain_1_burn_in)"
   ]
  },
  {
   "cell_type": "markdown",
   "id": "66396956",
   "metadata": {},
   "source": [
    "### Model Experiment w/ Uncertainty Rt Fixed"
   ]
  },
  {
   "cell_type": "code",
   "execution_count": 22,
   "id": "c2324908",
   "metadata": {},
   "outputs": [
    {
     "data": {
      "text/plain": [
       "(90000, 8)"
      ]
     },
     "execution_count": 22,
     "metadata": {},
     "output_type": "execute_result"
    }
   ],
   "source": [
    "model_exper_rt_fixed_chain_1_burn_in = model_exper_rt_fixed_chain_1[convergence_threshold_model_exper_rt_fixed_chain:,:]\n",
    "model_exper_rt_fixed_chain_2_burn_in = model_exper_rt_fixed_chain_2[convergence_threshold_model_exper_rt_fixed_chain:,:]\n",
    "model_exper_rt_fixed_chain_3_burn_in = model_exper_rt_fixed_chain_3[convergence_threshold_model_exper_rt_fixed_chain:,:]\n",
    "model_exper_rt_fixed_chain_4_burn_in = model_exper_rt_fixed_chain_4[convergence_threshold_model_exper_rt_fixed_chain:,:]\n",
    "\n",
    "np.shape(model_exper_rt_fixed_chain_1_burn_in)"
   ]
  },
  {
   "cell_type": "markdown",
   "id": "193ccc48",
   "metadata": {},
   "source": [
    "### Model Experiment w/ Uncertainty Rt and Community Transmission Parameters Fixed"
   ]
  },
  {
   "cell_type": "code",
   "execution_count": 23,
   "id": "521d59b2",
   "metadata": {},
   "outputs": [
    {
     "data": {
      "text/plain": [
       "(92000, 6)"
      ]
     },
     "execution_count": 23,
     "metadata": {},
     "output_type": "execute_result"
    }
   ],
   "source": [
    "model_exper_rt_fixed_community_params_fixed_chain_1_burn_in = model_exper_rt_fixed_community_params_fixed_chain_1[convergence_threshold_model_exper_rt_community_transmission_fixed:,:]\n",
    "model_exper_rt_fixed_community_params_fixed_chain_2_burn_in = model_exper_rt_fixed_community_params_fixed_chain_2[convergence_threshold_model_exper_rt_community_transmission_fixed:,:]\n",
    "model_exper_rt_fixed_community_params_fixed_chain_3_burn_in = model_exper_rt_fixed_community_params_fixed_chain_3[convergence_threshold_model_exper_rt_community_transmission_fixed:,:]\n",
    "model_exper_rt_fixed_community_params_fixed_chain_4_burn_in = model_exper_rt_fixed_community_params_fixed_chain_4[convergence_threshold_model_exper_rt_community_transmission_fixed:,:]\n",
    "\n",
    "np.shape(model_exper_rt_fixed_community_params_fixed_chain_1_burn_in)"
   ]
  },
  {
   "cell_type": "markdown",
   "id": "622107a3",
   "metadata": {},
   "source": [
    "### Model Experiment w/ adapted LL"
   ]
  },
  {
   "cell_type": "code",
   "execution_count": 24,
   "id": "77a05ea1",
   "metadata": {},
   "outputs": [
    {
     "data": {
      "text/plain": [
       "(30000, 9)"
      ]
     },
     "execution_count": 24,
     "metadata": {},
     "output_type": "execute_result"
    }
   ],
   "source": [
    "model_exper_adapted_LL_chain_1_burn_in = model_exper_adapted_LL_chain_1[convergence_threshold_model_exper_adapted_LL:,:]\n",
    "model_exper_adapted_LL_chain_2_burn_in = model_exper_adapted_LL_chain_2[convergence_threshold_model_exper_adapted_LL:,:]\n",
    "model_exper_adapted_LL_chain_3_burn_in = model_exper_adapted_LL_chain_3[convergence_threshold_model_exper_adapted_LL:,:]\n",
    "model_exper_adapted_LL_chain_4_burn_in = model_exper_adapted_LL_chain_4[convergence_threshold_model_exper_adapted_LL:,:]\n",
    "\n",
    "\n",
    "np.shape(model_exper_adapted_LL_chain_1_burn_in)"
   ]
  },
  {
   "cell_type": "markdown",
   "id": "b99bc775",
   "metadata": {},
   "source": [
    "### RIT Data w/ adapted LL"
   ]
  },
  {
   "cell_type": "code",
   "execution_count": 25,
   "id": "fb41c49c",
   "metadata": {},
   "outputs": [
    {
     "data": {
      "text/plain": [
       "(140000, 9)"
      ]
     },
     "execution_count": 25,
     "metadata": {},
     "output_type": "execute_result"
    }
   ],
   "source": [
    "rit_data_adapted_LL_chain_1_burn_in = rit_data_adapted_LL_chain_1[convergence_threshold_adapted_LL:,:]\n",
    "# rit_data_adapted_LL_chain_2_burn_in = rit_data_adapted_LL_chain_1[convergence_threshold_adapted_LL:,:]model_exper_adapted_LL_chain_3_burn_in = model_exper_adapted_LL_chain_3[convergence_threshold_model_exper_adapted_LL:,:]\n",
    "rit_data_adapted_LL_chain_3_burn_in = rit_data_adapted_LL_chain_3[convergence_threshold_adapted_LL:,:]\n",
    "rit_data_adapted_LL_chain_4_burn_in = rit_data_adapted_LL_chain_4[convergence_threshold_adapted_LL:,:]\n",
    "\n",
    "np.shape(rit_data_adapted_LL_chain_1_burn_in)"
   ]
  },
  {
   "cell_type": "code",
   "execution_count": 26,
   "id": "aa25c1c4",
   "metadata": {},
   "outputs": [
    {
     "data": {
      "text/plain": [
       "array([[ 1.00000000e+00, -4.61325187e-01,  1.14574112e+00, ...,\n",
       "         1.29149130e-01,  4.86771890e-03,  3.00000000e+00],\n",
       "       [ 1.00000000e+00, -4.61325187e-01,  1.14574112e+00, ...,\n",
       "         1.29149130e-01,  4.86771890e-03,  3.00000000e+00],\n",
       "       [ 1.00000000e+00, -4.61325187e-01,  1.14574112e+00, ...,\n",
       "         1.29149130e-01,  4.86771890e-03,  3.00000000e+00],\n",
       "       ...,\n",
       "       [ 3.00000000e+00, -3.61481318e-02,  3.14092881e+00, ...,\n",
       "        -1.30504254e-02, -2.67561977e-03,  8.00000000e+00],\n",
       "       [ 3.00000000e+00, -3.61481318e-02,  3.14092881e+00, ...,\n",
       "        -1.30504254e-02, -2.67561977e-03,  8.00000000e+00],\n",
       "       [ 3.00000000e+00, -3.61481318e-02,  3.14092881e+00, ...,\n",
       "        -1.30504254e-02, -2.67561977e-03,  8.00000000e+00]])"
      ]
     },
     "execution_count": 26,
     "metadata": {},
     "output_type": "execute_result"
    }
   ],
   "source": [
    "rit_data_adapted_LL_chain_4_burn_in-rit_data_adapted_LL_chain_1_burn_in"
   ]
  },
  {
   "cell_type": "markdown",
   "id": "dbf6434e",
   "metadata": {},
   "source": [
    "### RIT Data w/ adapted LL and Initial Infected"
   ]
  },
  {
   "cell_type": "code",
   "execution_count": 27,
   "id": "1c2697c4",
   "metadata": {
    "scrolled": true
   },
   "outputs": [
    {
     "data": {
      "text/plain": [
       "(440000, 10)"
      ]
     },
     "execution_count": 27,
     "metadata": {},
     "output_type": "execute_result"
    }
   ],
   "source": [
    "rit_data_adapted_LL_init_infect_chain_1_burn_in = rit_data_adapted_LL_init_infect_chain_1[convergence_threshold_adapted_LL_init_infect:,:]\n",
    "rit_data_adapted_LL_init_infect_chain_2_burn_in = rit_data_adapted_LL_init_infect_chain_2[convergence_threshold_adapted_LL_init_infect:,:]\n",
    "rit_data_adapted_LL_init_infect_chain_3_burn_in = rit_data_adapted_LL_init_infect_chain_3[convergence_threshold_adapted_LL_init_infect:,:]\n",
    "rit_data_adapted_LL_init_infect_chain_4_burn_in = rit_data_adapted_LL_init_infect_chain_4[convergence_threshold_adapted_LL_init_infect:,:]\n",
    "\n",
    "np.shape(rit_data_adapted_LL_init_infect_chain_1_burn_in )"
   ]
  },
  {
   "cell_type": "markdown",
   "id": "264b3e0c",
   "metadata": {},
   "source": [
    "### RIT Data w/ adapted LL Initial infect, initial iso, stochastic test, weighted LL"
   ]
  },
  {
   "cell_type": "code",
   "execution_count": 29,
   "id": "9f0432c2",
   "metadata": {},
   "outputs": [],
   "source": [
    "rit_data_adapted_LL_init_infect_stochastic_weight_chain_1_burn_in = rit_data_adapted_LL_init_infect_stochastic_weight_chain_1[convergence_threshold_adapted_LL_stochastic_weight:,:]\n",
    "rit_data_adapted_LL_init_infect_stochastic_weight_chain_2_burn_in = rit_data_adapted_LL_init_infect_stochastic_weight_chain_2[convergence_threshold_adapted_LL_stochastic_weight:,:]\n",
    "rit_data_adapted_LL_init_infect_stochastic_weight_chain_3_burn_in = rit_data_adapted_LL_init_infect_stochastic_weight_chain_3[convergence_threshold_adapted_LL_stochastic_weight:,:]\n",
    "rit_data_adapted_LL_init_infect_stochastic_weight_chain_4_burn_in = rit_data_adapted_LL_init_infect_stochastic_weight_chain_4[convergence_threshold_adapted_LL_stochastic_weight:,:]"
   ]
  },
  {
   "cell_type": "markdown",
   "id": "fb8a120f",
   "metadata": {},
   "source": [
    "### Format Burned In States as a Tensor\n",
    "#### OG Calibration\n"
   ]
  },
  {
   "cell_type": "code",
   "execution_count": 34,
   "id": "6c203f3a",
   "metadata": {},
   "outputs": [],
   "source": [
    "states_og_cal_1 = tf.convert_to_tensor(og_calibration_burn_in_1)\n",
    "states_og_cal_2 = tf.convert_to_tensor(og_calibration_burn_in_2)\n",
    "states_og_cal_3 = tf.convert_to_tensor(og_calibration_burn_in_3)\n",
    "states_og_cal_4 = tf.convert_to_tensor(og_calibration_burn_in_4)"
   ]
  },
  {
   "cell_type": "code",
   "execution_count": 35,
   "id": "db93c3c1",
   "metadata": {},
   "outputs": [
    {
     "data": {
      "text/plain": [
       "<tf.Tensor: shape=(30000, 9), dtype=float64, numpy=\n",
       "array([[ 5.        , 14.18324262, 27.67164469, ...,  0.76391017,\n",
       "         0.99898303,  8.        ],\n",
       "       [ 5.        , 14.18324262, 27.67164469, ...,  0.76391017,\n",
       "         0.99898303,  8.        ],\n",
       "       [ 4.        , 16.73751851, 33.49892791, ...,  0.77281602,\n",
       "         0.99926775, 10.        ],\n",
       "       ...,\n",
       "       [ 6.        , 15.57948649, 24.04413283, ...,  0.79610014,\n",
       "         0.99792392, 11.        ],\n",
       "       [ 6.        , 15.57948649, 24.04413283, ...,  0.79610014,\n",
       "         0.99792392, 11.        ],\n",
       "       [ 7.        , 13.77061373, 21.41370521, ...,  0.78924635,\n",
       "         0.99699309, 13.        ]])>"
      ]
     },
     "execution_count": 35,
     "metadata": {},
     "output_type": "execute_result"
    }
   ],
   "source": [
    "states_og_cal_1 "
   ]
  },
  {
   "cell_type": "code",
   "execution_count": 36,
   "id": "a64caf99",
   "metadata": {},
   "outputs": [
    {
     "name": "stdout",
     "output_type": "stream",
     "text": [
      "WARNING:tensorflow:You are casting an input of type complex128 to an incompatible dtype float64.  This will discard the imaginary part and may not be what you intended.\n",
      "tf.Tensor(\n",
      "[ 725.59140784  646.21908076  462.03338379  490.80319845  651.52007753\n",
      "  588.96071054  457.51953289 1134.54846115  463.76639972], shape=(9,), dtype=float64)\n",
      "WARNING:tensorflow:You are casting an input of type complex128 to an incompatible dtype float64.  This will discard the imaginary part and may not be what you intended.\n",
      "tf.Tensor(\n",
      "[547.96553091 456.88269922 428.80471259 470.7228077  721.07829879\n",
      " 474.19174434 542.93281809 701.27622296 729.44568736], shape=(9,), dtype=float64)\n",
      "WARNING:tensorflow:You are casting an input of type complex128 to an incompatible dtype float64.  This will discard the imaginary part and may not be what you intended.\n",
      "tf.Tensor(\n",
      "[332.95272726 315.00576417 333.03594689 293.99853184 405.3105894\n",
      " 397.1725097  562.99196712 379.44417557 645.92316163], shape=(9,), dtype=float64)\n",
      "WARNING:tensorflow:You are casting an input of type complex128 to an incompatible dtype float64.  This will discard the imaginary part and may not be what you intended.\n",
      "tf.Tensor(\n",
      "[560.93550576 450.11124078 529.96979194 534.244163   450.21887234\n",
      " 522.93526802 519.40781471 635.60633017 483.73961637], shape=(9,), dtype=float64)\n"
     ]
    }
   ],
   "source": [
    "ess_og_cal_1 = tfp.mcmc.effective_sample_size(states_og_cal_1)\n",
    "print(ess_og_cal_1)\n",
    "ess_og_cal_2 = tfp.mcmc.effective_sample_size(states_og_cal_2)\n",
    "print(ess_og_cal_2)\n",
    "ess_og_cal_3 = tfp.mcmc.effective_sample_size(states_og_cal_3)\n",
    "print(ess_og_cal_3)\n",
    "ess_og_cal_4 = tfp.mcmc.effective_sample_size(states_og_cal_4)\n",
    "print(ess_og_cal_4)"
   ]
  },
  {
   "cell_type": "code",
   "execution_count": 37,
   "id": "616d95d8",
   "metadata": {},
   "outputs": [
    {
     "name": "stdout",
     "output_type": "stream",
     "text": [
      "Min 1: tf.Tensor(457.5195328923628, shape=(), dtype=float64)\n",
      "Min 2: tf.Tensor(428.80471258751294, shape=(), dtype=float64)\n",
      "Min 3: tf.Tensor(293.9985318426003, shape=(), dtype=float64)\n",
      "Min 4: tf.Tensor(450.11124078075136, shape=(), dtype=float64)\n",
      "Min all: tf.Tensor(293.9985318426003, shape=(), dtype=float64)\n"
     ]
    }
   ],
   "source": [
    "print('Min 1:', min(ess_og_cal_1))\n",
    "print('Min 2:', min(ess_og_cal_2))\n",
    "print('Min 3:', min(ess_og_cal_3))\n",
    "print('Min 4:', min(ess_og_cal_4))\n",
    "\n",
    "print('Min all:', min((min(ess_og_cal_1),min(ess_og_cal_2), min(ess_og_cal_3), min(ess_og_cal_4))))"
   ]
  },
  {
   "cell_type": "markdown",
   "id": "43f69aa1",
   "metadata": {},
   "source": [
    "#### Initial Infect Adjusted Testing Term"
   ]
  },
  {
   "cell_type": "code",
   "execution_count": 38,
   "id": "792af010",
   "metadata": {},
   "outputs": [
    {
     "ename": "NameError",
     "evalue": "name 'initi_infect_adjust_test_terms_burn_in' is not defined",
     "output_type": "error",
     "traceback": [
      "\u001b[0;31m---------------------------------------------------------------------------\u001b[0m",
      "\u001b[0;31mNameError\u001b[0m                                 Traceback (most recent call last)",
      "Cell \u001b[0;32mIn[38], line 1\u001b[0m\n\u001b[0;32m----> 1\u001b[0m states_init_cal \u001b[38;5;241m=\u001b[39m tf\u001b[38;5;241m.\u001b[39mconvert_to_tensor(initi_infect_adjust_test_terms_burn_in)\n",
      "\u001b[0;31mNameError\u001b[0m: name 'initi_infect_adjust_test_terms_burn_in' is not defined"
     ]
    }
   ],
   "source": [
    "states_init_cal = tf.convert_to_tensor(initi_infect_adjust_test_terms_burn_in)"
   ]
  },
  {
   "cell_type": "code",
   "execution_count": 39,
   "id": "670c2cc1",
   "metadata": {},
   "outputs": [
    {
     "ename": "NameError",
     "evalue": "name 'states_init_cal' is not defined",
     "output_type": "error",
     "traceback": [
      "\u001b[0;31m---------------------------------------------------------------------------\u001b[0m",
      "\u001b[0;31mNameError\u001b[0m                                 Traceback (most recent call last)",
      "Cell \u001b[0;32mIn[39], line 1\u001b[0m\n\u001b[0;32m----> 1\u001b[0m states_init_cal\n",
      "\u001b[0;31mNameError\u001b[0m: name 'states_init_cal' is not defined"
     ]
    }
   ],
   "source": [
    "states_init_cal"
   ]
  },
  {
   "cell_type": "code",
   "execution_count": 40,
   "id": "6b5e7feb",
   "metadata": {},
   "outputs": [
    {
     "ename": "NameError",
     "evalue": "name 'states_init_cal' is not defined",
     "output_type": "error",
     "traceback": [
      "\u001b[0;31m---------------------------------------------------------------------------\u001b[0m",
      "\u001b[0;31mNameError\u001b[0m                                 Traceback (most recent call last)",
      "Cell \u001b[0;32mIn[40], line 1\u001b[0m\n\u001b[0;32m----> 1\u001b[0m ess_init_cal \u001b[38;5;241m=\u001b[39m tfp\u001b[38;5;241m.\u001b[39mmcmc\u001b[38;5;241m.\u001b[39meffective_sample_size(states_init_cal)\n\u001b[1;32m      2\u001b[0m \u001b[38;5;28mprint\u001b[39m(ess_init_cal)\n",
      "\u001b[0;31mNameError\u001b[0m: name 'states_init_cal' is not defined"
     ]
    }
   ],
   "source": [
    "ess_init_cal = tfp.mcmc.effective_sample_size(states_init_cal)\n",
    "print(ess_init_cal)"
   ]
  },
  {
   "cell_type": "code",
   "execution_count": 41,
   "id": "1109f39a",
   "metadata": {},
   "outputs": [
    {
     "ename": "NameError",
     "evalue": "name 'ess_init_cal' is not defined",
     "output_type": "error",
     "traceback": [
      "\u001b[0;31m---------------------------------------------------------------------------\u001b[0m",
      "\u001b[0;31mNameError\u001b[0m                                 Traceback (most recent call last)",
      "Cell \u001b[0;32mIn[41], line 1\u001b[0m\n\u001b[0;32m----> 1\u001b[0m \u001b[38;5;28mprint\u001b[39m(\u001b[38;5;124m'\u001b[39m\u001b[38;5;124mMax:\u001b[39m\u001b[38;5;124m'\u001b[39m, \u001b[38;5;28mmax\u001b[39m(ess_init_cal))\n\u001b[1;32m      2\u001b[0m \u001b[38;5;28mprint\u001b[39m(\u001b[38;5;124m'\u001b[39m\u001b[38;5;124mMin:\u001b[39m\u001b[38;5;124m'\u001b[39m, \u001b[38;5;28mmin\u001b[39m(ess_init_cal))\n",
      "\u001b[0;31mNameError\u001b[0m: name 'ess_init_cal' is not defined"
     ]
    }
   ],
   "source": [
    "print('Max:', max(ess_init_cal))\n",
    "print('Min:', min(ess_init_cal))"
   ]
  },
  {
   "cell_type": "markdown",
   "id": "dea48444",
   "metadata": {},
   "source": [
    "#### Test Specificity Reparameter"
   ]
  },
  {
   "cell_type": "code",
   "execution_count": 42,
   "id": "e84aafc0",
   "metadata": {},
   "outputs": [],
   "source": [
    "states_sp_reparam_cal_1 = tf.convert_to_tensor(sp_reparam_chain_1_burn_in)\n",
    "states_sp_reparam_cal_2 = tf.convert_to_tensor(sp_reparam_chain_2_burn_in)\n",
    "states_sp_reparam_cal_3 = tf.convert_to_tensor(sp_reparam_chain_3_burn_in)\n",
    "states_sp_reparam_cal_4 = tf.convert_to_tensor(sp_reparam_chain_4_burn_in)"
   ]
  },
  {
   "cell_type": "code",
   "execution_count": 43,
   "id": "c38664cc",
   "metadata": {},
   "outputs": [
    {
     "data": {
      "text/plain": [
       "<tf.Tensor: shape=(40000, 9), dtype=float64, numpy=\n",
       "array([[ 6.        , 14.85617421, 11.18452068, ...,  0.8025827 ,\n",
       "         1.24135239, 12.        ],\n",
       "       [ 6.        , 14.85617421, 11.18452068, ...,  0.8025827 ,\n",
       "         1.24135239, 12.        ],\n",
       "       [ 6.        , 14.85617421, 11.18452068, ...,  0.8025827 ,\n",
       "         1.24135239, 12.        ],\n",
       "       ...,\n",
       "       [ 8.        , 12.74244405, 15.28584111, ...,  0.80001603,\n",
       "         1.24346768, 12.        ],\n",
       "       [ 8.        , 12.74244405, 15.28584111, ...,  0.80001603,\n",
       "         1.24346768, 12.        ],\n",
       "       [ 8.        , 12.74244405, 15.28584111, ...,  0.80001603,\n",
       "         1.24346768, 12.        ]])>"
      ]
     },
     "execution_count": 43,
     "metadata": {},
     "output_type": "execute_result"
    }
   ],
   "source": [
    "states_sp_reparam_cal_1"
   ]
  },
  {
   "cell_type": "code",
   "execution_count": 44,
   "id": "48f5b275",
   "metadata": {
    "scrolled": true
   },
   "outputs": [
    {
     "name": "stdout",
     "output_type": "stream",
     "text": [
      "WARNING:tensorflow:You are casting an input of type complex128 to an incompatible dtype float64.  This will discard the imaginary part and may not be what you intended.\n",
      "tf.Tensor(\n",
      "[ 477.31577348  526.86681     606.44883438  556.29066762  525.73437689\n",
      "  463.11982607  581.30122662  565.5379492  1031.89926393], shape=(9,), dtype=float64)\n",
      "WARNING:tensorflow:You are casting an input of type complex128 to an incompatible dtype float64.  This will discard the imaginary part and may not be what you intended.\n",
      "tf.Tensor(\n",
      "[ 872.43568806 1093.90058739 1014.21375507  577.69864865  967.54471312\n",
      "  935.98543385  700.12330913  958.9761635   585.21196839], shape=(9,), dtype=float64)\n",
      "WARNING:tensorflow:You are casting an input of type complex128 to an incompatible dtype float64.  This will discard the imaginary part and may not be what you intended.\n",
      "tf.Tensor(\n",
      "[1029.74645284  843.16476797  936.95971463  911.27949973 1007.69736636\n",
      "  976.98046222  832.86626358  736.60919344  701.76439898], shape=(9,), dtype=float64)\n",
      "WARNING:tensorflow:You are casting an input of type complex128 to an incompatible dtype float64.  This will discard the imaginary part and may not be what you intended.\n",
      "tf.Tensor(\n",
      "[1003.87224393  919.66597284  984.35028671  844.34283335  942.730305\n",
      "  842.90230919  997.37764305  858.04344636  783.77504167], shape=(9,), dtype=float64)\n"
     ]
    }
   ],
   "source": [
    "ess_sp_reparam_cal_1 = tfp.mcmc.effective_sample_size(states_sp_reparam_cal_1)\n",
    "print(ess_sp_reparam_cal_1)\n",
    "ess_sp_reparam_cal_2 = tfp.mcmc.effective_sample_size(states_sp_reparam_cal_2)\n",
    "print(ess_sp_reparam_cal_2)\n",
    "ess_sp_reparam_cal_3 = tfp.mcmc.effective_sample_size(states_sp_reparam_cal_3)\n",
    "print(ess_sp_reparam_cal_3)\n",
    "ess_sp_reparam_cal_4 = tfp.mcmc.effective_sample_size(states_sp_reparam_cal_4)\n",
    "print(ess_sp_reparam_cal_4)"
   ]
  },
  {
   "cell_type": "code",
   "execution_count": 45,
   "id": "b4f2f526",
   "metadata": {},
   "outputs": [
    {
     "name": "stdout",
     "output_type": "stream",
     "text": [
      "Min 1: tf.Tensor(463.11982607380327, shape=(), dtype=float64)\n",
      "Min 2: tf.Tensor(577.6986486516819, shape=(), dtype=float64)\n",
      "Min 3: tf.Tensor(701.7643989847925, shape=(), dtype=float64)\n",
      "Min 4: tf.Tensor(783.7750416715699, shape=(), dtype=float64)\n",
      "Min all: tf.Tensor(463.11982607380327, shape=(), dtype=float64)\n"
     ]
    }
   ],
   "source": [
    "print('Min 1:', min(ess_sp_reparam_cal_1))\n",
    "print('Min 2:', min(ess_sp_reparam_cal_2))\n",
    "print('Min 3:', min(ess_sp_reparam_cal_3))\n",
    "print('Min 4:', min(ess_sp_reparam_cal_4))\n",
    "\n",
    "print('Min all:', min((min(ess_sp_reparam_cal_1),min(ess_sp_reparam_cal_2), min(ess_sp_reparam_cal_3), min(ess_sp_reparam_cal_4))))"
   ]
  },
  {
   "cell_type": "markdown",
   "id": "1c811b54",
   "metadata": {},
   "source": [
    "#### Stochasticity"
   ]
  },
  {
   "cell_type": "code",
   "execution_count": 46,
   "id": "08b482b4",
   "metadata": {},
   "outputs": [],
   "source": [
    "states_stochastic_cal_1 = tf.convert_to_tensor(stochastic_chain_1_burn_in)\n",
    "states_stochastic_cal_2 = tf.convert_to_tensor(stochastic_chain_2_burn_in)\n",
    "states_stochastic_cal_3 = tf.convert_to_tensor(stochastic_chain_3_burn_in)\n",
    "states_stochastic_cal_4 = tf.convert_to_tensor(stochastic_chain_4_burn_in)"
   ]
  },
  {
   "cell_type": "code",
   "execution_count": 47,
   "id": "a1f48540",
   "metadata": {},
   "outputs": [
    {
     "data": {
      "text/plain": [
       "<tf.Tensor: shape=(10000, 9), dtype=float64, numpy=\n",
       "array([[ 9.        , 14.72545377, 38.99415577, ...,  0.85153948,\n",
       "         0.99819364, 19.        ],\n",
       "       [ 9.        , 14.72545377, 38.99415577, ...,  0.85153948,\n",
       "         0.99819364, 19.        ],\n",
       "       [ 9.        , 14.72545377, 38.99415577, ...,  0.85153948,\n",
       "         0.99819364, 19.        ],\n",
       "       ...,\n",
       "       [ 7.        , 18.51653135, 23.58411289, ...,  0.83651457,\n",
       "         0.99839923, 12.        ],\n",
       "       [ 7.        , 18.51653135, 23.58411289, ...,  0.83651457,\n",
       "         0.99839923, 12.        ],\n",
       "       [ 7.        , 18.51653135, 23.58411289, ...,  0.83651457,\n",
       "         0.99839923, 12.        ]])>"
      ]
     },
     "execution_count": 47,
     "metadata": {},
     "output_type": "execute_result"
    }
   ],
   "source": [
    "states_stochastic_cal_1"
   ]
  },
  {
   "cell_type": "code",
   "execution_count": 48,
   "id": "94c3ed95",
   "metadata": {},
   "outputs": [
    {
     "name": "stdout",
     "output_type": "stream",
     "text": [
      "WARNING:tensorflow:You are casting an input of type complex128 to an incompatible dtype float64.  This will discard the imaginary part and may not be what you intended.\n",
      "tf.Tensor(\n",
      "[156.28106213 100.35162392 131.28632768 105.93398153 117.29086836\n",
      " 133.07967907 122.40666606 144.21899928 204.92029292], shape=(9,), dtype=float64)\n",
      "WARNING:tensorflow:You are casting an input of type complex128 to an incompatible dtype float64.  This will discard the imaginary part and may not be what you intended.\n",
      "tf.Tensor(\n",
      "[209.35005443 150.15976133 260.31123943 194.40313854 225.6971988\n",
      " 229.4443526  229.08958545 277.45877623 213.527967  ], shape=(9,), dtype=float64)\n",
      "WARNING:tensorflow:You are casting an input of type complex128 to an incompatible dtype float64.  This will discard the imaginary part and may not be what you intended.\n",
      "tf.Tensor(\n",
      "[111.66968044 212.78702146 223.11394814 174.2909858  124.59916917\n",
      " 169.8918176  159.939996   369.52080215 197.97707884], shape=(9,), dtype=float64)\n",
      "WARNING:tensorflow:You are casting an input of type complex128 to an incompatible dtype float64.  This will discard the imaginary part and may not be what you intended.\n",
      "tf.Tensor(\n",
      "[194.73591089 214.90640009 227.88725422  94.77700312 206.55235064\n",
      " 221.77749182 223.41889337 163.86956891 220.00794054], shape=(9,), dtype=float64)\n"
     ]
    }
   ],
   "source": [
    "ess_stochastic_cal_1 = tfp.mcmc.effective_sample_size(states_stochastic_cal_1)\n",
    "print(ess_stochastic_cal_1)\n",
    "ess_stochastic_cal_2 = tfp.mcmc.effective_sample_size(states_stochastic_cal_2)\n",
    "print(ess_stochastic_cal_2)\n",
    "ess_stochastic_cal_3 = tfp.mcmc.effective_sample_size(states_stochastic_cal_3)\n",
    "print(ess_stochastic_cal_3)\n",
    "ess_stochastic_cal_4 = tfp.mcmc.effective_sample_size(states_stochastic_cal_4)\n",
    "print(ess_stochastic_cal_4)"
   ]
  },
  {
   "cell_type": "code",
   "execution_count": 49,
   "id": "f2fe0bfe",
   "metadata": {},
   "outputs": [
    {
     "name": "stdout",
     "output_type": "stream",
     "text": [
      "Min 1: tf.Tensor(100.3516239157502, shape=(), dtype=float64)\n",
      "Min 2: tf.Tensor(150.15976132697645, shape=(), dtype=float64)\n",
      "Min 3: tf.Tensor(111.66968044201191, shape=(), dtype=float64)\n",
      "Min 4: tf.Tensor(94.77700312408567, shape=(), dtype=float64)\n",
      "Min All: tf.Tensor(94.77700312408567, shape=(), dtype=float64)\n"
     ]
    }
   ],
   "source": [
    "print('Min 1:', min(ess_stochastic_cal_1))\n",
    "print('Min 2:', min(ess_stochastic_cal_2))\n",
    "print('Min 3:', min(ess_stochastic_cal_3))\n",
    "print('Min 4:', min(ess_stochastic_cal_4))\n",
    "\n",
    "print('Min All:', min((min(ess_stochastic_cal_1), min(ess_stochastic_cal_2), min(ess_stochastic_cal_3), min(ess_stochastic_cal_4))))"
   ]
  },
  {
   "cell_type": "markdown",
   "id": "2aa66d9a",
   "metadata": {},
   "source": [
    "#### Stochasticity and Sp Reparam"
   ]
  },
  {
   "cell_type": "code",
   "execution_count": 50,
   "id": "6587f924",
   "metadata": {},
   "outputs": [
    {
     "ename": "NameError",
     "evalue": "name 'stochastic_sp_reparam_burn_in' is not defined",
     "output_type": "error",
     "traceback": [
      "\u001b[0;31m---------------------------------------------------------------------------\u001b[0m",
      "\u001b[0;31mNameError\u001b[0m                                 Traceback (most recent call last)",
      "Cell \u001b[0;32mIn[50], line 1\u001b[0m\n\u001b[0;32m----> 1\u001b[0m states_stoch_sp_reparam_cal \u001b[38;5;241m=\u001b[39m tf\u001b[38;5;241m.\u001b[39mconvert_to_tensor(stochastic_sp_reparam_burn_in)\n",
      "\u001b[0;31mNameError\u001b[0m: name 'stochastic_sp_reparam_burn_in' is not defined"
     ]
    }
   ],
   "source": [
    "states_stoch_sp_reparam_cal = tf.convert_to_tensor(stochastic_sp_reparam_burn_in)"
   ]
  },
  {
   "cell_type": "code",
   "execution_count": 51,
   "id": "454ac18b",
   "metadata": {},
   "outputs": [
    {
     "ename": "NameError",
     "evalue": "name 'states_stoch_sp_reparam_cal' is not defined",
     "output_type": "error",
     "traceback": [
      "\u001b[0;31m---------------------------------------------------------------------------\u001b[0m",
      "\u001b[0;31mNameError\u001b[0m                                 Traceback (most recent call last)",
      "Cell \u001b[0;32mIn[51], line 1\u001b[0m\n\u001b[0;32m----> 1\u001b[0m states_stoch_sp_reparam_cal\n",
      "\u001b[0;31mNameError\u001b[0m: name 'states_stoch_sp_reparam_cal' is not defined"
     ]
    }
   ],
   "source": [
    "states_stoch_sp_reparam_cal"
   ]
  },
  {
   "cell_type": "code",
   "execution_count": 52,
   "id": "795cb438",
   "metadata": {},
   "outputs": [
    {
     "ename": "NameError",
     "evalue": "name 'states_stoch_sp_reparam_cal' is not defined",
     "output_type": "error",
     "traceback": [
      "\u001b[0;31m---------------------------------------------------------------------------\u001b[0m",
      "\u001b[0;31mNameError\u001b[0m                                 Traceback (most recent call last)",
      "Cell \u001b[0;32mIn[52], line 1\u001b[0m\n\u001b[0;32m----> 1\u001b[0m ess_stoch_sp_reparam_cal \u001b[38;5;241m=\u001b[39m tfp\u001b[38;5;241m.\u001b[39mmcmc\u001b[38;5;241m.\u001b[39meffective_sample_size(states_stoch_sp_reparam_cal)\n\u001b[1;32m      2\u001b[0m \u001b[38;5;28mprint\u001b[39m(ess_stoch_sp_reparam_cal)\n",
      "\u001b[0;31mNameError\u001b[0m: name 'states_stoch_sp_reparam_cal' is not defined"
     ]
    }
   ],
   "source": [
    "ess_stoch_sp_reparam_cal = tfp.mcmc.effective_sample_size(states_stoch_sp_reparam_cal)\n",
    "print(ess_stoch_sp_reparam_cal)"
   ]
  },
  {
   "cell_type": "code",
   "execution_count": 53,
   "id": "f88b5de9",
   "metadata": {},
   "outputs": [
    {
     "ename": "NameError",
     "evalue": "name 'ess_stoch_sp_reparam_cal' is not defined",
     "output_type": "error",
     "traceback": [
      "\u001b[0;31m---------------------------------------------------------------------------\u001b[0m",
      "\u001b[0;31mNameError\u001b[0m                                 Traceback (most recent call last)",
      "Cell \u001b[0;32mIn[53], line 1\u001b[0m\n\u001b[0;32m----> 1\u001b[0m \u001b[38;5;28mprint\u001b[39m(\u001b[38;5;124m'\u001b[39m\u001b[38;5;124mMax:\u001b[39m\u001b[38;5;124m'\u001b[39m, \u001b[38;5;28mmax\u001b[39m(ess_stoch_sp_reparam_cal))\n\u001b[1;32m      2\u001b[0m \u001b[38;5;28mprint\u001b[39m(\u001b[38;5;124m'\u001b[39m\u001b[38;5;124mMin:\u001b[39m\u001b[38;5;124m'\u001b[39m, \u001b[38;5;28mmin\u001b[39m(ess_stoch_sp_reparam_cal))\n",
      "\u001b[0;31mNameError\u001b[0m: name 'ess_stoch_sp_reparam_cal' is not defined"
     ]
    }
   ],
   "source": [
    "print('Max:', max(ess_stoch_sp_reparam_cal))\n",
    "print('Min:', min(ess_stoch_sp_reparam_cal))"
   ]
  },
  {
   "cell_type": "markdown",
   "id": "cd7b6e9c",
   "metadata": {},
   "source": [
    "#### Model Exper No Uncertainty"
   ]
  },
  {
   "cell_type": "code",
   "execution_count": 54,
   "id": "1cace302",
   "metadata": {},
   "outputs": [],
   "source": [
    "states_model_exper_no_uncertain_cal_1 = tf.convert_to_tensor(model_exper_no_uncertain_chain_1_burn_in)\n",
    "states_model_exper_no_uncertain_cal_2 = tf.convert_to_tensor(model_exper_no_uncertain_chain_2_burn_in)\n",
    "states_model_exper_no_uncertain_cal_3 = tf.convert_to_tensor(model_exper_no_uncertain_chain_3_burn_in)\n",
    "states_model_exper_no_uncertain_cal_4 = tf.convert_to_tensor(model_exper_no_uncertain_chain_4_burn_in)"
   ]
  },
  {
   "cell_type": "code",
   "execution_count": 55,
   "id": "674358a9",
   "metadata": {},
   "outputs": [
    {
     "data": {
      "text/plain": [
       "<tf.Tensor: shape=(50000, 9), dtype=float64, numpy=\n",
       "array([[ 4.        , 13.32178481, 20.07521567, ...,  0.81902131,\n",
       "         1.23856225, 14.        ],\n",
       "       [ 4.        , 13.32178481, 20.07521567, ...,  0.81902131,\n",
       "         1.23856225, 14.        ],\n",
       "       [ 5.        , 15.33159052, 18.81357635, ...,  0.83336404,\n",
       "         1.23541359, 16.        ],\n",
       "       ...,\n",
       "       [ 6.        , 15.53501835, 39.58686403, ...,  0.71933883,\n",
       "         1.23832898, 14.        ],\n",
       "       [ 6.        , 15.53501835, 39.58686403, ...,  0.71933883,\n",
       "         1.23832898, 14.        ],\n",
       "       [ 6.        , 15.53501835, 39.58686403, ...,  0.71933883,\n",
       "         1.23832898, 14.        ]])>"
      ]
     },
     "execution_count": 55,
     "metadata": {},
     "output_type": "execute_result"
    }
   ],
   "source": [
    "states_model_exper_no_uncertain_cal_1"
   ]
  },
  {
   "cell_type": "code",
   "execution_count": 56,
   "id": "9b80bef7",
   "metadata": {},
   "outputs": [
    {
     "name": "stdout",
     "output_type": "stream",
     "text": [
      "WARNING:tensorflow:You are casting an input of type complex128 to an incompatible dtype float64.  This will discard the imaginary part and may not be what you intended.\n",
      "tf.Tensor(\n",
      "[1182.37195926  971.19064635 1027.78665044 1146.37508257 1220.03711931\n",
      "  928.41831314 1212.38424208  989.9139789  1026.80968212], shape=(9,), dtype=float64)\n",
      "WARNING:tensorflow:You are casting an input of type complex128 to an incompatible dtype float64.  This will discard the imaginary part and may not be what you intended.\n",
      "tf.Tensor(\n",
      "[ 936.31643643  714.38217702  814.61093903  766.71376588  757.85321638\n",
      "  807.603668    773.84108707  818.98526856 1343.85881464], shape=(9,), dtype=float64)\n",
      "WARNING:tensorflow:You are casting an input of type complex128 to an incompatible dtype float64.  This will discard the imaginary part and may not be what you intended.\n",
      "tf.Tensor(\n",
      "[1185.19640549 1174.66512352 1209.48011656 1208.16158486 1158.75686994\n",
      " 1370.65678129 1251.26166455 1302.68889167 1032.33587221], shape=(9,), dtype=float64)\n",
      "WARNING:tensorflow:You are casting an input of type complex128 to an incompatible dtype float64.  This will discard the imaginary part and may not be what you intended.\n",
      "tf.Tensor(\n",
      "[1148.18778871 1243.16124999 1322.14527107 1010.36831218 1153.35283708\n",
      " 1148.3401805  1316.80671862 1258.80146212  861.05934398], shape=(9,), dtype=float64)\n"
     ]
    }
   ],
   "source": [
    "ess_model_exper_no_uncertain_cal_1 = tfp.mcmc.effective_sample_size(states_model_exper_no_uncertain_cal_1)\n",
    "print(ess_model_exper_no_uncertain_cal_1)\n",
    "ess_model_exper_no_uncertain_cal_2 = tfp.mcmc.effective_sample_size(states_model_exper_no_uncertain_cal_2)\n",
    "print(ess_model_exper_no_uncertain_cal_2)\n",
    "ess_model_exper_no_uncertain_cal_3 = tfp.mcmc.effective_sample_size(states_model_exper_no_uncertain_cal_3)\n",
    "print(ess_model_exper_no_uncertain_cal_3)\n",
    "ess_model_exper_no_uncertain_cal_4 = tfp.mcmc.effective_sample_size(states_model_exper_no_uncertain_cal_4)\n",
    "print(ess_model_exper_no_uncertain_cal_4)"
   ]
  },
  {
   "cell_type": "code",
   "execution_count": 57,
   "id": "6d0a0ace",
   "metadata": {},
   "outputs": [
    {
     "name": "stdout",
     "output_type": "stream",
     "text": [
      "Min 1: tf.Tensor(928.41831314197, shape=(), dtype=float64)\n",
      "Min 2: tf.Tensor(714.3821770176911, shape=(), dtype=float64)\n",
      "Min 3: tf.Tensor(1032.3358722087507, shape=(), dtype=float64)\n",
      "Min 4: tf.Tensor(861.0593439769353, shape=(), dtype=float64)\n",
      "Min all: tf.Tensor(714.3821770176911, shape=(), dtype=float64)\n"
     ]
    }
   ],
   "source": [
    "print('Min 1:', min(ess_model_exper_no_uncertain_cal_1))\n",
    "print('Min 2:', min(ess_model_exper_no_uncertain_cal_2))\n",
    "print('Min 3:', min(ess_model_exper_no_uncertain_cal_3))\n",
    "print('Min 4:', min(ess_model_exper_no_uncertain_cal_4))\n",
    "\n",
    "print('Min all:', min((min(ess_model_exper_no_uncertain_cal_1), min(ess_model_exper_no_uncertain_cal_2), min(ess_model_exper_no_uncertain_cal_3), min(ess_model_exper_no_uncertain_cal_4))))"
   ]
  },
  {
   "cell_type": "markdown",
   "id": "0c6e561c",
   "metadata": {},
   "source": [
    "#### Model Exper With Uncertainty"
   ]
  },
  {
   "cell_type": "code",
   "execution_count": 58,
   "id": "7fc4158c",
   "metadata": {},
   "outputs": [],
   "source": [
    "states_model_exper_uncertain_cal_1 = tf.convert_to_tensor(model_exper_uncertain_chain_1_burn_in)\n",
    "states_model_exper_uncertain_cal_2 = tf.convert_to_tensor(model_exper_uncertain_chain_2_burn_in)\n",
    "states_model_exper_uncertain_cal_3 = tf.convert_to_tensor(model_exper_uncertain_chain_3_burn_in)\n",
    "states_model_exper_uncertain_cal_4 = tf.convert_to_tensor(model_exper_uncertain_chain_4_burn_in)\n"
   ]
  },
  {
   "cell_type": "code",
   "execution_count": 59,
   "id": "a32488fd",
   "metadata": {},
   "outputs": [
    {
     "data": {
      "text/plain": [
       "<tf.Tensor: shape=(50000, 9), dtype=float64, numpy=\n",
       "array([[ 8.        , 14.53687906, 18.18158419, ...,  0.72320445,\n",
       "         1.22309479, 19.        ],\n",
       "       [ 8.        , 14.53687906, 18.18158419, ...,  0.72320445,\n",
       "         1.22309479, 19.        ],\n",
       "       [ 8.        , 14.53687906, 18.18158419, ...,  0.72320445,\n",
       "         1.22309479, 19.        ],\n",
       "       ...,\n",
       "       [ 7.        , 16.92108473, 17.57931702, ...,  0.75624958,\n",
       "         1.23153156, 13.        ],\n",
       "       [ 9.        , 14.82295548, 21.62588911, ...,  0.78256672,\n",
       "         1.22638031,  9.        ],\n",
       "       [ 9.        , 14.82295548, 21.62588911, ...,  0.78256672,\n",
       "         1.22638031,  9.        ]])>"
      ]
     },
     "execution_count": 59,
     "metadata": {},
     "output_type": "execute_result"
    }
   ],
   "source": [
    "states_model_exper_uncertain_cal_1 "
   ]
  },
  {
   "cell_type": "code",
   "execution_count": 60,
   "id": "b3bd14e8",
   "metadata": {},
   "outputs": [
    {
     "name": "stdout",
     "output_type": "stream",
     "text": [
      "WARNING:tensorflow:You are casting an input of type complex128 to an incompatible dtype float64.  This will discard the imaginary part and may not be what you intended.\n",
      "tf.Tensor(\n",
      "[1115.9168921  1073.42045651 1267.25159773 1168.48404098 1069.31564876\n",
      " 1094.85737893 1199.53758928  998.77846421 1085.19481242], shape=(9,), dtype=float64)\n",
      "WARNING:tensorflow:You are casting an input of type complex128 to an incompatible dtype float64.  This will discard the imaginary part and may not be what you intended.\n",
      "tf.Tensor(\n",
      "[ 879.97146574 1259.38885236 1119.85182213 1155.44003187 1117.13379549\n",
      " 1191.37391707 1306.54266397  970.04473255  922.76905357], shape=(9,), dtype=float64)\n",
      "WARNING:tensorflow:You are casting an input of type complex128 to an incompatible dtype float64.  This will discard the imaginary part and may not be what you intended.\n",
      "tf.Tensor(\n",
      "[ 975.08443101 1129.58358321 1157.83410785  903.4559641  1134.37663933\n",
      "  946.40596142 1289.42699388  954.33432325  917.98042291], shape=(9,), dtype=float64)\n",
      "WARNING:tensorflow:You are casting an input of type complex128 to an incompatible dtype float64.  This will discard the imaginary part and may not be what you intended.\n",
      "tf.Tensor(\n",
      "[ 571.85911155  795.81921098  788.18140155  773.53956656  694.98578688\n",
      "  604.3972099   904.08863788  774.25657874 1238.91216281], shape=(9,), dtype=float64)\n"
     ]
    }
   ],
   "source": [
    "ess_model_exper_uncertain_cal_1 = tfp.mcmc.effective_sample_size(states_model_exper_uncertain_cal_1 )\n",
    "print(ess_model_exper_uncertain_cal_1)\n",
    "ess_model_exper_uncertain_cal_2 = tfp.mcmc.effective_sample_size(states_model_exper_uncertain_cal_2 )\n",
    "print(ess_model_exper_uncertain_cal_2)\n",
    "ess_model_exper_uncertain_cal_3 = tfp.mcmc.effective_sample_size(states_model_exper_uncertain_cal_3 )\n",
    "print(ess_model_exper_uncertain_cal_3)\n",
    "ess_model_exper_uncertain_cal_4 = tfp.mcmc.effective_sample_size(states_model_exper_uncertain_cal_4 )\n",
    "print(ess_model_exper_uncertain_cal_4)"
   ]
  },
  {
   "cell_type": "code",
   "execution_count": 61,
   "id": "b9ff0818",
   "metadata": {},
   "outputs": [
    {
     "name": "stdout",
     "output_type": "stream",
     "text": [
      "Min 1: tf.Tensor(998.778464214703, shape=(), dtype=float64)\n",
      "Min 2: tf.Tensor(879.9714657381734, shape=(), dtype=float64)\n",
      "Min 3: tf.Tensor(903.4559641018307, shape=(), dtype=float64)\n",
      "Min 4: tf.Tensor(571.8591115509911, shape=(), dtype=float64)\n",
      "Min all: tf.Tensor(571.8591115509911, shape=(), dtype=float64)\n"
     ]
    }
   ],
   "source": [
    "print('Min 1:', min(ess_model_exper_uncertain_cal_1))\n",
    "print('Min 2:', min(ess_model_exper_uncertain_cal_2))\n",
    "print('Min 3:', min(ess_model_exper_uncertain_cal_3))\n",
    "print('Min 4:', min(ess_model_exper_uncertain_cal_4))\n",
    "\n",
    "print('Min all:', min((min(ess_model_exper_uncertain_cal_1), min(ess_model_exper_uncertain_cal_2), min(ess_model_exper_uncertain_cal_3), min(ess_model_exper_uncertain_cal_4))))"
   ]
  },
  {
   "cell_type": "markdown",
   "id": "7fb0d89a",
   "metadata": {},
   "source": [
    "#### Model Exper w/ Uncertainty Fixed Rt"
   ]
  },
  {
   "cell_type": "code",
   "execution_count": 62,
   "id": "b2213bd7",
   "metadata": {},
   "outputs": [],
   "source": [
    "states_model_exper_fixed_rt_cal_1 = tf.convert_to_tensor(model_exper_rt_fixed_chain_1_burn_in)\n",
    "states_model_exper_fixed_rt_cal_2 = tf.convert_to_tensor(model_exper_rt_fixed_chain_2_burn_in)\n",
    "states_model_exper_fixed_rt_cal_3 = tf.convert_to_tensor(model_exper_rt_fixed_chain_3_burn_in)\n",
    "states_model_exper_fixed_rt_cal_4 = tf.convert_to_tensor(model_exper_rt_fixed_chain_4_burn_in)"
   ]
  },
  {
   "cell_type": "code",
   "execution_count": 63,
   "id": "ba6f2144",
   "metadata": {},
   "outputs": [
    {
     "data": {
      "text/plain": [
       "<tf.Tensor: shape=(90000, 8), dtype=float64, numpy=\n",
       "array([[ 7.        , 19.41003288, 30.70503955, ...,  0.85128525,\n",
       "         1.23275024, 25.        ],\n",
       "       [ 7.        , 19.41003288, 30.70503955, ...,  0.85128525,\n",
       "         1.23275024, 25.        ],\n",
       "       [ 7.        , 19.41003288, 30.70503955, ...,  0.85128525,\n",
       "         1.23275024, 25.        ],\n",
       "       ...,\n",
       "       [ 7.        , 14.93193587, 35.21124391, ...,  0.74619954,\n",
       "         1.24186673, 22.        ],\n",
       "       [ 8.        , 11.81045379, 48.26674784, ...,  0.75955715,\n",
       "         1.2375112 , 21.        ],\n",
       "       [ 8.        , 11.81045379, 48.26674784, ...,  0.75955715,\n",
       "         1.2375112 , 21.        ]])>"
      ]
     },
     "execution_count": 63,
     "metadata": {},
     "output_type": "execute_result"
    }
   ],
   "source": [
    "states_model_exper_fixed_rt_cal_1"
   ]
  },
  {
   "cell_type": "code",
   "execution_count": 64,
   "id": "6dc9fc86",
   "metadata": {},
   "outputs": [
    {
     "name": "stdout",
     "output_type": "stream",
     "text": [
      "WARNING:tensorflow:You are casting an input of type complex128 to an incompatible dtype float64.  This will discard the imaginary part and may not be what you intended.\n",
      "tf.Tensor(\n",
      "[2296.11588943 2338.99344898 2522.88232967 2329.44400301 2287.07981346\n",
      " 2547.67799579 2520.38357086 2372.15645096], shape=(8,), dtype=float64)\n",
      "WARNING:tensorflow:You are casting an input of type complex128 to an incompatible dtype float64.  This will discard the imaginary part and may not be what you intended.\n",
      "tf.Tensor(\n",
      "[2379.9492931  2290.70668512 2359.75860714 2480.61784083 2342.76149815\n",
      " 2554.38601958 2488.27715773 2067.35693235], shape=(8,), dtype=float64)\n",
      "WARNING:tensorflow:You are casting an input of type complex128 to an incompatible dtype float64.  This will discard the imaginary part and may not be what you intended.\n",
      "tf.Tensor(\n",
      "[2491.64956217 2439.08023215 2022.6235267  2520.3825136  1945.90633368\n",
      " 2277.39937891 2729.60858537 2234.43409211], shape=(8,), dtype=float64)\n",
      "WARNING:tensorflow:You are casting an input of type complex128 to an incompatible dtype float64.  This will discard the imaginary part and may not be what you intended.\n",
      "tf.Tensor(\n",
      "[1740.58738685 1915.43507569 2019.0254701  2072.08247395 1607.64509842\n",
      " 1894.86547372 2042.93976206 3328.20801559], shape=(8,), dtype=float64)\n"
     ]
    }
   ],
   "source": [
    "ess_model_exper_fixed_rt_cal_1 = tfp.mcmc.effective_sample_size(states_model_exper_fixed_rt_cal_1)\n",
    "print(ess_model_exper_fixed_rt_cal_1)\n",
    "ess_model_exper_fixed_rt_cal_2 = tfp.mcmc.effective_sample_size(states_model_exper_fixed_rt_cal_2)\n",
    "print(ess_model_exper_fixed_rt_cal_2)\n",
    "ess_model_exper_fixed_rt_cal_3 = tfp.mcmc.effective_sample_size(states_model_exper_fixed_rt_cal_3)\n",
    "print(ess_model_exper_fixed_rt_cal_3)\n",
    "ess_model_exper_fixed_rt_cal_4 = tfp.mcmc.effective_sample_size(states_model_exper_fixed_rt_cal_4)\n",
    "print(ess_model_exper_fixed_rt_cal_4)"
   ]
  },
  {
   "cell_type": "code",
   "execution_count": 65,
   "id": "e8f2addb",
   "metadata": {},
   "outputs": [
    {
     "name": "stdout",
     "output_type": "stream",
     "text": [
      "Min 1: tf.Tensor(2287.079813458197, shape=(), dtype=float64)\n",
      "Min 2: tf.Tensor(2067.3569323507168, shape=(), dtype=float64)\n",
      "Min 3: tf.Tensor(1945.9063336771053, shape=(), dtype=float64)\n",
      "Min 4: tf.Tensor(1607.6450984201074, shape=(), dtype=float64)\n",
      "Min all tf.Tensor(1607.6450984201074, shape=(), dtype=float64)\n"
     ]
    }
   ],
   "source": [
    "print('Min 1:', min(ess_model_exper_fixed_rt_cal_1))\n",
    "print('Min 2:', min(ess_model_exper_fixed_rt_cal_2))\n",
    "print('Min 3:', min(ess_model_exper_fixed_rt_cal_3))\n",
    "print('Min 4:', min(ess_model_exper_fixed_rt_cal_4))\n",
    "\n",
    "print('Min all', min((min(ess_model_exper_fixed_rt_cal_1), min(ess_model_exper_fixed_rt_cal_2), min(ess_model_exper_fixed_rt_cal_3), min(ess_model_exper_fixed_rt_cal_4))))"
   ]
  },
  {
   "cell_type": "markdown",
   "id": "53c89c54",
   "metadata": {},
   "source": [
    "#### Model Exper w/ Uncertainty Fixed Rt Fixed Community Transmission Parameters"
   ]
  },
  {
   "cell_type": "code",
   "execution_count": 66,
   "id": "e570f170",
   "metadata": {},
   "outputs": [],
   "source": [
    "states_model_exper_fixed_rt_community_params_cal_1 = tf.convert_to_tensor(model_exper_rt_fixed_community_params_fixed_chain_1_burn_in)\n",
    "states_model_exper_fixed_rt_community_params_cal_2 = tf.convert_to_tensor(model_exper_rt_fixed_community_params_fixed_chain_2_burn_in)\n",
    "states_model_exper_fixed_rt_community_params_cal_3 = tf.convert_to_tensor(model_exper_rt_fixed_community_params_fixed_chain_3_burn_in)\n",
    "states_model_exper_fixed_rt_community_params_cal_4 = tf.convert_to_tensor(model_exper_rt_fixed_community_params_fixed_chain_4_burn_in)\n"
   ]
  },
  {
   "cell_type": "code",
   "execution_count": 67,
   "id": "80031d74",
   "metadata": {},
   "outputs": [
    {
     "data": {
      "text/plain": [
       "<tf.Tensor: shape=(92000, 6), dtype=float64, numpy=\n",
       "array([[1.23139360e+01, 3.32445945e+01, 4.20467414e-03, 5.57926154e+00,\n",
       "        7.92076353e-01, 1.21830296e+00],\n",
       "       [1.23139360e+01, 3.32445945e+01, 4.20467414e-03, 5.57926154e+00,\n",
       "        7.92076353e-01, 1.21830296e+00],\n",
       "       [1.23139360e+01, 3.32445945e+01, 4.20467414e-03, 5.57926154e+00,\n",
       "        7.92076353e-01, 1.21830296e+00],\n",
       "       ...,\n",
       "       [1.94215894e+01, 3.13888651e+01, 7.15042384e-03, 7.79300062e+00,\n",
       "        7.81055000e-01, 1.22449088e+00],\n",
       "       [1.94215894e+01, 3.13888651e+01, 7.15042384e-03, 7.79300062e+00,\n",
       "        7.81055000e-01, 1.22449088e+00],\n",
       "       [1.94215894e+01, 3.13888651e+01, 7.15042384e-03, 7.79300062e+00,\n",
       "        7.81055000e-01, 1.22449088e+00]])>"
      ]
     },
     "execution_count": 67,
     "metadata": {},
     "output_type": "execute_result"
    }
   ],
   "source": [
    "states_model_exper_fixed_rt_community_params_cal_1 "
   ]
  },
  {
   "cell_type": "code",
   "execution_count": 68,
   "id": "8646f7e8",
   "metadata": {},
   "outputs": [
    {
     "name": "stdout",
     "output_type": "stream",
     "text": [
      "WARNING:tensorflow:You are casting an input of type complex128 to an incompatible dtype float64.  This will discard the imaginary part and may not be what you intended.\n",
      "tf.Tensor(\n",
      "[3420.32860121 3550.61376494 3182.59029981 3320.44479116 3491.96250117\n",
      " 3623.68014361], shape=(6,), dtype=float64)\n",
      "WARNING:tensorflow:You are casting an input of type complex128 to an incompatible dtype float64.  This will discard the imaginary part and may not be what you intended.\n",
      "tf.Tensor(\n",
      "[3785.41496537 3720.7704649  3596.5281548  2928.85841137 4240.88332564\n",
      " 3542.01175854], shape=(6,), dtype=float64)\n",
      "WARNING:tensorflow:You are casting an input of type complex128 to an incompatible dtype float64.  This will discard the imaginary part and may not be what you intended.\n",
      "tf.Tensor(\n",
      "[3822.10194387 3754.64174815 3870.5925267  3052.38126513 3826.65120109\n",
      " 3119.18160647], shape=(6,), dtype=float64)\n",
      "WARNING:tensorflow:You are casting an input of type complex128 to an incompatible dtype float64.  This will discard the imaginary part and may not be what you intended.\n",
      "tf.Tensor(\n",
      "[3796.53008838 3581.59219929 3475.36997732 3237.27187796 3984.34185068\n",
      " 3537.87496593], shape=(6,), dtype=float64)\n"
     ]
    }
   ],
   "source": [
    "ess_model_exper_fixed_rt_community_params_cal_1 = tfp.mcmc.effective_sample_size(states_model_exper_fixed_rt_community_params_cal_1  )\n",
    "print(ess_model_exper_fixed_rt_community_params_cal_1)\n",
    "ess_model_exper_fixed_rt_community_params_cal_2 = tfp.mcmc.effective_sample_size(states_model_exper_fixed_rt_community_params_cal_2  )\n",
    "print(ess_model_exper_fixed_rt_community_params_cal_2)\n",
    "ess_model_exper_fixed_rt_community_params_cal_3 = tfp.mcmc.effective_sample_size(states_model_exper_fixed_rt_community_params_cal_3  )\n",
    "print(ess_model_exper_fixed_rt_community_params_cal_3)\n",
    "ess_model_exper_fixed_rt_community_params_cal_4 = tfp.mcmc.effective_sample_size(states_model_exper_fixed_rt_community_params_cal_4  )\n",
    "print(ess_model_exper_fixed_rt_community_params_cal_4)"
   ]
  },
  {
   "cell_type": "code",
   "execution_count": 69,
   "id": "8759dfc7",
   "metadata": {
    "scrolled": true
   },
   "outputs": [
    {
     "name": "stdout",
     "output_type": "stream",
     "text": [
      "Min 1: tf.Tensor(3182.590299807659, shape=(), dtype=float64)\n",
      "Min 2: tf.Tensor(2928.8584113653305, shape=(), dtype=float64)\n",
      "Min 3: tf.Tensor(3052.3812651289813, shape=(), dtype=float64)\n",
      "Min 4: tf.Tensor(3237.2718779576744, shape=(), dtype=float64)\n",
      "Min all tf.Tensor(2928.8584113653305, shape=(), dtype=float64)\n"
     ]
    }
   ],
   "source": [
    "print('Min 1:', min(ess_model_exper_fixed_rt_community_params_cal_1))\n",
    "print('Min 2:', min(ess_model_exper_fixed_rt_community_params_cal_2))\n",
    "print('Min 3:', min(ess_model_exper_fixed_rt_community_params_cal_3))\n",
    "print('Min 4:', min(ess_model_exper_fixed_rt_community_params_cal_4))\n",
    "\n",
    "print('Min all', min((min(ess_model_exper_fixed_rt_community_params_cal_1), min(ess_model_exper_fixed_rt_community_params_cal_2), min(ess_model_exper_fixed_rt_community_params_cal_3), min(ess_model_exper_fixed_rt_community_params_cal_4))))"
   ]
  },
  {
   "cell_type": "markdown",
   "id": "7994f1e4",
   "metadata": {},
   "source": [
    "#### Model Exper w/Adapted LL"
   ]
  },
  {
   "cell_type": "code",
   "execution_count": 70,
   "id": "421f38b8",
   "metadata": {},
   "outputs": [],
   "source": [
    "states_model_exper_adapted_LL_1 = tf.convert_to_tensor(model_exper_adapted_LL_chain_1_burn_in)\n",
    "states_model_exper_adapted_LL_2 = tf.convert_to_tensor(model_exper_adapted_LL_chain_3_burn_in)\n",
    "states_model_exper_adapted_LL_3 = tf.convert_to_tensor(model_exper_adapted_LL_chain_3_burn_in)\n",
    "states_model_exper_adapted_LL_4 = tf.convert_to_tensor(model_exper_adapted_LL_chain_4_burn_in)"
   ]
  },
  {
   "cell_type": "code",
   "execution_count": 71,
   "id": "bc0bf048",
   "metadata": {},
   "outputs": [
    {
     "data": {
      "text/plain": [
       "<tf.Tensor: shape=(30000, 9), dtype=float64, numpy=\n",
       "array([[ 8.        , 12.78206697, 27.27161575, ...,  0.88593305,\n",
       "         1.21930238, 23.        ],\n",
       "       [ 8.        , 12.78206697, 27.27161575, ...,  0.88593305,\n",
       "         1.21930238, 23.        ],\n",
       "       [ 8.        , 12.78206697, 27.27161575, ...,  0.88593305,\n",
       "         1.21930238, 23.        ],\n",
       "       ...,\n",
       "       [ 8.        , 15.92769238, 31.42696228, ...,  0.73182971,\n",
       "         1.22002934, 14.        ],\n",
       "       [ 8.        , 15.92769238, 31.42696228, ...,  0.73182971,\n",
       "         1.22002934, 14.        ],\n",
       "       [ 8.        , 15.92769238, 31.42696228, ...,  0.73182971,\n",
       "         1.22002934, 14.        ]])>"
      ]
     },
     "execution_count": 71,
     "metadata": {},
     "output_type": "execute_result"
    }
   ],
   "source": [
    "states_model_exper_adapted_LL_1"
   ]
  },
  {
   "cell_type": "code",
   "execution_count": 72,
   "id": "2b307584",
   "metadata": {},
   "outputs": [
    {
     "name": "stdout",
     "output_type": "stream",
     "text": [
      "WARNING:tensorflow:You are casting an input of type complex128 to an incompatible dtype float64.  This will discard the imaginary part and may not be what you intended.\n",
      "tf.Tensor(\n",
      "[431.69392346 389.23568211 331.79153737 347.30222667 439.22387244\n",
      " 363.48639377 380.09196869 349.34110878 302.04270744], shape=(9,), dtype=float64)\n",
      "WARNING:tensorflow:You are casting an input of type complex128 to an incompatible dtype float64.  This will discard the imaginary part and may not be what you intended.\n",
      "tf.Tensor(\n",
      "[364.16464707 308.67942301 309.97740887 247.96169686 409.47845028\n",
      " 425.1933003  400.40183325 375.08878452 328.82622937], shape=(9,), dtype=float64)\n",
      "WARNING:tensorflow:You are casting an input of type complex128 to an incompatible dtype float64.  This will discard the imaginary part and may not be what you intended.\n",
      "tf.Tensor(\n",
      "[364.16464707 308.67942301 309.97740887 247.96169686 409.47845028\n",
      " 425.1933003  400.40183325 375.08878452 328.82622937], shape=(9,), dtype=float64)\n",
      "WARNING:tensorflow:You are casting an input of type complex128 to an incompatible dtype float64.  This will discard the imaginary part and may not be what you intended.\n",
      "tf.Tensor(\n",
      "[193.94674306 159.02620797 133.03904877 166.71315618 192.42595435\n",
      " 232.60288401 185.61122404 147.59591769 195.23203196], shape=(9,), dtype=float64)\n"
     ]
    }
   ],
   "source": [
    "ess_model_exper_adapted_LL_1 = tfp.mcmc.effective_sample_size(states_model_exper_adapted_LL_1  )\n",
    "print(ess_model_exper_adapted_LL_1)\n",
    "ess_model_exper_adapted_LL_2 = tfp.mcmc.effective_sample_size(states_model_exper_adapted_LL_2  )\n",
    "print(ess_model_exper_adapted_LL_2)\n",
    "ess_model_exper_adapted_LL_3 = tfp.mcmc.effective_sample_size(states_model_exper_adapted_LL_3  )\n",
    "print(ess_model_exper_adapted_LL_3)\n",
    "ess_model_exper_adapted_LL_4 = tfp.mcmc.effective_sample_size(states_model_exper_adapted_LL_4  )\n",
    "print(ess_model_exper_adapted_LL_4)"
   ]
  },
  {
   "cell_type": "code",
   "execution_count": 73,
   "id": "52f2a8cc",
   "metadata": {},
   "outputs": [
    {
     "name": "stdout",
     "output_type": "stream",
     "text": [
      "Min 1: tf.Tensor(302.0427074366912, shape=(), dtype=float64)\n",
      "Min 2: tf.Tensor(247.961696855389, shape=(), dtype=float64)\n",
      "Min 3: tf.Tensor(247.961696855389, shape=(), dtype=float64)\n",
      "Min 4: tf.Tensor(133.0390487724828, shape=(), dtype=float64)\n",
      "Min All tf.Tensor(133.0390487724828, shape=(), dtype=float64)\n"
     ]
    }
   ],
   "source": [
    "print('Min 1:', min(ess_model_exper_adapted_LL_1))\n",
    "print('Min 2:', min(ess_model_exper_adapted_LL_2))\n",
    "print('Min 3:', min(ess_model_exper_adapted_LL_3))\n",
    "print('Min 4:', min(ess_model_exper_adapted_LL_4))\n",
    "\n",
    "print('Min All', min((min(ess_model_exper_adapted_LL_1), min(ess_model_exper_adapted_LL_2), min(ess_model_exper_adapted_LL_3), min(ess_model_exper_adapted_LL_4))))"
   ]
  },
  {
   "cell_type": "markdown",
   "id": "480fd16a",
   "metadata": {},
   "source": [
    "#### RIT Data w/Adapted LL"
   ]
  },
  {
   "cell_type": "code",
   "execution_count": 74,
   "id": "fa88a3e3",
   "metadata": {},
   "outputs": [],
   "source": [
    "states_rit_data_adapted_LL_1 = tf.convert_to_tensor(rit_data_adapted_LL_chain_1_burn_in)\n",
    "# states_rit_data_adapted_LL_2 = tf.convert_to_tensor(rit_data_adapted_LL_chain_2_burn_in)\n",
    "states_rit_data_adapted_LL_3 = tf.convert_to_tensor(rit_data_adapted_LL_chain_3_burn_in)\n",
    "states_rit_data_adapted_LL_4 = tf.convert_to_tensor(rit_data_adapted_LL_chain_4_burn_in)"
   ]
  },
  {
   "cell_type": "code",
   "execution_count": 75,
   "id": "4cd707b5",
   "metadata": {},
   "outputs": [
    {
     "data": {
      "text/plain": [
       "<tf.Tensor: shape=(140000, 9), dtype=float64, numpy=\n",
       "array([[ 6.        , 12.05787581,  6.42939387, ...,  0.76195621,\n",
       "         1.22723661,  7.        ],\n",
       "       [ 6.        , 12.05787581,  6.42939387, ...,  0.76195621,\n",
       "         1.22723661,  7.        ],\n",
       "       [ 6.        , 12.05787581,  6.42939387, ...,  0.76195621,\n",
       "         1.22723661,  7.        ],\n",
       "       ...,\n",
       "       [ 8.        , 11.49791581,  6.25027808, ...,  0.86248248,\n",
       "         1.23497916, 11.        ],\n",
       "       [ 8.        , 11.49791581,  6.25027808, ...,  0.86248248,\n",
       "         1.23497916, 11.        ],\n",
       "       [ 8.        , 11.49791581,  6.25027808, ...,  0.86248248,\n",
       "         1.23497916, 11.        ]])>"
      ]
     },
     "execution_count": 75,
     "metadata": {},
     "output_type": "execute_result"
    }
   ],
   "source": [
    "states_rit_data_adapted_LL_1"
   ]
  },
  {
   "cell_type": "code",
   "execution_count": 76,
   "id": "7ce4552b",
   "metadata": {},
   "outputs": [
    {
     "name": "stdout",
     "output_type": "stream",
     "text": [
      "WARNING:tensorflow:You are casting an input of type complex128 to an incompatible dtype float64.  This will discard the imaginary part and may not be what you intended.\n",
      "tf.Tensor(\n",
      "[1744.60698726 1112.0634369  2152.14829536 1348.1308908  1599.01619877\n",
      " 1388.88354243 1023.9545827  1569.69837269 2030.18751373], shape=(9,), dtype=float64)\n",
      "WARNING:tensorflow:You are casting an input of type complex128 to an incompatible dtype float64.  This will discard the imaginary part and may not be what you intended.\n",
      "tf.Tensor(\n",
      "[2235.30580998 1967.41867091 2557.97982823 2460.52897873 2559.45206431\n",
      " 2433.44607346 2162.91318255 2669.63414452 2134.91729862], shape=(9,), dtype=float64)\n",
      "WARNING:tensorflow:You are casting an input of type complex128 to an incompatible dtype float64.  This will discard the imaginary part and may not be what you intended.\n",
      "tf.Tensor(\n",
      "[2305.32624524 1977.11801947 2882.34339366 1933.22845993 2523.18006627\n",
      " 2219.26614796 2698.01601004 2801.18382628 2198.04933947], shape=(9,), dtype=float64)\n"
     ]
    }
   ],
   "source": [
    "ess_rit_data_adapted_LL_1 = tfp.mcmc.effective_sample_size(states_rit_data_adapted_LL_1  )\n",
    "print(ess_rit_data_adapted_LL_1)\n",
    "ess_rit_data_adapted_LL_3 = tfp.mcmc.effective_sample_size(states_rit_data_adapted_LL_3  )\n",
    "print(ess_rit_data_adapted_LL_3)\n",
    "ess_rit_data_adapted_LL_4 = tfp.mcmc.effective_sample_size(states_rit_data_adapted_LL_4  )\n",
    "print(ess_rit_data_adapted_LL_4)"
   ]
  },
  {
   "cell_type": "code",
   "execution_count": 77,
   "id": "31e80b0a",
   "metadata": {},
   "outputs": [
    {
     "name": "stdout",
     "output_type": "stream",
     "text": [
      "Min 1: tf.Tensor(1023.9545826970644, shape=(), dtype=float64)\n",
      "Min 3: tf.Tensor(1967.4186709108271, shape=(), dtype=float64)\n",
      "Min 4: tf.Tensor(1933.2284599333432, shape=(), dtype=float64)\n",
      "Min all: tf.Tensor(1023.9545826970644, shape=(), dtype=float64)\n"
     ]
    }
   ],
   "source": [
    "print('Min 1:', min(ess_rit_data_adapted_LL_1))\n",
    "print('Min 3:', min(ess_rit_data_adapted_LL_3))\n",
    "print('Min 4:', min(ess_rit_data_adapted_LL_4))\n",
    "\n",
    "print('Min all:', min((min(ess_rit_data_adapted_LL_1), min(ess_rit_data_adapted_LL_3), min(ess_rit_data_adapted_LL_4))))"
   ]
  },
  {
   "cell_type": "markdown",
   "id": "37342429",
   "metadata": {},
   "source": [
    "#### RIT Data w/Adapted LL and Initially Infected"
   ]
  },
  {
   "cell_type": "code",
   "execution_count": 78,
   "id": "6b718394",
   "metadata": {},
   "outputs": [],
   "source": [
    "states_rit_data_adapted_LL_init_infect_1 = tf.convert_to_tensor(rit_data_adapted_LL_init_infect_chain_1_burn_in)\n",
    "states_rit_data_adapted_LL_init_infect_2 = tf.convert_to_tensor(rit_data_adapted_LL_init_infect_chain_2_burn_in)\n",
    "states_rit_data_adapted_LL_init_infect_3 = tf.convert_to_tensor(rit_data_adapted_LL_init_infect_chain_3_burn_in)\n",
    "states_rit_data_adapted_LL_init_infect_4 = tf.convert_to_tensor(rit_data_adapted_LL_init_infect_chain_4_burn_in)"
   ]
  },
  {
   "cell_type": "code",
   "execution_count": 79,
   "id": "7c1005f9",
   "metadata": {},
   "outputs": [
    {
     "data": {
      "text/plain": [
       "<tf.Tensor: shape=(440000, 10), dtype=float64, numpy=\n",
       "array([[ 8.        , 10.72856915,  7.61959615, ...,  1.22826045,\n",
       "        13.        ,  4.        ],\n",
       "       [ 8.        , 10.72856915,  7.61959615, ...,  1.22826045,\n",
       "        13.        ,  4.        ],\n",
       "       [ 8.        , 10.72856915,  7.61959615, ...,  1.22826045,\n",
       "        13.        ,  4.        ],\n",
       "       ...,\n",
       "       [ 7.        , 12.59645808, 10.59498471, ...,  1.23605017,\n",
       "         7.        ,  6.        ],\n",
       "       [ 7.        , 12.59645808, 10.59498471, ...,  1.23605017,\n",
       "         7.        ,  6.        ],\n",
       "       [ 7.        , 12.59645808, 10.59498471, ...,  1.23605017,\n",
       "         7.        ,  6.        ]])>"
      ]
     },
     "execution_count": 79,
     "metadata": {},
     "output_type": "execute_result"
    }
   ],
   "source": [
    "states_rit_data_adapted_LL_init_infect_1"
   ]
  },
  {
   "cell_type": "code",
   "execution_count": 80,
   "id": "398ff3cc",
   "metadata": {},
   "outputs": [
    {
     "name": "stdout",
     "output_type": "stream",
     "text": [
      "WARNING:tensorflow:You are casting an input of type complex128 to an incompatible dtype float64.  This will discard the imaginary part and may not be what you intended.\n",
      "tf.Tensor(\n",
      "[5696.94489237 4736.11143982 5348.93732655 5175.50945936 4835.16161265\n",
      " 5827.01714083 6639.07975398 5271.89588094 4223.58346545 4994.54934243], shape=(10,), dtype=float64)\n",
      "WARNING:tensorflow:You are casting an input of type complex128 to an incompatible dtype float64.  This will discard the imaginary part and may not be what you intended.\n",
      "tf.Tensor(\n",
      "[5988.11544218 4817.81836249 4569.11482424 4901.22223589 6008.77170288\n",
      " 6143.48534055 6702.9187415  5963.10763021 4741.00398831 5913.5488761 ], shape=(10,), dtype=float64)\n",
      "WARNING:tensorflow:You are casting an input of type complex128 to an incompatible dtype float64.  This will discard the imaginary part and may not be what you intended.\n",
      "tf.Tensor(\n",
      "[6009.55465272 5528.73515299 3873.76382275 5136.24869164 5982.83637771\n",
      " 6314.24591062 6168.32749806 5455.73726545 4134.87147301 5954.99209199], shape=(10,), dtype=float64)\n",
      "WARNING:tensorflow:You are casting an input of type complex128 to an incompatible dtype float64.  This will discard the imaginary part and may not be what you intended.\n",
      "tf.Tensor(\n",
      "[5172.64873774 5581.54560449 4496.09662311 5383.31294431 5430.83332076\n",
      " 5184.88930899 5936.86345528 4794.71920762 3962.00426655 5361.17142422], shape=(10,), dtype=float64)\n"
     ]
    }
   ],
   "source": [
    "ess_rit_data_adapted_LL_init_infect_1 = tfp.mcmc.effective_sample_size(states_rit_data_adapted_LL_init_infect_1  )\n",
    "print(ess_rit_data_adapted_LL_init_infect_1)\n",
    "ess_rit_data_adapted_LL_init_infect_2 = tfp.mcmc.effective_sample_size(states_rit_data_adapted_LL_init_infect_2  )\n",
    "print(ess_rit_data_adapted_LL_init_infect_2)\n",
    "ess_rit_data_adapted_LL_init_infect_3 = tfp.mcmc.effective_sample_size(states_rit_data_adapted_LL_init_infect_3  )\n",
    "print(ess_rit_data_adapted_LL_init_infect_3)\n",
    "ess_rit_data_adapted_LL_init_infect_4 = tfp.mcmc.effective_sample_size(states_rit_data_adapted_LL_init_infect_4  )\n",
    "print(ess_rit_data_adapted_LL_init_infect_4)"
   ]
  },
  {
   "cell_type": "code",
   "execution_count": 81,
   "id": "eee20f1f",
   "metadata": {
    "scrolled": true
   },
   "outputs": [
    {
     "name": "stdout",
     "output_type": "stream",
     "text": [
      "Min 1: tf.Tensor(4223.583465453808, shape=(), dtype=float64)\n",
      "Min 2: tf.Tensor(4569.114824238087, shape=(), dtype=float64)\n",
      "Min 3: tf.Tensor(3873.76382274878, shape=(), dtype=float64)\n",
      "Min 4: tf.Tensor(3962.00426654719, shape=(), dtype=float64)\n",
      "Min all: tf.Tensor(3873.76382274878, shape=(), dtype=float64)\n"
     ]
    }
   ],
   "source": [
    "print('Min 1:', min(ess_rit_data_adapted_LL_init_infect_1))\n",
    "print('Min 2:', min(ess_rit_data_adapted_LL_init_infect_2))\n",
    "print('Min 3:', min(ess_rit_data_adapted_LL_init_infect_3))\n",
    "print('Min 4:', min(ess_rit_data_adapted_LL_init_infect_4))\n",
    "\n",
    "print('Min all:', min((min(ess_rit_data_adapted_LL_init_infect_1), min(ess_rit_data_adapted_LL_init_infect_2), min(ess_rit_data_adapted_LL_init_infect_3), min(ess_rit_data_adapted_LL_init_infect_4))))"
   ]
  },
  {
   "cell_type": "markdown",
   "id": "7042e10f",
   "metadata": {},
   "source": [
    "#### RIT Data w/Adapted LL weighted LL Stochastic tests initial iso"
   ]
  },
  {
   "cell_type": "code",
   "execution_count": 82,
   "id": "b9380b54",
   "metadata": {},
   "outputs": [],
   "source": [
    "states_rit_data_adapted_LL_stochastic_weight_1 = tf.convert_to_tensor(rit_data_adapted_LL_init_infect_stochastic_weight_chain_1_burn_in)\n",
    "states_rit_data_adapted_LL_stochastic_weight_2 = tf.convert_to_tensor(rit_data_adapted_LL_init_infect_stochastic_weight_chain_2_burn_in)\n",
    "states_rit_data_adapted_LL_stochastic_weight_3 = tf.convert_to_tensor(rit_data_adapted_LL_init_infect_stochastic_weight_chain_3_burn_in)\n",
    "states_rit_data_adapted_LL_stochastic_weight_4 = tf.convert_to_tensor(rit_data_adapted_LL_init_infect_stochastic_weight_chain_4_burn_in)"
   ]
  },
  {
   "cell_type": "code",
   "execution_count": 83,
   "id": "b6e9d824",
   "metadata": {},
   "outputs": [
    {
     "data": {
      "text/plain": [
       "<tf.Tensor: shape=(380000, 11), dtype=float64, numpy=\n",
       "array([[ 7.        , 16.16128881, 18.74643165, ..., 13.        ,\n",
       "         4.        ,  1.07179497],\n",
       "       [ 7.        , 16.16128881, 18.74643165, ..., 13.        ,\n",
       "         4.        ,  1.07179497],\n",
       "       [ 7.        , 16.16128881, 18.74643165, ..., 13.        ,\n",
       "         4.        ,  1.07179497],\n",
       "       ...,\n",
       "       [ 8.        , 14.11698249, 14.70025621, ..., 16.        ,\n",
       "         7.        ,  1.66465942],\n",
       "       [ 8.        , 14.11698249, 14.70025621, ..., 16.        ,\n",
       "         7.        ,  1.66465942],\n",
       "       [ 8.        , 14.11698249, 14.70025621, ..., 16.        ,\n",
       "         7.        ,  1.66465942]])>"
      ]
     },
     "execution_count": 83,
     "metadata": {},
     "output_type": "execute_result"
    }
   ],
   "source": [
    "states_rit_data_adapted_LL_stochastic_weight_4"
   ]
  },
  {
   "cell_type": "code",
   "execution_count": 84,
   "id": "1f7f179e",
   "metadata": {},
   "outputs": [
    {
     "name": "stdout",
     "output_type": "stream",
     "text": [
      "WARNING:tensorflow:You are casting an input of type complex128 to an incompatible dtype float64.  This will discard the imaginary part and may not be what you intended.\n",
      "tf.Tensor(\n",
      "[4904.64876999 4034.42676216 5544.55032144 3331.2304897  3819.10665194\n",
      " 4121.45402105 4189.52459303 4132.57814758 2964.57667199 4068.05665002\n",
      " 4143.7893942 ], shape=(11,), dtype=float64)\n",
      "WARNING:tensorflow:You are casting an input of type complex128 to an incompatible dtype float64.  This will discard the imaginary part and may not be what you intended.\n",
      "tf.Tensor(\n",
      "[4680.84052592 4642.64558246 4435.45526853 2841.36238118 4625.54692106\n",
      " 4076.05792192 4331.26802249 4828.38264423 3299.72152682 4700.61566613\n",
      " 4855.43142636], shape=(11,), dtype=float64)\n",
      "WARNING:tensorflow:You are casting an input of type complex128 to an incompatible dtype float64.  This will discard the imaginary part and may not be what you intended.\n",
      "tf.Tensor(\n",
      "[4977.84365326 4735.74111512 5216.16721265 3710.47152162 4477.03133626\n",
      " 4485.25836054 4960.39592057 5002.2835565  3475.36166182 4575.89258094\n",
      " 4645.98738579], shape=(11,), dtype=float64)\n",
      "WARNING:tensorflow:You are casting an input of type complex128 to an incompatible dtype float64.  This will discard the imaginary part and may not be what you intended.\n",
      "tf.Tensor(\n",
      "[5243.66148132 4685.65133426 3945.31627166 3969.10254045 4521.59865687\n",
      " 4723.94905452 4871.58607923 4284.22306596 4039.19506721 5010.21024973\n",
      " 5092.38270262], shape=(11,), dtype=float64)\n"
     ]
    }
   ],
   "source": [
    "ess_rit_data_adapted_LL_stochastic_weight_1 = tfp.mcmc.effective_sample_size(states_rit_data_adapted_LL_stochastic_weight_1 )\n",
    "print(ess_rit_data_adapted_LL_stochastic_weight_1)\n",
    "ess_rit_data_adapted_LL_stochastic_weight_2 = tfp.mcmc.effective_sample_size(states_rit_data_adapted_LL_stochastic_weight_2  )\n",
    "print(ess_rit_data_adapted_LL_stochastic_weight_2)\n",
    "ess_rit_data_adapted_LL_stochastic_weight_3 = tfp.mcmc.effective_sample_size(states_rit_data_adapted_LL_stochastic_weight_3  )\n",
    "print(ess_rit_data_adapted_LL_stochastic_weight_3)\n",
    "ess_rit_data_adapted_LL_stochastic_weight_4 = tfp.mcmc.effective_sample_size(states_rit_data_adapted_LL_stochastic_weight_4  )\n",
    "print(ess_rit_data_adapted_LL_stochastic_weight_4)"
   ]
  },
  {
   "cell_type": "code",
   "execution_count": 85,
   "id": "3218c805",
   "metadata": {},
   "outputs": [
    {
     "name": "stdout",
     "output_type": "stream",
     "text": [
      "Min 1: tf.Tensor(2964.5766719927506, shape=(), dtype=float64)\n",
      "Min 2: tf.Tensor(2841.362381179028, shape=(), dtype=float64)\n",
      "Min 3: tf.Tensor(3475.361661815453, shape=(), dtype=float64)\n",
      "Min 4: tf.Tensor(3945.3162716553775, shape=(), dtype=float64)\n",
      "Min all: tf.Tensor(2841.362381179028, shape=(), dtype=float64)\n"
     ]
    }
   ],
   "source": [
    "print('Min 1:', min(ess_rit_data_adapted_LL_stochastic_weight_1))\n",
    "print('Min 2:', min(ess_rit_data_adapted_LL_stochastic_weight_2))\n",
    "print('Min 3:', min(ess_rit_data_adapted_LL_stochastic_weight_3))\n",
    "print('Min 4:', min(ess_rit_data_adapted_LL_stochastic_weight_4))\n",
    "\n",
    "print('Min all:', min((min(ess_rit_data_adapted_LL_stochastic_weight_1), min(ess_rit_data_adapted_LL_stochastic_weight_2), min(ess_rit_data_adapted_LL_stochastic_weight_3), min(ess_rit_data_adapted_LL_stochastic_weight_4))))"
   ]
  },
  {
   "cell_type": "markdown",
   "id": "2b0a13d3",
   "metadata": {},
   "source": [
    "#### RIT Data w/Adapted LL and Initially Infected"
   ]
  },
  {
   "cell_type": "code",
   "execution_count": 78,
   "id": "712f60c7",
   "metadata": {},
   "outputs": [],
   "source": [
    "states_rit_data_adapted_LL_init_infect_1 = tf.convert_to_tensor(rit_data_adapted_LL_init_infect_chain_1_burn_in)\n",
    "states_rit_data_adapted_LL_init_infect_2 = tf.convert_to_tensor(rit_data_adapted_LL_init_infect_chain_2_burn_in)\n",
    "states_rit_data_adapted_LL_init_infect_3 = tf.convert_to_tensor(rit_data_adapted_LL_init_infect_chain_3_burn_in)\n",
    "states_rit_data_adapted_LL_init_infect_4 = tf.convert_to_tensor(rit_data_adapted_LL_init_infect_chain_4_burn_in)"
   ]
  },
  {
   "cell_type": "code",
   "execution_count": 79,
   "id": "67a18974",
   "metadata": {},
   "outputs": [
    {
     "data": {
      "text/plain": [
       "<tf.Tensor: shape=(440000, 10), dtype=float64, numpy=\n",
       "array([[ 8.        , 10.72856915,  7.61959615, ...,  1.22826045,\n",
       "        13.        ,  4.        ],\n",
       "       [ 8.        , 10.72856915,  7.61959615, ...,  1.22826045,\n",
       "        13.        ,  4.        ],\n",
       "       [ 8.        , 10.72856915,  7.61959615, ...,  1.22826045,\n",
       "        13.        ,  4.        ],\n",
       "       ...,\n",
       "       [ 7.        , 12.59645808, 10.59498471, ...,  1.23605017,\n",
       "         7.        ,  6.        ],\n",
       "       [ 7.        , 12.59645808, 10.59498471, ...,  1.23605017,\n",
       "         7.        ,  6.        ],\n",
       "       [ 7.        , 12.59645808, 10.59498471, ...,  1.23605017,\n",
       "         7.        ,  6.        ]])>"
      ]
     },
     "execution_count": 79,
     "metadata": {},
     "output_type": "execute_result"
    }
   ],
   "source": [
    "states_rit_data_adapted_LL_init_infect_1"
   ]
  },
  {
   "cell_type": "code",
   "execution_count": 80,
   "id": "7bd06345",
   "metadata": {},
   "outputs": [
    {
     "name": "stdout",
     "output_type": "stream",
     "text": [
      "WARNING:tensorflow:You are casting an input of type complex128 to an incompatible dtype float64.  This will discard the imaginary part and may not be what you intended.\n",
      "tf.Tensor(\n",
      "[5696.94489237 4736.11143982 5348.93732655 5175.50945936 4835.16161265\n",
      " 5827.01714083 6639.07975398 5271.89588094 4223.58346545 4994.54934243], shape=(10,), dtype=float64)\n",
      "WARNING:tensorflow:You are casting an input of type complex128 to an incompatible dtype float64.  This will discard the imaginary part and may not be what you intended.\n",
      "tf.Tensor(\n",
      "[5988.11544218 4817.81836249 4569.11482424 4901.22223589 6008.77170288\n",
      " 6143.48534055 6702.9187415  5963.10763021 4741.00398831 5913.5488761 ], shape=(10,), dtype=float64)\n",
      "WARNING:tensorflow:You are casting an input of type complex128 to an incompatible dtype float64.  This will discard the imaginary part and may not be what you intended.\n",
      "tf.Tensor(\n",
      "[6009.55465272 5528.73515299 3873.76382275 5136.24869164 5982.83637771\n",
      " 6314.24591062 6168.32749806 5455.73726545 4134.87147301 5954.99209199], shape=(10,), dtype=float64)\n",
      "WARNING:tensorflow:You are casting an input of type complex128 to an incompatible dtype float64.  This will discard the imaginary part and may not be what you intended.\n",
      "tf.Tensor(\n",
      "[5172.64873774 5581.54560449 4496.09662311 5383.31294431 5430.83332076\n",
      " 5184.88930899 5936.86345528 4794.71920762 3962.00426655 5361.17142422], shape=(10,), dtype=float64)\n"
     ]
    }
   ],
   "source": [
    "ess_rit_data_adapted_LL_init_infect_1 = tfp.mcmc.effective_sample_size(states_rit_data_adapted_LL_init_infect_1  )\n",
    "print(ess_rit_data_adapted_LL_init_infect_1)\n",
    "ess_rit_data_adapted_LL_init_infect_2 = tfp.mcmc.effective_sample_size(states_rit_data_adapted_LL_init_infect_2  )\n",
    "print(ess_rit_data_adapted_LL_init_infect_2)\n",
    "ess_rit_data_adapted_LL_init_infect_3 = tfp.mcmc.effective_sample_size(states_rit_data_adapted_LL_init_infect_3  )\n",
    "print(ess_rit_data_adapted_LL_init_infect_3)\n",
    "ess_rit_data_adapted_LL_init_infect_4 = tfp.mcmc.effective_sample_size(states_rit_data_adapted_LL_init_infect_4  )\n",
    "print(ess_rit_data_adapted_LL_init_infect_4)"
   ]
  },
  {
   "cell_type": "code",
   "execution_count": 81,
   "id": "94b573e7",
   "metadata": {},
   "outputs": [
    {
     "name": "stdout",
     "output_type": "stream",
     "text": [
      "Min 1: tf.Tensor(4223.583465453808, shape=(), dtype=float64)\n",
      "Min 2: tf.Tensor(4569.114824238087, shape=(), dtype=float64)\n",
      "Min 3: tf.Tensor(3873.76382274878, shape=(), dtype=float64)\n",
      "Min 4: tf.Tensor(3962.00426654719, shape=(), dtype=float64)\n",
      "Min all: tf.Tensor(3873.76382274878, shape=(), dtype=float64)\n"
     ]
    }
   ],
   "source": [
    "print('Min 1:', min(ess_rit_data_adapted_LL_init_infect_1))\n",
    "print('Min 2:', min(ess_rit_data_adapted_LL_init_infect_2))\n",
    "print('Min 3:', min(ess_rit_data_adapted_LL_init_infect_3))\n",
    "print('Min 4:', min(ess_rit_data_adapted_LL_init_infect_4))\n",
    "\n",
    "print('Min all:', min((min(ess_rit_data_adapted_LL_init_infect_1), min(ess_rit_data_adapted_LL_init_infect_2), min(ess_rit_data_adapted_LL_init_infect_3), min(ess_rit_data_adapted_LL_init_infect_4))))"
   ]
  },
  {
   "cell_type": "code",
   "execution_count": null,
   "id": "63018e8a",
   "metadata": {},
   "outputs": [],
   "source": []
  },
  {
   "cell_type": "code",
   "execution_count": null,
   "id": "62eb8c34",
   "metadata": {},
   "outputs": [],
   "source": []
  },
  {
   "cell_type": "markdown",
   "id": "5cd93ba6",
   "metadata": {},
   "source": [
    "### Define Needed Functions for ESS"
   ]
  },
  {
   "cell_type": "code",
   "execution_count": null,
   "id": "6fa7c910",
   "metadata": {},
   "outputs": [],
   "source": [
    "from statsmodels.tsa.stattools import acf\n"
   ]
  },
  {
   "cell_type": "code",
   "execution_count": null,
   "id": "22fc8907",
   "metadata": {},
   "outputs": [],
   "source": [
    "def acf_all_params_num_lags(burned_in_df, num_lags):\n",
    "    acf_all_params_output = []\n",
    "    \n",
    "    for i in range(len(burned_in_df[0,:])):\n",
    "        print(i, burned_in_df[:,i],num_lags[i] )\n",
    "        acf_all_params_output.append(acf(burned_in_df[:,i], nlags = num_lags[i]))\n",
    "    \n",
    "    return(acf_all_params_output)"
   ]
  },
  {
   "cell_type": "code",
   "execution_count": null,
   "id": "088f4955",
   "metadata": {},
   "outputs": [],
   "source": [
    "def acf_all_params_num_lags_nlag_det(burned_in_df, num_lags):\n",
    "    acf_all_params_output = []\n",
    "    \n",
    "    for i in range(len(burned_in_df[0,:])):\n",
    "        print(burned_in_df[:,i])\n",
    "        acf_all_params_output.append(acf(burned_in_df[:,i], nlags = num_lags))\n",
    "    \n",
    "    return(acf_all_params_output)"
   ]
  },
  {
   "cell_type": "code",
   "execution_count": null,
   "id": "cf7332b8",
   "metadata": {},
   "outputs": [],
   "source": [
    "def ess_all_params(acf_outputs, num_samples):\n",
    "    ess_output_all_params = []\n",
    "    \n",
    "    for i in range(len(acf_outputs)):\n",
    "        ess = num_samples/(1+(2*sum(acf_outputs[i])))\n",
    "        ess_output_all_params.append(ess)\n",
    "        \n",
    "    return(ess_output_all_params)"
   ]
  },
  {
   "cell_type": "code",
   "execution_count": null,
   "id": "98567a99",
   "metadata": {},
   "outputs": [],
   "source": [
    "def ess_to_dataframe(ess_outputs_for_params, param_names, index_name):\n",
    "    \n",
    "    ess_outputs_for_params = np.resize(ess_outputs_for_params, (1,len(param_names)))\n",
    "\n",
    "    ess_df = pd.DataFrame(ess_outputs_for_params, index = index_name, columns = param_names)\n",
    "\n",
    "    return(ess_df)"
   ]
  },
  {
   "cell_type": "markdown",
   "id": "9afb42d5",
   "metadata": {},
   "source": [
    "### Testing Number of Lags for ACF function\n",
    "#### OG Calibration"
   ]
  },
  {
   "cell_type": "code",
   "execution_count": null,
   "id": "ec14e846",
   "metadata": {},
   "outputs": [],
   "source": [
    "numlags = 500\n",
    "\n",
    "\n",
    "acf_lag_output_og_cal = acf_all_params_num_lags_nlag_det(og_calibration_burn_in, num_lags= numlags)"
   ]
  },
  {
   "cell_type": "code",
   "execution_count": null,
   "id": "5e149afd",
   "metadata": {},
   "outputs": [],
   "source": [
    "def det_num_lags(acf_lag_output_input, param_index):\n",
    "        \n",
    "    for i in range(1, len(acf_lag_output_input[0])):\n",
    "        \n",
    "        if ((acf_lag_output_input[param_index][i - 1] > 0 and  acf_lag_output_input[param_index][i] < 0) == True).any():\n",
    "            print(i-1, i, acf_lag_output_input[param_index][i - 1], acf_lag_output_input[param_index][i])"
   ]
  },
  {
   "cell_type": "markdown",
   "id": "0069a56e",
   "metadata": {},
   "source": [
    "##### Frequency of Exgenous Shock Parameter"
   ]
  },
  {
   "cell_type": "code",
   "execution_count": null,
   "id": "0b64d6d4",
   "metadata": {},
   "outputs": [],
   "source": [
    "det_num_lags(acf_lag_output_og_cal, param_index = 0)"
   ]
  },
  {
   "cell_type": "code",
   "execution_count": null,
   "id": "06f6eb7a",
   "metadata": {},
   "outputs": [],
   "source": [
    "freq_es_nlag = 198\n",
    "acf_lag_output_og_cal[0][198]\n"
   ]
  },
  {
   "cell_type": "code",
   "execution_count": null,
   "id": "68832081",
   "metadata": {},
   "outputs": [],
   "source": [
    "param_numlags_og_cal = []\n",
    "param_numlags_og_cal.append(freq_es_nlag)\n"
   ]
  },
  {
   "cell_type": "markdown",
   "id": "8435b814",
   "metadata": {},
   "source": [
    "##### Time to Recovery Parameter"
   ]
  },
  {
   "cell_type": "code",
   "execution_count": null,
   "id": "242d2563",
   "metadata": {},
   "outputs": [],
   "source": [
    "det_num_lags(acf_lag_output_og_cal, param_index = 1)"
   ]
  },
  {
   "cell_type": "code",
   "execution_count": null,
   "id": "66937ab6",
   "metadata": {},
   "outputs": [],
   "source": [
    "time_recov_nlags = 450\n",
    "acf_lag_output_og_cal[1][450]\n"
   ]
  },
  {
   "cell_type": "code",
   "execution_count": null,
   "id": "da00f9f2",
   "metadata": {},
   "outputs": [],
   "source": [
    "param_numlags_og_cal.append(time_recov_nlags)\n",
    "param_numlags_og_cal"
   ]
  },
  {
   "cell_type": "markdown",
   "id": "5f425cf2",
   "metadata": {},
   "source": [
    "##### Percent Advancing to Symptoms Parameter"
   ]
  },
  {
   "cell_type": "code",
   "execution_count": null,
   "id": "72d08f86",
   "metadata": {},
   "outputs": [],
   "source": [
    "det_num_lags(acf_lag_output_og_cal, param_index = 2)"
   ]
  },
  {
   "cell_type": "code",
   "execution_count": null,
   "id": "d27bb055",
   "metadata": {},
   "outputs": [],
   "source": [
    "numlags = 500\n",
    "\n",
    "\n",
    "acf_lag_output_og_cal_1 = acf_all_params_num_lags_nlag_det(og_calibration_burn_in, num_lags= numlags)"
   ]
  },
  {
   "cell_type": "code",
   "execution_count": null,
   "id": "7cb058cf",
   "metadata": {},
   "outputs": [],
   "source": [
    "det_num_lags(acf_lag_output_og_cal_1, param_index = 2)"
   ]
  },
  {
   "cell_type": "code",
   "execution_count": null,
   "id": "d143c288",
   "metadata": {},
   "outputs": [],
   "source": [
    "percent_advance_nlags = 245\n",
    "acf_lag_output_og_cal[2][245]"
   ]
  },
  {
   "cell_type": "code",
   "execution_count": null,
   "id": "4b70ac80",
   "metadata": {},
   "outputs": [],
   "source": [
    "param_numlags_og_cal.append(percent_advance_nlags)\n",
    "param_numlags_og_cal"
   ]
  },
  {
   "cell_type": "markdown",
   "id": "610ecd81",
   "metadata": {},
   "source": [
    "##### $R_t$ Parameter"
   ]
  },
  {
   "cell_type": "code",
   "execution_count": null,
   "id": "61d5cc68",
   "metadata": {},
   "outputs": [],
   "source": [
    "det_num_lags(acf_lag_output_og_cal_1, param_index = 3)"
   ]
  },
  {
   "cell_type": "code",
   "execution_count": null,
   "id": "b83479b8",
   "metadata": {
    "scrolled": true
   },
   "outputs": [],
   "source": [
    "Rt_nlags = 251\n",
    "acf_lag_output_og_cal[3][251]"
   ]
  },
  {
   "cell_type": "code",
   "execution_count": null,
   "id": "8aa4d240",
   "metadata": {},
   "outputs": [],
   "source": [
    "param_numlags_og_cal.append(Rt_nlags)\n",
    "param_numlags_og_cal"
   ]
  },
  {
   "cell_type": "markdown",
   "id": "bf27a946",
   "metadata": {},
   "source": [
    "##### Symptom Case Fatality Ratio Parameter"
   ]
  },
  {
   "cell_type": "code",
   "execution_count": null,
   "id": "493eb42c",
   "metadata": {},
   "outputs": [],
   "source": [
    "det_num_lags(acf_lag_output_og_cal_1, param_index = 4)"
   ]
  },
  {
   "cell_type": "code",
   "execution_count": null,
   "id": "e72122e7",
   "metadata": {
    "scrolled": true
   },
   "outputs": [],
   "source": [
    "symptom_case_fatal_nlags = 175\n",
    "acf_lag_output_og_cal[4][175]"
   ]
  },
  {
   "cell_type": "code",
   "execution_count": null,
   "id": "034324ab",
   "metadata": {},
   "outputs": [],
   "source": [
    "param_numlags_og_cal.append(symptom_case_fatal_nlags)\n",
    "param_numlags_og_cal"
   ]
  },
  {
   "cell_type": "markdown",
   "id": "8cafe4d5",
   "metadata": {},
   "source": [
    "##### Days to Incubation Parameter"
   ]
  },
  {
   "cell_type": "code",
   "execution_count": null,
   "id": "32b1fd8f",
   "metadata": {},
   "outputs": [],
   "source": [
    "det_num_lags(acf_lag_output_og_cal_1, param_index = 5)"
   ]
  },
  {
   "cell_type": "code",
   "execution_count": null,
   "id": "20a5a854",
   "metadata": {},
   "outputs": [],
   "source": [
    "acf_lag_output_og_cal[5][156]"
   ]
  },
  {
   "cell_type": "code",
   "execution_count": null,
   "id": "5665c2cd",
   "metadata": {},
   "outputs": [],
   "source": [
    "numlags = 200\n",
    "\n",
    "\n",
    "acf_lag_output_og_cal_2 = acf_all_params_num_lags_nlag_det(og_calibration_burn_in, num_lags= numlags)"
   ]
  },
  {
   "cell_type": "code",
   "execution_count": null,
   "id": "f12a2826",
   "metadata": {},
   "outputs": [],
   "source": [
    "det_num_lags(acf_lag_output_og_cal_2, param_index = 5)"
   ]
  },
  {
   "cell_type": "code",
   "execution_count": null,
   "id": "47ed34db",
   "metadata": {},
   "outputs": [],
   "source": [
    "days_nlags = 156\n",
    "acf_lag_output_og_cal[5][156]"
   ]
  },
  {
   "cell_type": "code",
   "execution_count": null,
   "id": "beff6db2",
   "metadata": {},
   "outputs": [],
   "source": [
    "param_numlags_og_cal.append(days_nlags)\n",
    "param_numlags_og_cal"
   ]
  },
  {
   "cell_type": "markdown",
   "id": "b210d789",
   "metadata": {},
   "source": [
    "##### Test Sensitivity Parameter"
   ]
  },
  {
   "cell_type": "code",
   "execution_count": null,
   "id": "d9995746",
   "metadata": {},
   "outputs": [],
   "source": [
    "det_num_lags(acf_lag_output_og_cal, param_index = 6)"
   ]
  },
  {
   "cell_type": "code",
   "execution_count": null,
   "id": "f6722d74",
   "metadata": {},
   "outputs": [],
   "source": [
    "acf_lag_output_og_cal[6][125]"
   ]
  },
  {
   "cell_type": "code",
   "execution_count": null,
   "id": "926cfa27",
   "metadata": {},
   "outputs": [],
   "source": [
    "det_num_lags(acf_lag_output_og_cal_1, param_index = 6)"
   ]
  },
  {
   "cell_type": "code",
   "execution_count": null,
   "id": "5e3f2b65",
   "metadata": {},
   "outputs": [],
   "source": [
    "Se_nlags = 125\n",
    "acf_lag_output_og_cal[6][125]"
   ]
  },
  {
   "cell_type": "code",
   "execution_count": null,
   "id": "e54eae04",
   "metadata": {},
   "outputs": [],
   "source": [
    "param_numlags_og_cal.append(Se_nlags)\n",
    "param_numlags_og_cal"
   ]
  },
  {
   "cell_type": "markdown",
   "id": "d1147029",
   "metadata": {},
   "source": [
    "##### Test Specificity Parameter"
   ]
  },
  {
   "cell_type": "code",
   "execution_count": null,
   "id": "3b8d74d3",
   "metadata": {},
   "outputs": [],
   "source": [
    "det_num_lags(acf_lag_output_og_cal, param_index = 7)"
   ]
  },
  {
   "cell_type": "code",
   "execution_count": null,
   "id": "91a8bd7f",
   "metadata": {},
   "outputs": [],
   "source": [
    "Sp_nlags = 207\n",
    "acf_lag_output_og_cal[7][207]"
   ]
  },
  {
   "cell_type": "code",
   "execution_count": null,
   "id": "2b547306",
   "metadata": {},
   "outputs": [],
   "source": [
    "param_numlags_og_cal.append(Sp_nlags)\n",
    "param_numlags_og_cal"
   ]
  },
  {
   "cell_type": "markdown",
   "id": "9649ff3a",
   "metadata": {},
   "source": [
    "##### New Infections Per Shock Parameter"
   ]
  },
  {
   "cell_type": "code",
   "execution_count": null,
   "id": "2beaea2c",
   "metadata": {},
   "outputs": [],
   "source": [
    "det_num_lags(acf_lag_output_og_cal, param_index = 8)"
   ]
  },
  {
   "cell_type": "code",
   "execution_count": null,
   "id": "2858feed",
   "metadata": {},
   "outputs": [],
   "source": [
    "new_infect_nlags = 226\n",
    "acf_lag_output_og_cal[8][226]"
   ]
  },
  {
   "cell_type": "code",
   "execution_count": null,
   "id": "5bb2b5d6",
   "metadata": {},
   "outputs": [],
   "source": [
    "param_numlags_og_cal.append(new_infect_nlags)\n",
    "param_numlags_og_cal"
   ]
  },
  {
   "cell_type": "markdown",
   "id": "b7d6ba34",
   "metadata": {},
   "source": [
    "#### Initial Infected Adjusted Testing Term "
   ]
  },
  {
   "cell_type": "code",
   "execution_count": null,
   "id": "00d4a629",
   "metadata": {},
   "outputs": [],
   "source": [
    "numlags = 500\n",
    "\n",
    "\n",
    "acf_lag_output_init_adjust_tt_cal = acf_all_params_num_lags_nlag_det(initi_infect_adjust_test_terms_burn_in, num_lags= numlags)\n"
   ]
  },
  {
   "cell_type": "markdown",
   "id": "748b8ff4",
   "metadata": {},
   "source": [
    "##### Frequency of Exgenous Shock Parameter"
   ]
  },
  {
   "cell_type": "code",
   "execution_count": null,
   "id": "ce330bb2",
   "metadata": {},
   "outputs": [],
   "source": [
    "det_num_lags(acf_lag_output_init_adjust_tt_cal, param_index = 0)"
   ]
  },
  {
   "cell_type": "code",
   "execution_count": null,
   "id": "ebc7f242",
   "metadata": {},
   "outputs": [],
   "source": [
    "freq_es_nlag = 330\n",
    "acf_lag_output_init_adjust_tt_cal[0][330]"
   ]
  },
  {
   "cell_type": "code",
   "execution_count": null,
   "id": "29ab4db5",
   "metadata": {},
   "outputs": [],
   "source": [
    "param_numlags_init_adjust_tt_cal = []\n",
    "param_numlags_init_adjust_tt_cal.append(freq_es_nlag)"
   ]
  },
  {
   "cell_type": "markdown",
   "id": "0ca110da",
   "metadata": {},
   "source": [
    "##### Time to Recovery Parameter"
   ]
  },
  {
   "cell_type": "code",
   "execution_count": null,
   "id": "0eb51b1f",
   "metadata": {},
   "outputs": [],
   "source": [
    "det_num_lags(acf_lag_output_init_adjust_tt_cal, param_index = 1)"
   ]
  },
  {
   "cell_type": "code",
   "execution_count": null,
   "id": "fb9a99ae",
   "metadata": {},
   "outputs": [],
   "source": [
    "time_recov_nlag = 199\n",
    "acf_lag_output_init_adjust_tt_cal[1][199]"
   ]
  },
  {
   "cell_type": "code",
   "execution_count": null,
   "id": "367809ff",
   "metadata": {},
   "outputs": [],
   "source": [
    "param_numlags_init_adjust_tt_cal.append(time_recov_nlag)\n",
    "param_numlags_init_adjust_tt_cal"
   ]
  },
  {
   "cell_type": "markdown",
   "id": "d381cd57",
   "metadata": {},
   "source": [
    "##### Percent Advancing to Symptoms Parameter"
   ]
  },
  {
   "cell_type": "code",
   "execution_count": null,
   "id": "7f77a593",
   "metadata": {},
   "outputs": [],
   "source": [
    "det_num_lags(acf_lag_output_init_adjust_tt_cal, param_index = 2)"
   ]
  },
  {
   "cell_type": "code",
   "execution_count": null,
   "id": "4ba84a13",
   "metadata": {},
   "outputs": [],
   "source": [
    "# numlags = 20000\n",
    "\n",
    "\n",
    "# acf_lag_output_init_adjust_tt_cal_1 = acf_all_params_num_lags_nlag_det(initi_infect_adjust_test_terms_burn_in, num_lags= numlags)\n",
    "\n"
   ]
  },
  {
   "cell_type": "code",
   "execution_count": null,
   "id": "457a1f00",
   "metadata": {},
   "outputs": [],
   "source": [
    "# det_num_lags(acf_lag_output_init_adjust_tt_cal_1, param_index = 2)"
   ]
  },
  {
   "cell_type": "code",
   "execution_count": null,
   "id": "cfef501d",
   "metadata": {},
   "outputs": [],
   "source": [
    "percent_advanc_nlag = 234\n",
    "acf_lag_output_init_adjust_tt_cal[2][234]"
   ]
  },
  {
   "cell_type": "code",
   "execution_count": null,
   "id": "89a5e5a7",
   "metadata": {},
   "outputs": [],
   "source": [
    "param_numlags_init_adjust_tt_cal.append(percent_advanc_nlag)\n",
    "param_numlags_init_adjust_tt_cal"
   ]
  },
  {
   "cell_type": "markdown",
   "id": "eae61aeb",
   "metadata": {},
   "source": [
    "##### $R_t$ Parameter"
   ]
  },
  {
   "cell_type": "code",
   "execution_count": null,
   "id": "ecb2d76b",
   "metadata": {},
   "outputs": [],
   "source": [
    "det_num_lags(acf_lag_output_init_adjust_tt_cal, param_index = 3)"
   ]
  },
  {
   "cell_type": "code",
   "execution_count": null,
   "id": "f2a6be53",
   "metadata": {},
   "outputs": [],
   "source": [
    "Rt_nlag = 262\n",
    "acf_lag_output_init_adjust_tt_cal[3][262]"
   ]
  },
  {
   "cell_type": "code",
   "execution_count": null,
   "id": "8819870b",
   "metadata": {},
   "outputs": [],
   "source": [
    "param_numlags_init_adjust_tt_cal.append(Rt_nlag)\n",
    "param_numlags_init_adjust_tt_cal"
   ]
  },
  {
   "cell_type": "markdown",
   "id": "476f1ad1",
   "metadata": {},
   "source": [
    "##### Symptom Case Fatality Ratio Parameter"
   ]
  },
  {
   "cell_type": "code",
   "execution_count": null,
   "id": "30f28cb8",
   "metadata": {},
   "outputs": [],
   "source": [
    "det_num_lags(acf_lag_output_init_adjust_tt_cal, param_index = 4)"
   ]
  },
  {
   "cell_type": "code",
   "execution_count": null,
   "id": "293db591",
   "metadata": {},
   "outputs": [],
   "source": [
    "symptom_case_fatal_nlag = 130\n",
    "acf_lag_output_init_adjust_tt_cal[4][130]"
   ]
  },
  {
   "cell_type": "code",
   "execution_count": null,
   "id": "6e809d4b",
   "metadata": {},
   "outputs": [],
   "source": [
    "param_numlags_init_adjust_tt_cal.append(symptom_case_fatal_nlag)\n",
    "param_numlags_init_adjust_tt_cal"
   ]
  },
  {
   "cell_type": "markdown",
   "id": "c97ec260",
   "metadata": {},
   "source": [
    "##### Days to Incubation Parameter"
   ]
  },
  {
   "cell_type": "code",
   "execution_count": null,
   "id": "e676e86a",
   "metadata": {},
   "outputs": [],
   "source": [
    "det_num_lags(acf_lag_output_init_adjust_tt_cal, param_index = 5)"
   ]
  },
  {
   "cell_type": "code",
   "execution_count": null,
   "id": "db8203a1",
   "metadata": {},
   "outputs": [],
   "source": [
    "days_nlag = 222\n",
    "acf_lag_output_init_adjust_tt_cal[5][222]"
   ]
  },
  {
   "cell_type": "code",
   "execution_count": null,
   "id": "d2fe5b90",
   "metadata": {},
   "outputs": [],
   "source": [
    "param_numlags_init_adjust_tt_cal.append(days_nlag)\n",
    "param_numlags_init_adjust_tt_cal"
   ]
  },
  {
   "cell_type": "markdown",
   "id": "c0ddab21",
   "metadata": {},
   "source": [
    "##### Test Sensitivity Parameter"
   ]
  },
  {
   "cell_type": "code",
   "execution_count": null,
   "id": "42a811f4",
   "metadata": {},
   "outputs": [],
   "source": [
    "det_num_lags(acf_lag_output_init_adjust_tt_cal, param_index = 6)"
   ]
  },
  {
   "cell_type": "code",
   "execution_count": null,
   "id": "5def8d52",
   "metadata": {},
   "outputs": [],
   "source": [
    "Se_nlag = 133\n",
    "acf_lag_output_init_adjust_tt_cal[6][133]"
   ]
  },
  {
   "cell_type": "code",
   "execution_count": null,
   "id": "7f067a0e",
   "metadata": {},
   "outputs": [],
   "source": [
    "param_numlags_init_adjust_tt_cal.append(Se_nlag)\n",
    "param_numlags_init_adjust_tt_cal"
   ]
  },
  {
   "cell_type": "markdown",
   "id": "61808c6e",
   "metadata": {},
   "source": [
    "##### Test Specificity Parameter"
   ]
  },
  {
   "cell_type": "code",
   "execution_count": null,
   "id": "354efbfc",
   "metadata": {},
   "outputs": [],
   "source": [
    "det_num_lags(acf_lag_output_init_adjust_tt_cal, param_index = 7)"
   ]
  },
  {
   "cell_type": "code",
   "execution_count": null,
   "id": "aac89bf7",
   "metadata": {},
   "outputs": [],
   "source": [
    "Sp_nlag = 96\n",
    "acf_lag_output_init_adjust_tt_cal[7][96]"
   ]
  },
  {
   "cell_type": "code",
   "execution_count": null,
   "id": "d23f6393",
   "metadata": {},
   "outputs": [],
   "source": [
    "param_numlags_init_adjust_tt_cal.append(Sp_nlag)\n",
    "param_numlags_init_adjust_tt_cal"
   ]
  },
  {
   "cell_type": "markdown",
   "id": "732199fb",
   "metadata": {},
   "source": [
    "##### New Infections Per Shock Parameter"
   ]
  },
  {
   "cell_type": "code",
   "execution_count": null,
   "id": "21e090db",
   "metadata": {},
   "outputs": [],
   "source": [
    "det_num_lags(acf_lag_output_init_adjust_tt_cal, param_index = 8)"
   ]
  },
  {
   "cell_type": "code",
   "execution_count": null,
   "id": "5a785f61",
   "metadata": {},
   "outputs": [],
   "source": [
    "new_infect_nlag = 202\n",
    "acf_lag_output_init_adjust_tt_cal[8][202]"
   ]
  },
  {
   "cell_type": "code",
   "execution_count": null,
   "id": "1286ed6c",
   "metadata": {},
   "outputs": [],
   "source": [
    "param_numlags_init_adjust_tt_cal.append(new_infect_nlag)\n",
    "param_numlags_init_adjust_tt_cal"
   ]
  },
  {
   "cell_type": "markdown",
   "id": "7237b9f7",
   "metadata": {},
   "source": [
    "##### Initially Infected Parameter"
   ]
  },
  {
   "cell_type": "code",
   "execution_count": null,
   "id": "f66986cb",
   "metadata": {},
   "outputs": [],
   "source": [
    "det_num_lags(acf_lag_output_init_adjust_tt_cal, param_index = 9)"
   ]
  },
  {
   "cell_type": "code",
   "execution_count": null,
   "id": "365af721",
   "metadata": {},
   "outputs": [],
   "source": [
    "init_infect_nlag = 450\n",
    "acf_lag_output_init_adjust_tt_cal[9][450]"
   ]
  },
  {
   "cell_type": "code",
   "execution_count": null,
   "id": "b95b89da",
   "metadata": {},
   "outputs": [],
   "source": [
    "param_numlags_init_adjust_tt_cal.append(init_infect_nlag)\n",
    "param_numlags_init_adjust_tt_cal"
   ]
  },
  {
   "cell_type": "markdown",
   "id": "b1d19b44",
   "metadata": {},
   "source": [
    "#### Sp Reparameter Calibration"
   ]
  },
  {
   "cell_type": "code",
   "execution_count": null,
   "id": "9ac18d26",
   "metadata": {},
   "outputs": [],
   "source": [
    "numlags = 10000\n",
    "\n",
    "\n",
    "acf_lag_output_reparam_cal = acf_all_params_num_lags_nlag_det(sp_reparam_burn_in, num_lags= numlags)"
   ]
  },
  {
   "cell_type": "markdown",
   "id": "70ba2101",
   "metadata": {},
   "source": [
    "##### Frequency of Exgenous Shock Parameter"
   ]
  },
  {
   "cell_type": "code",
   "execution_count": null,
   "id": "8da7ff90",
   "metadata": {},
   "outputs": [],
   "source": [
    "det_num_lags(acf_lag_output_reparam_cal, param_index = 0)"
   ]
  },
  {
   "cell_type": "code",
   "execution_count": null,
   "id": "81fd8baf",
   "metadata": {},
   "outputs": [],
   "source": [
    "freq_es_nlag = 9589\n",
    "acf_lag_output_reparam_cal[0][9589]"
   ]
  },
  {
   "cell_type": "code",
   "execution_count": null,
   "id": "adefde87",
   "metadata": {},
   "outputs": [],
   "source": [
    "param_numlags_reparam_cal = []\n",
    "param_numlags_reparam_cal.append(freq_es_nlag)"
   ]
  },
  {
   "cell_type": "markdown",
   "id": "62bd041e",
   "metadata": {},
   "source": [
    "##### Time to Recovery Parameter"
   ]
  },
  {
   "cell_type": "code",
   "execution_count": null,
   "id": "8b56c15c",
   "metadata": {},
   "outputs": [],
   "source": [
    "det_num_lags(acf_lag_output_reparam_cal, param_index = 1)"
   ]
  },
  {
   "cell_type": "code",
   "execution_count": null,
   "id": "f21c5a5e",
   "metadata": {},
   "outputs": [],
   "source": [
    "numlags = 20000\n",
    "\n",
    "\n",
    "acf_lag_output_reparam_cal_1 = acf_all_params_num_lags_nlag_det(sp_reparam_burn_in, num_lags= numlags)\n",
    "\n"
   ]
  },
  {
   "cell_type": "code",
   "execution_count": null,
   "id": "a8603082",
   "metadata": {},
   "outputs": [],
   "source": [
    "det_num_lags(acf_lag_output_reparam_cal_1, param_index = 1)"
   ]
  },
  {
   "cell_type": "code",
   "execution_count": null,
   "id": "73c4efc2",
   "metadata": {},
   "outputs": [],
   "source": [
    "time_recov_nlag = 10211\n",
    "acf_lag_output_reparam_cal_1[1][10211]"
   ]
  },
  {
   "cell_type": "code",
   "execution_count": null,
   "id": "f6ed7b0d",
   "metadata": {},
   "outputs": [],
   "source": [
    "param_numlags_reparam_cal.append(time_recov_nlag)\n",
    "param_numlags_reparam_cal"
   ]
  },
  {
   "cell_type": "markdown",
   "id": "3e3e7543",
   "metadata": {},
   "source": [
    "##### Percent Advancing to Symptoms Parameter"
   ]
  },
  {
   "cell_type": "code",
   "execution_count": null,
   "id": "5974852c",
   "metadata": {},
   "outputs": [],
   "source": [
    "det_num_lags(acf_lag_output_reparam_cal, param_index = 2)"
   ]
  },
  {
   "cell_type": "code",
   "execution_count": null,
   "id": "4c33e9bf",
   "metadata": {},
   "outputs": [],
   "source": [
    "det_num_lags(acf_lag_output_reparam_cal_1, param_index = 2)"
   ]
  },
  {
   "cell_type": "code",
   "execution_count": null,
   "id": "3e427ba9",
   "metadata": {},
   "outputs": [],
   "source": [
    "percent_advance_nlag = 10221\n",
    "acf_lag_output_reparam_cal_1[2][10221]"
   ]
  },
  {
   "cell_type": "code",
   "execution_count": null,
   "id": "975a12c0",
   "metadata": {},
   "outputs": [],
   "source": [
    "param_numlags_reparam_cal.append(percent_advance_nlag)\n",
    "param_numlags_reparam_cal"
   ]
  },
  {
   "cell_type": "markdown",
   "id": "4c34f258",
   "metadata": {},
   "source": [
    "##### $R_t$ Parameter"
   ]
  },
  {
   "cell_type": "code",
   "execution_count": null,
   "id": "65750e80",
   "metadata": {},
   "outputs": [],
   "source": [
    "det_num_lags(acf_lag_output_reparam_cal, param_index = 3)"
   ]
  },
  {
   "cell_type": "code",
   "execution_count": null,
   "id": "606e5c09",
   "metadata": {},
   "outputs": [],
   "source": [
    "Rt_nlag = 4047\n",
    "acf_lag_output_reparam_cal_1[3][4047]"
   ]
  },
  {
   "cell_type": "code",
   "execution_count": null,
   "id": "5cb00981",
   "metadata": {},
   "outputs": [],
   "source": [
    "param_numlags_reparam_cal.append(Rt_nlag)\n",
    "param_numlags_reparam_cal"
   ]
  },
  {
   "cell_type": "markdown",
   "id": "3c2e8876",
   "metadata": {},
   "source": [
    "##### Symptom Case Fatality Ratio Parameter"
   ]
  },
  {
   "cell_type": "code",
   "execution_count": null,
   "id": "064b4761",
   "metadata": {},
   "outputs": [],
   "source": [
    "det_num_lags(acf_lag_output_reparam_cal, param_index = 4)"
   ]
  },
  {
   "cell_type": "code",
   "execution_count": null,
   "id": "cf090979",
   "metadata": {},
   "outputs": [],
   "source": [
    "symptom_case_fatal_nlag = 4882\n",
    "acf_lag_output_reparam_cal_1[4][4882]"
   ]
  },
  {
   "cell_type": "code",
   "execution_count": null,
   "id": "60d9d6b4",
   "metadata": {},
   "outputs": [],
   "source": [
    "param_numlags_reparam_cal.append(symptom_case_fatal_nlag)\n",
    "param_numlags_reparam_cal"
   ]
  },
  {
   "cell_type": "markdown",
   "id": "2ac9d076",
   "metadata": {},
   "source": [
    "##### Days to Incubation Parameter"
   ]
  },
  {
   "cell_type": "code",
   "execution_count": null,
   "id": "82ed26bb",
   "metadata": {},
   "outputs": [],
   "source": [
    "det_num_lags(acf_lag_output_reparam_cal, param_index = 5)"
   ]
  },
  {
   "cell_type": "code",
   "execution_count": null,
   "id": "9952aab1",
   "metadata": {},
   "outputs": [],
   "source": [
    "days_nlag = 3644\n",
    "acf_lag_output_reparam_cal_1[5][3644]"
   ]
  },
  {
   "cell_type": "code",
   "execution_count": null,
   "id": "6df93f48",
   "metadata": {},
   "outputs": [],
   "source": [
    "param_numlags_reparam_cal.append(days_nlag)\n",
    "param_numlags_reparam_cal"
   ]
  },
  {
   "cell_type": "markdown",
   "id": "37358e08",
   "metadata": {},
   "source": [
    "##### Test Sensitivity Parameter"
   ]
  },
  {
   "cell_type": "code",
   "execution_count": null,
   "id": "68d72b95",
   "metadata": {},
   "outputs": [],
   "source": [
    "det_num_lags(acf_lag_output_reparam_cal, param_index = 6)"
   ]
  },
  {
   "cell_type": "code",
   "execution_count": null,
   "id": "c881e5e6",
   "metadata": {},
   "outputs": [],
   "source": [
    "Se_nlag = 5372\n",
    "acf_lag_output_reparam_cal_1[6][5372]"
   ]
  },
  {
   "cell_type": "code",
   "execution_count": null,
   "id": "af501efe",
   "metadata": {},
   "outputs": [],
   "source": [
    "param_numlags_reparam_cal.append(Se_nlag)\n",
    "param_numlags_reparam_cal"
   ]
  },
  {
   "cell_type": "markdown",
   "id": "9ef5dd9a",
   "metadata": {},
   "source": [
    "##### Test Specificity Parameter"
   ]
  },
  {
   "cell_type": "code",
   "execution_count": null,
   "id": "e2fda847",
   "metadata": {},
   "outputs": [],
   "source": [
    "det_num_lags(acf_lag_output_reparam_cal, param_index = 7)"
   ]
  },
  {
   "cell_type": "code",
   "execution_count": null,
   "id": "de91ec20",
   "metadata": {},
   "outputs": [],
   "source": [
    "Sp_nlag = 3439\n",
    "acf_lag_output_reparam_cal_1[7][3439]"
   ]
  },
  {
   "cell_type": "code",
   "execution_count": null,
   "id": "e8759e7e",
   "metadata": {},
   "outputs": [],
   "source": [
    "param_numlags_reparam_cal.append(Sp_nlag)\n",
    "param_numlags_reparam_cal"
   ]
  },
  {
   "cell_type": "markdown",
   "id": "f8558421",
   "metadata": {},
   "source": [
    "##### New Infections Per Shock Parameter"
   ]
  },
  {
   "cell_type": "code",
   "execution_count": null,
   "id": "65598e52",
   "metadata": {},
   "outputs": [],
   "source": [
    "det_num_lags(acf_lag_output_reparam_cal, param_index = 8)"
   ]
  },
  {
   "cell_type": "code",
   "execution_count": null,
   "id": "e3247dfa",
   "metadata": {},
   "outputs": [],
   "source": [
    "det_num_lags(acf_lag_output_reparam_cal_1, param_index = 8)"
   ]
  },
  {
   "cell_type": "code",
   "execution_count": null,
   "id": "b44b29e1",
   "metadata": {},
   "outputs": [],
   "source": [
    "new_infect_nlag = 11310\n",
    "acf_lag_output_reparam_cal_1[8][11310]"
   ]
  },
  {
   "cell_type": "code",
   "execution_count": null,
   "id": "f357ad52",
   "metadata": {},
   "outputs": [],
   "source": [
    "param_numlags_reparam_cal.append(new_infect_nlag)\n",
    "param_numlags_reparam_cal"
   ]
  },
  {
   "cell_type": "markdown",
   "id": "8847c1ae",
   "metadata": {},
   "source": [
    "##### Initially Infected Parameter"
   ]
  },
  {
   "cell_type": "code",
   "execution_count": null,
   "id": "ffbf5aaf",
   "metadata": {},
   "outputs": [],
   "source": [
    "det_num_lags(acf_lag_output_reparam_cal, param_index = 9)"
   ]
  },
  {
   "cell_type": "code",
   "execution_count": null,
   "id": "094c1086",
   "metadata": {},
   "outputs": [],
   "source": [
    "det_num_lags(acf_lag_output_reparam_cal_1, param_index = 9)"
   ]
  },
  {
   "cell_type": "code",
   "execution_count": null,
   "id": "48b0949e",
   "metadata": {},
   "outputs": [],
   "source": [
    "init_infect_nlag = 11310\n",
    "acf_lag_output_reparam_cal_1[9][11310]"
   ]
  },
  {
   "cell_type": "code",
   "execution_count": null,
   "id": "a259497a",
   "metadata": {},
   "outputs": [],
   "source": [
    "param_numlags_reparam_cal.append(init_infect_nlag)\n",
    "param_numlags_reparam_cal"
   ]
  },
  {
   "cell_type": "markdown",
   "id": "955d201b",
   "metadata": {},
   "source": [
    "##### Delay Parameter"
   ]
  },
  {
   "cell_type": "code",
   "execution_count": null,
   "id": "2aa072bd",
   "metadata": {
    "scrolled": true
   },
   "outputs": [],
   "source": [
    "det_num_lags(acf_lag_output_reparam_cal, param_index = 10)"
   ]
  },
  {
   "cell_type": "code",
   "execution_count": null,
   "id": "162e219a",
   "metadata": {},
   "outputs": [],
   "source": [
    "delay_nlag = 1793\n",
    "acf_lag_output_reparam_cal_1[10][1793]"
   ]
  },
  {
   "cell_type": "code",
   "execution_count": null,
   "id": "73959ba1",
   "metadata": {},
   "outputs": [],
   "source": [
    "param_numlags_reparam_cal.append(delay_nlag)\n",
    "param_numlags_reparam_cal"
   ]
  },
  {
   "cell_type": "markdown",
   "id": "35e0fef1",
   "metadata": {},
   "source": [
    "##### Non-compliance Parameter"
   ]
  },
  {
   "cell_type": "code",
   "execution_count": null,
   "id": "109f7711",
   "metadata": {},
   "outputs": [],
   "source": [
    "det_num_lags(acf_lag_output_reparam_cal, param_index = 11)"
   ]
  },
  {
   "cell_type": "code",
   "execution_count": null,
   "id": "52471f6b",
   "metadata": {},
   "outputs": [],
   "source": [
    "non_comp_nlag = 8551\n",
    "acf_lag_output_reparam_cal_1[11][8551]"
   ]
  },
  {
   "cell_type": "code",
   "execution_count": null,
   "id": "55066b30",
   "metadata": {},
   "outputs": [],
   "source": [
    "param_numlags_reparam_cal.append(non_comp_nlag)\n",
    "param_numlags_reparam_cal"
   ]
  },
  {
   "cell_type": "markdown",
   "id": "c4732a2d",
   "metadata": {},
   "source": [
    "### Calculate ESS\n",
    "#### OG Calibration"
   ]
  },
  {
   "cell_type": "code",
   "execution_count": null,
   "id": "84fc34d6",
   "metadata": {},
   "outputs": [],
   "source": [
    "param_numlags_og_cal"
   ]
  },
  {
   "cell_type": "code",
   "execution_count": null,
   "id": "d14d156f",
   "metadata": {},
   "outputs": [],
   "source": [
    "param_numlags_og_cal[8]"
   ]
  },
  {
   "cell_type": "code",
   "execution_count": null,
   "id": "dc18883f",
   "metadata": {},
   "outputs": [],
   "source": [
    "acf_og_burn_in = acf_all_params_num_lags(og_calibration_burn_in, param_numlags_og_cal )"
   ]
  },
  {
   "cell_type": "code",
   "execution_count": null,
   "id": "63c47650",
   "metadata": {},
   "outputs": [],
   "source": [
    "ess_og_burn_in = ess_all_params(acf_og_burn_in, num_samples=len(og_calibration_burn_in[:,0]))"
   ]
  },
  {
   "cell_type": "code",
   "execution_count": null,
   "id": "91f932e7",
   "metadata": {},
   "outputs": [],
   "source": [
    "ess_og_burn_in"
   ]
  },
  {
   "cell_type": "code",
   "execution_count": null,
   "id": "c6ec024c",
   "metadata": {},
   "outputs": [],
   "source": [
    "og_names"
   ]
  },
  {
   "cell_type": "code",
   "execution_count": null,
   "id": "9f941a63",
   "metadata": {},
   "outputs": [],
   "source": [
    "og_ess_df = ess_to_dataframe(ess_og_burn_in, og_names, index_name = ['og calibration'])\n",
    "og_ess_df"
   ]
  },
  {
   "cell_type": "code",
   "execution_count": null,
   "id": "2b4ecaf0",
   "metadata": {},
   "outputs": [],
   "source": [
    "ess_og_cal = tfp.mcmc.effective_sample_size(states_og_cal)\n",
    "print(ess_og_cal)"
   ]
  },
  {
   "cell_type": "markdown",
   "id": "5193a230",
   "metadata": {},
   "source": [
    "#### Initial Infected and Adjusted Testing Term Calibration"
   ]
  },
  {
   "cell_type": "code",
   "execution_count": null,
   "id": "348cefc6",
   "metadata": {},
   "outputs": [],
   "source": [
    "acf_init_infect_adjust_tt_burn_in = acf_all_params_num_lags(initi_infect_adjust_test_terms_burn_in, param_numlags_init_adjust_tt_cal)\n"
   ]
  },
  {
   "cell_type": "code",
   "execution_count": null,
   "id": "bceda19b",
   "metadata": {},
   "outputs": [],
   "source": [
    "ess_init_infect_adjust_tt_burn_in = ess_all_params(acf_init_infect_adjust_tt_burn_in, num_samples=len(initi_infect_adjust_test_terms_burn_in[:,0]))\n"
   ]
  },
  {
   "cell_type": "code",
   "execution_count": null,
   "id": "733afbaa",
   "metadata": {},
   "outputs": [],
   "source": [
    "init_adjust_tt_ess_df = ess_to_dataframe(ess_init_infect_adjust_tt_burn_in, init_infect_adjust_tt_names, index_name = ['initial infect adjust tt calibration'])\n",
    "init_adjust_tt_ess_df"
   ]
  },
  {
   "cell_type": "code",
   "execution_count": null,
   "id": "f5cc9cda",
   "metadata": {
    "scrolled": false
   },
   "outputs": [],
   "source": [
    "ess_init_cal = tfp.mcmc.effective_sample_size(states_init_cal)\n",
    "print(ess_init_cal)"
   ]
  },
  {
   "cell_type": "markdown",
   "id": "59bba642",
   "metadata": {},
   "source": [
    "#### Sp Reparam Calibration"
   ]
  },
  {
   "cell_type": "code",
   "execution_count": null,
   "id": "de154ba9",
   "metadata": {},
   "outputs": [],
   "source": [
    "acf_sp_reparam_burn_in = acf_all_params_num_lags(sp_reparam_burn_in, param_numlags_reparam_cal)\n"
   ]
  },
  {
   "cell_type": "code",
   "execution_count": null,
   "id": "c14afba6",
   "metadata": {},
   "outputs": [],
   "source": [
    "ess_sp_reparam_burn_in = ess_all_params(acf_sp_reparam_burn_in, num_samples=len(sp_reparam_burn_in[:,0]))\n"
   ]
  },
  {
   "cell_type": "code",
   "execution_count": null,
   "id": "b388a70a",
   "metadata": {},
   "outputs": [],
   "source": [
    "sp_reparam_ess_df = ess_to_dataframe(ess_sp_reparam_burn_in, sp_reparam_names, index_name = ['sp reparam calibration'])\n",
    "sp_reparam_ess_df"
   ]
  },
  {
   "cell_type": "code",
   "execution_count": null,
   "id": "5b46cb48",
   "metadata": {},
   "outputs": [],
   "source": []
  },
  {
   "cell_type": "code",
   "execution_count": null,
   "id": "9a874038",
   "metadata": {},
   "outputs": [],
   "source": []
  },
  {
   "cell_type": "code",
   "execution_count": null,
   "id": "0cb33702",
   "metadata": {},
   "outputs": [],
   "source": []
  },
  {
   "cell_type": "code",
   "execution_count": null,
   "id": "5c10c7b8",
   "metadata": {},
   "outputs": [],
   "source": []
  },
  {
   "cell_type": "code",
   "execution_count": null,
   "id": "0e630620",
   "metadata": {},
   "outputs": [],
   "source": []
  }
 ],
 "metadata": {
  "kernelspec": {
   "display_name": "Python 3 (ipykernel)",
   "language": "python",
   "name": "python3"
  },
  "language_info": {
   "codemirror_mode": {
    "name": "ipython",
    "version": 3
   },
   "file_extension": ".py",
   "mimetype": "text/x-python",
   "name": "python",
   "nbconvert_exporter": "python",
   "pygments_lexer": "ipython3",
   "version": "3.11.5"
  }
 },
 "nbformat": 4,
 "nbformat_minor": 5
}
